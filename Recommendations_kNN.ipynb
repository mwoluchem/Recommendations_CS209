{
 "cells": [
  {
   "cell_type": "markdown",
   "metadata": {
    "collapsed": true
   },
   "source": [
    "**Using k-Nearest Neighbors to Identify User Ratings**\n",
    "\n",
    "This particular model uses a concept called neighborhood collaborative filtering to identify a small number of recommended restaurants for a particular user based on the same user's previously-stated preferences for similar restaurants. As was previously mentioned, the sample we are using for this model includes only those reviewers who have reviewed at least 150 restaurants previously, and thus the stated preferences are already present in the sample used for this model. \n",
    "\n",
    "The model included here is based on a solution to the same problem for CS109a in 2013. The documentation for this problem can be found here: http://nbviewer.jupyter.org/github/cs109/content/blob/master/HW4_solutions.ipynb\n"
   ]
  },
  {
   "cell_type": "code",
   "execution_count": 13,
   "metadata": {
    "collapsed": true,
    "hide": true
   },
   "outputs": [],
   "source": [
    "import numpy as np\n",
    "import pandas as pd\n",
    "import matplotlib\n",
    "import matplotlib.pyplot as plt\n",
    "import sklearn.metrics as metrics\n",
    "from sklearn.model_selection import cross_val_score\n",
    "from sklearn import tree\n",
    "from sklearn.tree import DecisionTreeClassifier\n",
    "from sklearn.ensemble import RandomForestClassifier\n",
    "from sklearn.ensemble import AdaBoostClassifier\n",
    "from sklearn.linear_model import LogisticRegressionCV\n",
    "%matplotlib inline"
   ]
  },
  {
   "cell_type": "markdown",
   "metadata": {},
   "source": [
    "**Read in Data**\n",
    "\n",
    "The training and test samples used here were created previously prior to beginning analysis. They are the same training and test sets as have been used in previous models throughout this project. "
   ]
  },
  {
   "cell_type": "code",
   "execution_count": 14,
   "metadata": {},
   "outputs": [],
   "source": [
    "train_data = pd.read_csv('Data/train/OH/train_150.csv')\n",
    "test_data = pd.read_csv('Data/test/OH/test_150.csv')"
   ]
  },
  {
   "cell_type": "code",
   "execution_count": 15,
   "metadata": {},
   "outputs": [
    {
     "data": {
      "text/plain": [
       "((3925, 13), (942, 13))"
      ]
     },
     "execution_count": 15,
     "metadata": {},
     "output_type": "execute_result"
    }
   ],
   "source": [
    "train_data.shape, test_data.shape"
   ]
  },
  {
   "cell_type": "code",
   "execution_count": 16,
   "metadata": {},
   "outputs": [
    {
     "data": {
      "text/html": [
       "<div>\n",
       "<style>\n",
       "    .dataframe thead tr:only-child th {\n",
       "        text-align: right;\n",
       "    }\n",
       "\n",
       "    .dataframe thead th {\n",
       "        text-align: left;\n",
       "    }\n",
       "\n",
       "    .dataframe tbody tr th {\n",
       "        vertical-align: top;\n",
       "    }\n",
       "</style>\n",
       "<table border=\"1\" class=\"dataframe\">\n",
       "  <thead>\n",
       "    <tr style=\"text-align: right;\">\n",
       "      <th></th>\n",
       "      <th>review_date</th>\n",
       "      <th>business_longitude</th>\n",
       "      <th>business_id</th>\n",
       "      <th>business_categories</th>\n",
       "      <th>business_name</th>\n",
       "      <th>business_state</th>\n",
       "      <th>review_score</th>\n",
       "      <th>user_id</th>\n",
       "      <th>user_average_rating</th>\n",
       "      <th>business_review_count</th>\n",
       "      <th>business_average_rating</th>\n",
       "      <th>business_latitude</th>\n",
       "      <th>user_review_count</th>\n",
       "    </tr>\n",
       "  </thead>\n",
       "  <tbody>\n",
       "    <tr>\n",
       "      <th>0</th>\n",
       "      <td>2012-08-09</td>\n",
       "      <td>-81.688974</td>\n",
       "      <td>HNs2Nf-trqFTDtho4vhfmA</td>\n",
       "      <td>['Bars', 'Lounges', 'Restaurants', 'American (...</td>\n",
       "      <td>The South Side</td>\n",
       "      <td>OH</td>\n",
       "      <td>3.0</td>\n",
       "      <td>3Uv0dGI2IXJb2OUj8R2GJA</td>\n",
       "      <td>3.85</td>\n",
       "      <td>275</td>\n",
       "      <td>3.5</td>\n",
       "      <td>41.482026</td>\n",
       "      <td>482</td>\n",
       "    </tr>\n",
       "    <tr>\n",
       "      <th>1</th>\n",
       "      <td>2011-09-27</td>\n",
       "      <td>-81.579720</td>\n",
       "      <td>SP7H3zPArNvbHKQW0c_gpA</td>\n",
       "      <td>['Restaurants', 'Thai', 'Asian Fusion']</td>\n",
       "      <td>High Thai'd</td>\n",
       "      <td>OH</td>\n",
       "      <td>2.0</td>\n",
       "      <td>3Uv0dGI2IXJb2OUj8R2GJA</td>\n",
       "      <td>3.85</td>\n",
       "      <td>100</td>\n",
       "      <td>4.0</td>\n",
       "      <td>41.510991</td>\n",
       "      <td>482</td>\n",
       "    </tr>\n",
       "    <tr>\n",
       "      <th>2</th>\n",
       "      <td>2011-06-20</td>\n",
       "      <td>-81.729861</td>\n",
       "      <td>YgHp9MdZ1vVdYyMEro4TtQ</td>\n",
       "      <td>['Bars', 'Barbeque', 'Pizza', 'American (New)'...</td>\n",
       "      <td>XYZ the Tavern</td>\n",
       "      <td>OH</td>\n",
       "      <td>4.0</td>\n",
       "      <td>3Uv0dGI2IXJb2OUj8R2GJA</td>\n",
       "      <td>3.85</td>\n",
       "      <td>181</td>\n",
       "      <td>4.0</td>\n",
       "      <td>41.484139</td>\n",
       "      <td>482</td>\n",
       "    </tr>\n",
       "    <tr>\n",
       "      <th>3</th>\n",
       "      <td>2014-04-16</td>\n",
       "      <td>-81.730410</td>\n",
       "      <td>wmstf9dw0-kN3YThIxx8eQ</td>\n",
       "      <td>['Irish', 'Bars', 'Pubs', 'Nightlife', 'Restau...</td>\n",
       "      <td>Stone Mad Pub</td>\n",
       "      <td>OH</td>\n",
       "      <td>4.0</td>\n",
       "      <td>3Uv0dGI2IXJb2OUj8R2GJA</td>\n",
       "      <td>3.85</td>\n",
       "      <td>126</td>\n",
       "      <td>3.5</td>\n",
       "      <td>41.486707</td>\n",
       "      <td>482</td>\n",
       "    </tr>\n",
       "    <tr>\n",
       "      <th>4</th>\n",
       "      <td>2010-08-02</td>\n",
       "      <td>-81.690048</td>\n",
       "      <td>Xny0n0s98TpP82sQxfgIMQ</td>\n",
       "      <td>['Polish', 'Nightlife', 'Restaurants', 'Americ...</td>\n",
       "      <td>Sokolowski's University Inn</td>\n",
       "      <td>OH</td>\n",
       "      <td>3.0</td>\n",
       "      <td>3Uv0dGI2IXJb2OUj8R2GJA</td>\n",
       "      <td>3.85</td>\n",
       "      <td>368</td>\n",
       "      <td>4.5</td>\n",
       "      <td>41.484752</td>\n",
       "      <td>482</td>\n",
       "    </tr>\n",
       "  </tbody>\n",
       "</table>\n",
       "</div>"
      ],
      "text/plain": [
       "  review_date  business_longitude             business_id  \\\n",
       "0  2012-08-09          -81.688974  HNs2Nf-trqFTDtho4vhfmA   \n",
       "1  2011-09-27          -81.579720  SP7H3zPArNvbHKQW0c_gpA   \n",
       "2  2011-06-20          -81.729861  YgHp9MdZ1vVdYyMEro4TtQ   \n",
       "3  2014-04-16          -81.730410  wmstf9dw0-kN3YThIxx8eQ   \n",
       "4  2010-08-02          -81.690048  Xny0n0s98TpP82sQxfgIMQ   \n",
       "\n",
       "                                 business_categories  \\\n",
       "0  ['Bars', 'Lounges', 'Restaurants', 'American (...   \n",
       "1            ['Restaurants', 'Thai', 'Asian Fusion']   \n",
       "2  ['Bars', 'Barbeque', 'Pizza', 'American (New)'...   \n",
       "3  ['Irish', 'Bars', 'Pubs', 'Nightlife', 'Restau...   \n",
       "4  ['Polish', 'Nightlife', 'Restaurants', 'Americ...   \n",
       "\n",
       "                 business_name business_state  review_score  \\\n",
       "0               The South Side             OH           3.0   \n",
       "1                  High Thai'd             OH           2.0   \n",
       "2               XYZ the Tavern             OH           4.0   \n",
       "3                Stone Mad Pub             OH           4.0   \n",
       "4  Sokolowski's University Inn             OH           3.0   \n",
       "\n",
       "                  user_id  user_average_rating  business_review_count  \\\n",
       "0  3Uv0dGI2IXJb2OUj8R2GJA                 3.85                    275   \n",
       "1  3Uv0dGI2IXJb2OUj8R2GJA                 3.85                    100   \n",
       "2  3Uv0dGI2IXJb2OUj8R2GJA                 3.85                    181   \n",
       "3  3Uv0dGI2IXJb2OUj8R2GJA                 3.85                    126   \n",
       "4  3Uv0dGI2IXJb2OUj8R2GJA                 3.85                    368   \n",
       "\n",
       "   business_average_rating  business_latitude  user_review_count  \n",
       "0                      3.5          41.482026                482  \n",
       "1                      4.0          41.510991                482  \n",
       "2                      4.0          41.484139                482  \n",
       "3                      3.5          41.486707                482  \n",
       "4                      4.5          41.484752                482  "
      ]
     },
     "execution_count": 16,
     "metadata": {},
     "output_type": "execute_result"
    }
   ],
   "source": [
    "train_data.head()"
   ]
  },
  {
   "cell_type": "markdown",
   "metadata": {},
   "source": [
    "**Data Cleaning**\n",
    "\n",
    "Because this model is based on a user's previous experiences with similar restaurants, we need a way to define which restaurants in this dataset are similar to one another. One such measure is a \"common user support\", which shows the number of users who have rated any particular pair of restaurants. We need such a measurement because common user support can be used later throughout this problem as a proxy for how similar a pair of restaurants may be to each other.  "
   ]
  },
  {
   "cell_type": "code",
   "execution_count": 17,
   "metadata": {},
   "outputs": [
    {
     "name": "stdout",
     "output_type": "stream",
     "text": [
      "Mean support is: 0.259574439166\n"
     ]
    },
    {
     "data": {
      "text/plain": [
       "(array([  1.42330300e+06,   3.55450000e+04,   8.73300000e+03,\n",
       "          2.49000000e+03,   8.62000000e+02,   3.44000000e+02,\n",
       "          1.31000000e+02,   4.20000000e+01,   1.70000000e+01,\n",
       "          3.00000000e+00]),\n",
       " array([  0. ,   1.1,   2.2,   3.3,   4.4,   5.5,   6.6,   7.7,   8.8,\n",
       "          9.9,  11. ]),\n",
       " <a list of 10 Patch objects>)"
      ]
     },
     "execution_count": 17,
     "metadata": {},
     "output_type": "execute_result"
    },
    {
     "data": {
      "image/png": "[encoded data removed]",
      "text/plain": [
       "<matplotlib.figure.Figure at 0x112663d68>"
      ]
     },
     "metadata": {},
     "output_type": "display_data"
    }
   ],
   "source": [
    "restaurants=train_data.business_id.unique()\n",
    "supports=[]\n",
    "for i,rest1 in enumerate(restaurants):\n",
    "    for j,rest2 in enumerate(restaurants):\n",
    "        if  i < j:\n",
    "            rest1_reviewers = train_data[train_data.business_id==rest1].user_id.unique()\n",
    "            rest2_reviewers = train_data[train_data.business_id==rest2].user_id.unique()\n",
    "            common_reviewers = set(rest1_reviewers).intersection(rest2_reviewers)\n",
    "            supports.append(len(common_reviewers))\n",
    "print(\"Mean support is:\",np.mean(supports))\n",
    "plt.hist(supports)"
   ]
  },
  {
   "cell_type": "markdown",
   "metadata": {},
   "source": [
    "On average, we find that there are very few pairs of restaurants that share a reviewer. We will disregard this to continue on with the creation of this model. \n",
    "\n",
    "**Create Database**\n",
    "\n",
    "Now that we have defined similar restaurants, we use this information to create a database of information about each pair of restaurants. The following information is saved:\n",
    "\n",
    "- Rho: correlation measure that determines the correlation coefficient between the users' average ratings for each restaurant pairing. As an edit to the original referenced solution, this function will return a rho (Pearson's similarity index) equal to 0 when the variance in a particular set of reviews is equal to 0 for a particular pair of restaurants. Created in the \"pearson_sim\" function.\n",
    "\n",
    "- Restaurant reviews: A set of reviews given a particular restaurant and a shared set of reviewers. Created in the \"get_restaurant_reviews\" function. \n",
    "\n",
    "- Sim: A similarity of any two sets of restaurants given a shared set of reviewers and the reviews of those users. Created in the \"calculate_similarity\" function.\n",
    "\n",
    "All of this information is wrapped up into a database called \"db\", which holds information about each pair of businesses in the dataset for Ohio. "
   ]
  },
  {
   "cell_type": "code",
   "execution_count": 19,
   "metadata": {
    "collapsed": true
   },
   "outputs": [],
   "source": [
    "from scipy.stats.stats import pearsonr\n",
    "def pearson_sim(rest1_reviews, rest2_reviews, n_common):\n",
    "    \"\"\"\n",
    "    Given a subframe of restaurant 1 reviews and a subframe of restaurant 2 reviews,\n",
    "    where the reviewers are those who have reviewed both restaurants, return \n",
    "    the pearson correlation coefficient between the user average subtracted ratings.\n",
    "    The case for zero common reviewers is handled separately. Its\n",
    "    ok to return a NaN if any of the individual variances are 0.\n",
    "    \"\"\"\n",
    "    if n_common==0:\n",
    "        rho=0.\n",
    "    else:\n",
    "        diff1=rest1_reviews['business_average_rating']-rest1_reviews['user_average_rating']\n",
    "        diff2=rest2_reviews['business_average_rating']-rest2_reviews['user_average_rating']\n",
    "        try:\n",
    "            rho=pearsonr(diff1, diff2)[0]\n",
    "        except:\n",
    "            return 0\n",
    "    return rho"
   ]
  },
  {
   "cell_type": "code",
   "execution_count": 21,
   "metadata": {
    "collapsed": true
   },
   "outputs": [],
   "source": [
    "def get_restaurant_reviews(restaurant_id, df, set_of_users):\n",
    "    \"\"\"\n",
    "    given a resturant id and a set of reviewers, return the sub-dataframe of their\n",
    "    reviews.\n",
    "    \"\"\"\n",
    "    mask = (df.user_id.isin(set_of_users)) & (df.business_id==restaurant_id)\n",
    "    reviews = df[mask]\n",
    "    reviews = reviews[reviews.user_id.duplicated()==False]\n",
    "    return reviews"
   ]
  },
  {
   "cell_type": "code",
   "execution_count": 23,
   "metadata": {
    "collapsed": true
   },
   "outputs": [],
   "source": [
    "def calculate_similarity(rest1, rest2, df, similarity_func):\n",
    "    # find common reviewers\n",
    "    rest1_reviewers = df[df.business_id==rest1].user_id.unique()\n",
    "    rest2_reviewers = df[df.business_id==rest2].user_id.unique()\n",
    "    common_reviewers = set(rest1_reviewers).intersection(rest2_reviewers)\n",
    "    n_common=len(common_reviewers)\n",
    "    #get reviews\n",
    "    rest1_reviews = get_restaurant_reviews(rest1, df, common_reviewers)\n",
    "    rest2_reviews = get_restaurant_reviews(rest2, df, common_reviewers)\n",
    "    sim=similarity_func(rest1_reviews, rest2_reviews, n_common)\n",
    "    if np.isnan(sim):\n",
    "        return 0, n_common\n",
    "    return sim, n_common"
   ]
  },
  {
   "cell_type": "code",
   "execution_count": 25,
   "metadata": {
    "collapsed": true
   },
   "outputs": [],
   "source": [
    "class Database:\n",
    "    \n",
    "    \n",
    "    def __init__(self, df):\n",
    "        \n",
    "        database={}\n",
    "        self.df=df\n",
    "        self.uniquebizids={v:k for (k,v) in enumerate(df.business_id.unique())}\n",
    "        keys=self.uniquebizids.keys()\n",
    "        l_keys=len(keys)\n",
    "        self.database_sim=np.zeros([l_keys,l_keys])\n",
    "        self.database_sup=np.zeros([l_keys, l_keys], dtype=np.int)\n",
    "        \n",
    "    def populate_by_calculating(self, similarity_func):\n",
    "        \n",
    "        items=self.uniquebizids.items()\n",
    "        for b1, i1 in items:\n",
    "            for b2, i2 in items:\n",
    "                if i1 < i2:\n",
    "                    sim, nsup=calculate_similarity(b1, b2, self.df, similarity_func)\n",
    "                    self.database_sim[i1][i2]=sim\n",
    "                    self.database_sim[i2][i1]=sim\n",
    "                    self.database_sup[i1][i2]=nsup\n",
    "                    self.database_sup[i2][i1]=nsup\n",
    "                elif i1==i2:\n",
    "                    nsup=self.df[self.df.business_id==b1].user_id.count()\n",
    "                    self.database_sim[i1][i1]=1.\n",
    "                    self.database_sup[i1][i1]=nsup\n",
    "                    \n",
    "\n",
    "    def get(self, b1, b2):\n",
    "        \n",
    "        sim=self.database_sim[self.uniquebizids[b1]][self.uniquebizids[b2]]\n",
    "        nsup=self.database_sup[self.uniquebizids[b1]][self.uniquebizids[b2]]\n",
    "        return (sim, nsup)"
   ]
  },
  {
   "cell_type": "code",
   "execution_count": 27,
   "metadata": {
    "collapsed": true
   },
   "outputs": [],
   "source": [
    "np.seterr(all='raise')\n",
    "db=Database(train_data)\n",
    "db.populate_by_calculating(pearson_sim)"
   ]
  },
  {
   "cell_type": "markdown",
   "metadata": {},
   "source": [
    "**Cleaning the Database**\n",
    "\n",
    "The function \"shrunk_sim\" regularizes the similarity index used in the above database to make it easier to work with, particularly since we are working in a state with such a low number of shared users fore each pair of restaurants. This lessens the effect of small common supports. "
   ]
  },
  {
   "cell_type": "code",
   "execution_count": 29,
   "metadata": {
    "collapsed": true
   },
   "outputs": [],
   "source": [
    "def shrunk_sim(sim, n_common, reg=3.):\n",
    "    \"takes a similarity and shrinks it down by using the regularizer\"\n",
    "    ssim=(n_common*sim)/(n_common+reg)\n",
    "    return ssim"
   ]
  },
  {
   "cell_type": "markdown",
   "metadata": {
    "collapsed": true
   },
   "source": [
    "**Creating a kNN prediction of user preferences**\n",
    "\n",
    "Based on the information in this similarity index, we can find use this to find similar neighbors, making it easier to use a kNN regression to find predictions. \n",
    "\n",
    "This process is led by a number of functions that do the following:\n",
    "\n",
    "- knearest: Creates a sorted list of similar restaurants given a particular restaurant. \n",
    "- get_user_top_choices: Retrieves the top 5 restaurants for a user based on a user's star ratings.\n",
    "- get_top_recos_for_user: Retrieves a sorted list of a user's recommendations, using the results of the \"knearest\" function above\n",
    "- knearest_among_userrated: Returns a list of the best recommendations of restaurants given a user's previous rated. \n",
    "- rating: Returns the ratings for those best recommendations of restaurants\n",
    "- find_RMSE: Finds out how well you predicted, for both your test and train data! (Uses RMSE as a measure of predictability)"
   ]
  },
  {
   "cell_type": "code",
   "execution_count": 32,
   "metadata": {
    "collapsed": true
   },
   "outputs": [],
   "source": [
    "from operator import itemgetter\n",
    "def knearest(restaurant_id, set_of_restaurants, dbase, k=7, reg=3.):\n",
    "    \n",
    "    similars=[]\n",
    "    for other_rest_id in set_of_restaurants:\n",
    "        if other_rest_id!=restaurant_id:\n",
    "            sim, nc=dbase.get(restaurant_id, other_rest_id)\n",
    "            ssim=shrunk_sim(sim, nc, reg=reg)\n",
    "            similars.append((other_rest_id, ssim, nc ))\n",
    "    similars=sorted(similars, key=itemgetter(1), reverse=True)\n",
    "    return similars[0:k]"
   ]
  },
  {
   "cell_type": "code",
   "execution_count": 33,
   "metadata": {
    "collapsed": true
   },
   "outputs": [],
   "source": [
    "def get_user_top_choices(user_id, df, numchoices=5):\n",
    "    udf=df[df.user_id==user_id][['business_id','review_score']].head(numchoices)\n",
    "    return udf"
   ]
  },
  {
   "cell_type": "code",
   "execution_count": 34,
   "metadata": {
    "collapsed": true
   },
   "outputs": [],
   "source": [
    "def get_top_recos_for_user(userid, df, dbase, n=5, k=7, reg=3.):\n",
    "    bizs=get_user_top_choices(userid, df, numchoices=n)['business_id'].values\n",
    "    rated_by_user=df[df.user_id==userid].business_id.values\n",
    "    tops=[]\n",
    "    for ele in bizs:\n",
    "        t=knearest(ele, df.business_id.unique(), dbase, k=k, reg=reg)\n",
    "        for e in t:\n",
    "            if e[0] not in rated_by_user:\n",
    "                tops.append(e)\n",
    "\n",
    "    #there might be repeats. unique it\n",
    "    ids=[e[0] for e in tops]\n",
    "    uids={k:0 for k in list(set(ids))}\n",
    "\n",
    "    topsu=[]\n",
    "    for e in tops:\n",
    "        if uids[e[0]] == 0:\n",
    "            topsu.append(e)\n",
    "            uids[e[0]] =1\n",
    "    topsr=[]     \n",
    "    for r, s,nc in topsu:\n",
    "        avg_rate=df[df.business_id==r].review_score.mean()\n",
    "        topsr.append((r,avg_rate))\n",
    "        \n",
    "    topsr=sorted(topsr, key=itemgetter(1), reverse=True)\n",
    "\n",
    "    if n < len(topsr):\n",
    "        \n",
    "        return topsr[0:n]\n",
    "    else:\n",
    "        \n",
    "        return topsr"
   ]
  },
  {
   "cell_type": "code",
   "execution_count": 35,
   "metadata": {
    "collapsed": true
   },
   "outputs": [],
   "source": [
    "def knearest_amongst_userrated(restaurant_id, user_id, df, dbase, k=7, reg=3.):\n",
    "    dfuser=df[df.user_id==user_id]\n",
    "    bizsuserhasrated=dfuser.business_id.unique()\n",
    "    return knearest(restaurant_id, bizsuserhasrated, dbase, k=k, reg=reg)"
   ]
  },
  {
   "cell_type": "code",
   "execution_count": 36,
   "metadata": {
    "collapsed": true
   },
   "outputs": [],
   "source": [
    "def rating(df, dbase, restaurant_id, user_id, k=7, reg=3.):\n",
    "    mu=df.review_score.mean()\n",
    "    users_reviews=df[df.user_id==user_id]\n",
    "    nsum=0.\n",
    "    scoresum=0.\n",
    "    nears=knearest_amongst_userrated(restaurant_id, user_id, df, dbase, k=k, reg=reg)\n",
    "    restaurant_mean=df[df.business_id==restaurant_id].business_average_rating.values[0]\n",
    "    user_mean=users_reviews.user_average_rating.values[0]\n",
    "    scores=[]\n",
    "    for r,s,nc in nears:\n",
    "        scoresum=scoresum+s\n",
    "        scores.append(s)\n",
    "        r_reviews_row=users_reviews[users_reviews['business_id']==r]\n",
    "        r_stars=r_reviews_row.review_score.values[0]\n",
    "        r_avg=r_reviews_row.business_average_rating.values[0]\n",
    "        rminusb=(r_stars - (r_avg + user_mean - mu))\n",
    "        nsum=nsum+s*rminusb\n",
    "    baseline=(user_mean +restaurant_mean - mu)\n",
    "    #we might have nears, but there might be no commons, giving us a pearson of 0\n",
    "    if scoresum > 0.:\n",
    "        val =  nsum/scoresum + baseline\n",
    "    else:\n",
    "        val=baseline\n",
    "    return val"
   ]
  },
  {
   "cell_type": "code",
   "execution_count": 37,
   "metadata": {
    "collapsed": true
   },
   "outputs": [],
   "source": [
    "def find_RMSE(df,k,reg):\n",
    "    uid=df.user_id.values\n",
    "    bid=df.business_id.values\n",
    "    actual=df.review_score.values\n",
    "    predicted=np.zeros(len(actual))\n",
    "    counter=0\n",
    "    for user_id, biz_id in zip(uid,bid):\n",
    "        predicted[counter]=rating(train_data, db, biz_id, user_id, k=k, reg=reg) \n",
    "        counter=counter+1\n",
    "    #compare_results(actual, predicted)\n",
    "    print(\"RMSE: \",sqrt(mean_squared_error(actual, predicted)))"
   ]
  },
  {
   "cell_type": "markdown",
   "metadata": {},
   "source": [
    "**Great News! So how did we do?**"
   ]
  },
  {
   "cell_type": "code",
   "execution_count": 39,
   "metadata": {
    "collapsed": true
   },
   "outputs": [],
   "source": [
    "from math import sqrt\n",
    "from sklearn.metrics import mean_squared_error"
   ]
  },
  {
   "cell_type": "code",
   "execution_count": 40,
   "metadata": {},
   "outputs": [
    {
     "name": "stdout",
     "output_type": "stream",
     "text": [
      "RMSE:  0.9943598895579021\n"
     ]
    },
    {
     "ename": "KeyError",
     "evalue": "'XgUlUmrktr2Um2gczYeYpg'",
     "output_type": "error",
     "traceback": [
      "\u001b[0;31m---------------------------------------------------------------------------\u001b[0m",
      "\u001b[0;31mKeyError\u001b[0m                                  Traceback (most recent call last)",
      "\u001b[0;32m<ipython-input-40-aafdcb5dc0ef>\u001b[0m in \u001b[0;36m<module>\u001b[0;34m()\u001b[0m\n\u001b[1;32m      1\u001b[0m \u001b[0mfind_RMSE\u001b[0m\u001b[0;34m(\u001b[0m\u001b[0mtrain_data\u001b[0m\u001b[0;34m,\u001b[0m\u001b[0;36m3\u001b[0m\u001b[0;34m,\u001b[0m\u001b[0;36m3.\u001b[0m\u001b[0;34m)\u001b[0m\u001b[0;34m\u001b[0m\u001b[0m\n\u001b[0;32m----> 2\u001b[0;31m \u001b[0mfind_RMSE\u001b[0m\u001b[0;34m(\u001b[0m\u001b[0mtest_data\u001b[0m\u001b[0;34m,\u001b[0m\u001b[0;36m3\u001b[0m\u001b[0;34m,\u001b[0m\u001b[0;36m3.\u001b[0m\u001b[0;34m)\u001b[0m\u001b[0;34m\u001b[0m\u001b[0m\n\u001b[0m",
      "\u001b[0;32m<ipython-input-37-be94852e5281>\u001b[0m in \u001b[0;36mfind_RMSE\u001b[0;34m(df, k, reg)\u001b[0m\n\u001b[1;32m      6\u001b[0m     \u001b[0mcounter\u001b[0m\u001b[0;34m=\u001b[0m\u001b[0;36m0\u001b[0m\u001b[0;34m\u001b[0m\u001b[0m\n\u001b[1;32m      7\u001b[0m     \u001b[0;32mfor\u001b[0m \u001b[0muser_id\u001b[0m\u001b[0;34m,\u001b[0m \u001b[0mbiz_id\u001b[0m \u001b[0;32min\u001b[0m \u001b[0mzip\u001b[0m\u001b[0;34m(\u001b[0m\u001b[0muid\u001b[0m\u001b[0;34m,\u001b[0m\u001b[0mbid\u001b[0m\u001b[0;34m)\u001b[0m\u001b[0;34m:\u001b[0m\u001b[0;34m\u001b[0m\u001b[0m\n\u001b[0;32m----> 8\u001b[0;31m         \u001b[0mpredicted\u001b[0m\u001b[0;34m[\u001b[0m\u001b[0mcounter\u001b[0m\u001b[0;34m]\u001b[0m\u001b[0;34m=\u001b[0m\u001b[0mrating\u001b[0m\u001b[0;34m(\u001b[0m\u001b[0mtrain_data\u001b[0m\u001b[0;34m,\u001b[0m \u001b[0mdb\u001b[0m\u001b[0;34m,\u001b[0m \u001b[0mbiz_id\u001b[0m\u001b[0;34m,\u001b[0m \u001b[0muser_id\u001b[0m\u001b[0;34m,\u001b[0m \u001b[0mk\u001b[0m\u001b[0;34m=\u001b[0m\u001b[0mk\u001b[0m\u001b[0;34m,\u001b[0m \u001b[0mreg\u001b[0m\u001b[0;34m=\u001b[0m\u001b[0mreg\u001b[0m\u001b[0;34m)\u001b[0m\u001b[0;34m\u001b[0m\u001b[0m\n\u001b[0m\u001b[1;32m      9\u001b[0m         \u001b[0mcounter\u001b[0m\u001b[0;34m=\u001b[0m\u001b[0mcounter\u001b[0m\u001b[0;34m+\u001b[0m\u001b[0;36m1\u001b[0m\u001b[0;34m\u001b[0m\u001b[0m\n\u001b[1;32m     10\u001b[0m     \u001b[0;31m#compare_results(actual, predicted)\u001b[0m\u001b[0;34m\u001b[0m\u001b[0;34m\u001b[0m\u001b[0m\n",
      "\u001b[0;32m<ipython-input-36-22b9dcd48cef>\u001b[0m in \u001b[0;36mrating\u001b[0;34m(df, dbase, restaurant_id, user_id, k, reg)\u001b[0m\n\u001b[1;32m      4\u001b[0m     \u001b[0mnsum\u001b[0m\u001b[0;34m=\u001b[0m\u001b[0;36m0.\u001b[0m\u001b[0;34m\u001b[0m\u001b[0m\n\u001b[1;32m      5\u001b[0m     \u001b[0mscoresum\u001b[0m\u001b[0;34m=\u001b[0m\u001b[0;36m0.\u001b[0m\u001b[0;34m\u001b[0m\u001b[0m\n\u001b[0;32m----> 6\u001b[0;31m     \u001b[0mnears\u001b[0m\u001b[0;34m=\u001b[0m\u001b[0mknearest_amongst_userrated\u001b[0m\u001b[0;34m(\u001b[0m\u001b[0mrestaurant_id\u001b[0m\u001b[0;34m,\u001b[0m \u001b[0muser_id\u001b[0m\u001b[0;34m,\u001b[0m \u001b[0mdf\u001b[0m\u001b[0;34m,\u001b[0m \u001b[0mdbase\u001b[0m\u001b[0;34m,\u001b[0m \u001b[0mk\u001b[0m\u001b[0;34m=\u001b[0m\u001b[0mk\u001b[0m\u001b[0;34m,\u001b[0m \u001b[0mreg\u001b[0m\u001b[0;34m=\u001b[0m\u001b[0mreg\u001b[0m\u001b[0;34m)\u001b[0m\u001b[0;34m\u001b[0m\u001b[0m\n\u001b[0m\u001b[1;32m      7\u001b[0m     \u001b[0mrestaurant_mean\u001b[0m\u001b[0;34m=\u001b[0m\u001b[0mdf\u001b[0m\u001b[0;34m[\u001b[0m\u001b[0mdf\u001b[0m\u001b[0;34m.\u001b[0m\u001b[0mbusiness_id\u001b[0m\u001b[0;34m==\u001b[0m\u001b[0mrestaurant_id\u001b[0m\u001b[0;34m]\u001b[0m\u001b[0;34m.\u001b[0m\u001b[0mbusiness_average_rating\u001b[0m\u001b[0;34m.\u001b[0m\u001b[0mvalues\u001b[0m\u001b[0;34m[\u001b[0m\u001b[0;36m0\u001b[0m\u001b[0;34m]\u001b[0m\u001b[0;34m\u001b[0m\u001b[0m\n\u001b[1;32m      8\u001b[0m     \u001b[0muser_mean\u001b[0m\u001b[0;34m=\u001b[0m\u001b[0musers_reviews\u001b[0m\u001b[0;34m.\u001b[0m\u001b[0muser_average_rating\u001b[0m\u001b[0;34m.\u001b[0m\u001b[0mvalues\u001b[0m\u001b[0;34m[\u001b[0m\u001b[0;36m0\u001b[0m\u001b[0;34m]\u001b[0m\u001b[0;34m\u001b[0m\u001b[0m\n",
      "\u001b[0;32m<ipython-input-35-f8070256e1e3>\u001b[0m in \u001b[0;36mknearest_amongst_userrated\u001b[0;34m(restaurant_id, user_id, df, dbase, k, reg)\u001b[0m\n\u001b[1;32m      2\u001b[0m     \u001b[0mdfuser\u001b[0m\u001b[0;34m=\u001b[0m\u001b[0mdf\u001b[0m\u001b[0;34m[\u001b[0m\u001b[0mdf\u001b[0m\u001b[0;34m.\u001b[0m\u001b[0muser_id\u001b[0m\u001b[0;34m==\u001b[0m\u001b[0muser_id\u001b[0m\u001b[0;34m]\u001b[0m\u001b[0;34m\u001b[0m\u001b[0m\n\u001b[1;32m      3\u001b[0m     \u001b[0mbizsuserhasrated\u001b[0m\u001b[0;34m=\u001b[0m\u001b[0mdfuser\u001b[0m\u001b[0;34m.\u001b[0m\u001b[0mbusiness_id\u001b[0m\u001b[0;34m.\u001b[0m\u001b[0munique\u001b[0m\u001b[0;34m(\u001b[0m\u001b[0;34m)\u001b[0m\u001b[0;34m\u001b[0m\u001b[0m\n\u001b[0;32m----> 4\u001b[0;31m     \u001b[0;32mreturn\u001b[0m \u001b[0mknearest\u001b[0m\u001b[0;34m(\u001b[0m\u001b[0mrestaurant_id\u001b[0m\u001b[0;34m,\u001b[0m \u001b[0mbizsuserhasrated\u001b[0m\u001b[0;34m,\u001b[0m \u001b[0mdbase\u001b[0m\u001b[0;34m,\u001b[0m \u001b[0mk\u001b[0m\u001b[0;34m=\u001b[0m\u001b[0mk\u001b[0m\u001b[0;34m,\u001b[0m \u001b[0mreg\u001b[0m\u001b[0;34m=\u001b[0m\u001b[0mreg\u001b[0m\u001b[0;34m)\u001b[0m\u001b[0;34m\u001b[0m\u001b[0m\n\u001b[0m",
      "\u001b[0;32m<ipython-input-32-e7fc4dccedc9>\u001b[0m in \u001b[0;36mknearest\u001b[0;34m(restaurant_id, set_of_restaurants, dbase, k, reg)\u001b[0m\n\u001b[1;32m      5\u001b[0m     \u001b[0;32mfor\u001b[0m \u001b[0mother_rest_id\u001b[0m \u001b[0;32min\u001b[0m \u001b[0mset_of_restaurants\u001b[0m\u001b[0;34m:\u001b[0m\u001b[0;34m\u001b[0m\u001b[0m\n\u001b[1;32m      6\u001b[0m         \u001b[0;32mif\u001b[0m \u001b[0mother_rest_id\u001b[0m\u001b[0;34m!=\u001b[0m\u001b[0mrestaurant_id\u001b[0m\u001b[0;34m:\u001b[0m\u001b[0;34m\u001b[0m\u001b[0m\n\u001b[0;32m----> 7\u001b[0;31m             \u001b[0msim\u001b[0m\u001b[0;34m,\u001b[0m \u001b[0mnc\u001b[0m\u001b[0;34m=\u001b[0m\u001b[0mdbase\u001b[0m\u001b[0;34m.\u001b[0m\u001b[0mget\u001b[0m\u001b[0;34m(\u001b[0m\u001b[0mrestaurant_id\u001b[0m\u001b[0;34m,\u001b[0m \u001b[0mother_rest_id\u001b[0m\u001b[0;34m)\u001b[0m\u001b[0;34m\u001b[0m\u001b[0m\n\u001b[0m\u001b[1;32m      8\u001b[0m             \u001b[0mssim\u001b[0m\u001b[0;34m=\u001b[0m\u001b[0mshrunk_sim\u001b[0m\u001b[0;34m(\u001b[0m\u001b[0msim\u001b[0m\u001b[0;34m,\u001b[0m \u001b[0mnc\u001b[0m\u001b[0;34m,\u001b[0m \u001b[0mreg\u001b[0m\u001b[0;34m=\u001b[0m\u001b[0mreg\u001b[0m\u001b[0;34m)\u001b[0m\u001b[0;34m\u001b[0m\u001b[0m\n\u001b[1;32m      9\u001b[0m             \u001b[0msimilars\u001b[0m\u001b[0;34m.\u001b[0m\u001b[0mappend\u001b[0m\u001b[0;34m(\u001b[0m\u001b[0;34m(\u001b[0m\u001b[0mother_rest_id\u001b[0m\u001b[0;34m,\u001b[0m \u001b[0mssim\u001b[0m\u001b[0;34m,\u001b[0m \u001b[0mnc\u001b[0m \u001b[0;34m)\u001b[0m\u001b[0;34m)\u001b[0m\u001b[0;34m\u001b[0m\u001b[0m\n",
      "\u001b[0;32m<ipython-input-25-7292897fbdd7>\u001b[0m in \u001b[0;36mget\u001b[0;34m(self, b1, b2)\u001b[0m\n\u001b[1;32m     34\u001b[0m     \u001b[0;32mdef\u001b[0m \u001b[0mget\u001b[0m\u001b[0;34m(\u001b[0m\u001b[0mself\u001b[0m\u001b[0;34m,\u001b[0m \u001b[0mb1\u001b[0m\u001b[0;34m,\u001b[0m \u001b[0mb2\u001b[0m\u001b[0;34m)\u001b[0m\u001b[0;34m:\u001b[0m\u001b[0;34m\u001b[0m\u001b[0m\n\u001b[1;32m     35\u001b[0m         \u001b[0;34m\"returns a tuple of similarity,common_support given two business ids\"\u001b[0m\u001b[0;34m\u001b[0m\u001b[0m\n\u001b[0;32m---> 36\u001b[0;31m         \u001b[0msim\u001b[0m\u001b[0;34m=\u001b[0m\u001b[0mself\u001b[0m\u001b[0;34m.\u001b[0m\u001b[0mdatabase_sim\u001b[0m\u001b[0;34m[\u001b[0m\u001b[0mself\u001b[0m\u001b[0;34m.\u001b[0m\u001b[0muniquebizids\u001b[0m\u001b[0;34m[\u001b[0m\u001b[0mb1\u001b[0m\u001b[0;34m]\u001b[0m\u001b[0;34m]\u001b[0m\u001b[0;34m[\u001b[0m\u001b[0mself\u001b[0m\u001b[0;34m.\u001b[0m\u001b[0muniquebizids\u001b[0m\u001b[0;34m[\u001b[0m\u001b[0mb2\u001b[0m\u001b[0;34m]\u001b[0m\u001b[0;34m]\u001b[0m\u001b[0;34m\u001b[0m\u001b[0m\n\u001b[0m\u001b[1;32m     37\u001b[0m         \u001b[0mnsup\u001b[0m\u001b[0;34m=\u001b[0m\u001b[0mself\u001b[0m\u001b[0;34m.\u001b[0m\u001b[0mdatabase_sup\u001b[0m\u001b[0;34m[\u001b[0m\u001b[0mself\u001b[0m\u001b[0;34m.\u001b[0m\u001b[0muniquebizids\u001b[0m\u001b[0;34m[\u001b[0m\u001b[0mb1\u001b[0m\u001b[0;34m]\u001b[0m\u001b[0;34m]\u001b[0m\u001b[0;34m[\u001b[0m\u001b[0mself\u001b[0m\u001b[0;34m.\u001b[0m\u001b[0muniquebizids\u001b[0m\u001b[0;34m[\u001b[0m\u001b[0mb2\u001b[0m\u001b[0;34m]\u001b[0m\u001b[0;34m]\u001b[0m\u001b[0;34m\u001b[0m\u001b[0m\n\u001b[1;32m     38\u001b[0m         \u001b[0;32mreturn\u001b[0m \u001b[0;34m(\u001b[0m\u001b[0msim\u001b[0m\u001b[0;34m,\u001b[0m \u001b[0mnsup\u001b[0m\u001b[0;34m)\u001b[0m\u001b[0;34m\u001b[0m\u001b[0m\n",
      "\u001b[0;31mKeyError\u001b[0m: 'XgUlUmrktr2Um2gczYeYpg'"
     ]
    }
   ],
   "source": [
    "find_RMSE(train_data,3,3.)\n",
    "find_RMSE(test_data,3,3.)"
   ]
  },
  {
   "cell_type": "markdown",
   "metadata": {},
   "source": [
    "**What happened?**\n",
    "\n",
    "Well, we have an error above. As we discovered, we had the same users in both the test and train sets, but we forgot to make sure we had the same restaurants also in test and train. Unfortunately, it took 4 hours to create the similarity database the first time we made it so we thought it best to forego the gray hairs and miss out on seeing our (hopefully low) RMSE for the testing set. "
   ]
  },
  {
   "cell_type": "markdown",
   "metadata": {},
   "source": [
    "**Good news - we can still do lots of fun things**\n",
    "\n",
    "We'll take a moment to avoid sulking and instead make some fun predictions. Given some sample business IDs from above, we try to see what recommendations we come up with. Given some test businesses and a test user, let's find out what our recommender would provide. "
   ]
  },
  {
   "cell_type": "code",
   "execution_count": 41,
   "metadata": {
    "collapsed": true
   },
   "outputs": [],
   "source": [
    "testbizid=\"HNs2Nf-trqFTDtho4vhfmA\"\n",
    "testbizid2=\"SP7H3zPArNvbHKQW0c_gpA\"\n",
    "testuserid=\"3Uv0dGI2IXJb2OUj8R2GJA\""
   ]
  },
  {
   "cell_type": "code",
   "execution_count": 42,
   "metadata": {
    "collapsed": true
   },
   "outputs": [],
   "source": [
    "def biznamefromid(df, theid):\n",
    "    return df['business_name'][df['business_id']==theid].values[0]\n",
    "def usernamefromid(df, theid):\n",
    "    return df['user_id'][df['user_id']==theid].values[0]"
   ]
  },
  {
   "cell_type": "markdown",
   "metadata": {},
   "source": [
    "**Given you like business #1, what else might you like?**"
   ]
  },
  {
   "cell_type": "code",
   "execution_count": 43,
   "metadata": {},
   "outputs": [
    {
     "name": "stdout",
     "output_type": "stream",
     "text": [
      "For  The South Side , top matches are:\n",
      "0 Market Garden Brewery | Sim 0.769230769231 | Support 10\n",
      "1 Tremont Taphouse | Sim 0.75 | Support 9\n",
      "2 Great Lakes Brewing Company | Sim 0.75 | Support 9\n",
      "3 Superior Pho | Sim 0.727272727273 | Support 8\n",
      "4 The Greenhouse Tavern | Sim 0.727272727273 | Support 8\n",
      "5 Happy Dog | Sim 0.727272727273 | Support 8\n",
      "6 Forage Public House | Sim 0.727272727273 | Support 8\n"
     ]
    }
   ],
   "source": [
    "tops=knearest(testbizid, train_data.business_id.unique(), db, k=7, reg=3.)\n",
    "print( \"For \",biznamefromid(train_data, testbizid), \", top matches are:\")\n",
    "for i, (biz_id, sim, nc) in enumerate(tops):\n",
    "    print( i,biznamefromid(train_data,biz_id), \"| Sim\", sim, \"| Support\",nc)"
   ]
  },
  {
   "cell_type": "markdown",
   "metadata": {
    "collapsed": true
   },
   "source": [
    "**How about business #2?**"
   ]
  },
  {
   "cell_type": "code",
   "execution_count": 44,
   "metadata": {},
   "outputs": [
    {
     "name": "stdout",
     "output_type": "stream",
     "text": [
      "For  High Thai'd , top matches are:\n",
      "0 Townhall | Sim 0.5 | Support 3\n",
      "1 Beachland Ballroom and Tavern | Sim 0.5 | Support 3\n",
      "2 Chutney Rolls | Sim 0.5 | Support 3\n",
      "3 Felice | Sim 0.5 | Support 3\n",
      "4 Tommy's Restaurant | Sim 0.5 | Support 3\n",
      "5 Flying Fig | Sim 0.5 | Support 3\n",
      "6 Deagan's Kitchen & Bar | Sim 0.5 | Support 3\n"
     ]
    }
   ],
   "source": [
    "tops2=knearest(testbizid2, train_data.business_id.unique(), db, k=7, reg=3.)\n",
    "print(\"For \",biznamefromid(train_data, testbizid2), \", top matches are:\")\n",
    "for i, (biz_id, sim, nc) in enumerate(tops2):\n",
    "    print(i,biznamefromid(train_data,biz_id), \"| Sim\", sim, \"| Support\",nc)"
   ]
  },
  {
   "cell_type": "markdown",
   "metadata": {
    "collapsed": true
   },
   "source": [
    "**And how do we think you'll rate them?**"
   ]
  },
  {
   "cell_type": "code",
   "execution_count": 45,
   "metadata": {
    "collapsed": true
   },
   "outputs": [],
   "source": [
    "toprecos=get_top_recos_for_user(testuserid, train_data, db, n=5, k=7, reg=3.)"
   ]
  },
  {
   "cell_type": "code",
   "execution_count": 46,
   "metadata": {},
   "outputs": [
    {
     "name": "stdout",
     "output_type": "stream",
     "text": [
      "User Average 3.795918367346939 for 3Uv0dGI2IXJb2OUj8R2GJA\n",
      "Predicted ratings for top choices calculated earlier:\n",
      "Tremont Taphouse | 3.85087719298 | Average 4.428571428571429\n",
      "Great Lakes Brewing Company | 4.13622047244 | Average 4.181818181818182\n",
      "Market Garden Brewery | 3.07809530274 | Average 3.5384615384615383\n"
     ]
    }
   ],
   "source": [
    "print( \"User Average\", train_data[train_data.user_id==testuserid].review_score.mean(),\"for\",usernamefromid(train_data,testuserid))\n",
    "print( \"Predicted ratings for top choices calculated earlier:\")\n",
    "for biz_id,biz_avg in toprecos:\n",
    "    print( biznamefromid(train_data, biz_id),\"|\",rating(train_data, db, biz_id, testuserid, k=7, reg=3.),\"|\",\"Average\",biz_avg) "
   ]
  }
 ],
 "metadata": {
  "celltoolbar": "Edit Metadata",
  "kernelspec": {
   "display_name": "Python 3",
   "language": "python",
   "name": "python3"
  },
  "language_info": {
   "codemirror_mode": {
    "name": "ipython",
    "version": 3
   },
   "file_extension": ".py",
   "mimetype": "text/x-python",
   "name": "python",
   "nbconvert_exporter": "python",
   "pygments_lexer": "ipython3",
   "version": "3.6.1"
  }
 },
 "nbformat": 4,
 "nbformat_minor": 2
}
