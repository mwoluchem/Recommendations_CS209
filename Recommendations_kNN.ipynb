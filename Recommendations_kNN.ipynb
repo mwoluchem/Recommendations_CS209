{
 "cells": [
  {
   "cell_type": "code",
   "execution_count": 2,
   "metadata": {
    "collapsed": true
   },
   "outputs": [],
   "source": [
    "import numpy as np\n",
    "import pandas as pd\n",
    "import matplotlib\n",
    "import matplotlib.pyplot as plt\n",
    "import sklearn.metrics as metrics\n",
    "from sklearn.model_selection import cross_val_score\n",
    "from sklearn import tree\n",
    "from sklearn.tree import DecisionTreeClassifier\n",
    "from sklearn.ensemble import RandomForestClassifier\n",
    "from sklearn.ensemble import AdaBoostClassifier\n",
    "from sklearn.linear_model import LogisticRegressionCV\n",
    "%matplotlib inline"
   ]
  },
  {
   "cell_type": "code",
   "execution_count": 3,
   "metadata": {},
   "outputs": [],
   "source": [
    "#Read in Data\n",
    "base_data = pd.read_csv('Data/joined.csv')"
   ]
  },
  {
   "cell_type": "code",
   "execution_count": 5,
   "metadata": {},
   "outputs": [
    {
     "data": {
      "text/plain": [
       "(2927859, 13)"
      ]
     },
     "execution_count": 5,
     "metadata": {},
     "output_type": "execute_result"
    }
   ],
   "source": [
    "base_data.shape"
   ]
  },
  {
   "cell_type": "code",
   "execution_count": 6,
   "metadata": {},
   "outputs": [
    {
     "data": {
      "text/html": [
       "<div>\n",
       "<style>\n",
       "    .dataframe thead tr:only-child th {\n",
       "        text-align: right;\n",
       "    }\n",
       "\n",
       "    .dataframe thead th {\n",
       "        text-align: left;\n",
       "    }\n",
       "\n",
       "    .dataframe tbody tr th {\n",
       "        vertical-align: top;\n",
       "    }\n",
       "</style>\n",
       "<table border=\"1\" class=\"dataframe\">\n",
       "  <thead>\n",
       "    <tr style=\"text-align: right;\">\n",
       "      <th></th>\n",
       "      <th>review_date</th>\n",
       "      <th>business_longitude</th>\n",
       "      <th>business_id</th>\n",
       "      <th>business_categories</th>\n",
       "      <th>business_name</th>\n",
       "      <th>business_state</th>\n",
       "      <th>review_score</th>\n",
       "      <th>user_id</th>\n",
       "      <th>user_average_rating</th>\n",
       "      <th>business_review_count</th>\n",
       "      <th>business_average_rating</th>\n",
       "      <th>business_latitude</th>\n",
       "      <th>user_review_count</th>\n",
       "    </tr>\n",
       "  </thead>\n",
       "  <tbody>\n",
       "    <tr>\n",
       "      <th>0</th>\n",
       "      <td>2015-01-03</td>\n",
       "      <td>-79.399604</td>\n",
       "      <td>--6MefnULPED_I942VcFNA</td>\n",
       "      <td>['Restaurants', 'Chinese']</td>\n",
       "      <td>John's Chinese BBQ Restaurant</td>\n",
       "      <td>ON</td>\n",
       "      <td>1.0</td>\n",
       "      <td>QK_2A9R56Dck-WQ_U11qfw</td>\n",
       "      <td>2.91</td>\n",
       "      <td>30</td>\n",
       "      <td>3.0</td>\n",
       "      <td>43.840905</td>\n",
       "      <td>32</td>\n",
       "    </tr>\n",
       "    <tr>\n",
       "      <th>1</th>\n",
       "      <td>2010-11-25</td>\n",
       "      <td>-79.399604</td>\n",
       "      <td>--6MefnULPED_I942VcFNA</td>\n",
       "      <td>['Restaurants', 'Chinese']</td>\n",
       "      <td>John's Chinese BBQ Restaurant</td>\n",
       "      <td>ON</td>\n",
       "      <td>4.0</td>\n",
       "      <td>cPQZQGC_Rb6-xzKouHwT3w</td>\n",
       "      <td>3.83</td>\n",
       "      <td>30</td>\n",
       "      <td>3.0</td>\n",
       "      <td>43.840905</td>\n",
       "      <td>44</td>\n",
       "    </tr>\n",
       "    <tr>\n",
       "      <th>2</th>\n",
       "      <td>2013-09-17</td>\n",
       "      <td>-79.399604</td>\n",
       "      <td>--6MefnULPED_I942VcFNA</td>\n",
       "      <td>['Restaurants', 'Chinese']</td>\n",
       "      <td>John's Chinese BBQ Restaurant</td>\n",
       "      <td>ON</td>\n",
       "      <td>3.0</td>\n",
       "      <td>HSHuSCJvIvf_Tof62uZPEw</td>\n",
       "      <td>2.92</td>\n",
       "      <td>30</td>\n",
       "      <td>3.0</td>\n",
       "      <td>43.840905</td>\n",
       "      <td>68</td>\n",
       "    </tr>\n",
       "    <tr>\n",
       "      <th>3</th>\n",
       "      <td>2016-08-25</td>\n",
       "      <td>-79.399604</td>\n",
       "      <td>--6MefnULPED_I942VcFNA</td>\n",
       "      <td>['Restaurants', 'Chinese']</td>\n",
       "      <td>John's Chinese BBQ Restaurant</td>\n",
       "      <td>ON</td>\n",
       "      <td>5.0</td>\n",
       "      <td>V2exkc2JwEdc8UNUNhT7sg</td>\n",
       "      <td>4.15</td>\n",
       "      <td>30</td>\n",
       "      <td>3.0</td>\n",
       "      <td>43.840905</td>\n",
       "      <td>52</td>\n",
       "    </tr>\n",
       "    <tr>\n",
       "      <th>4</th>\n",
       "      <td>2017-05-31</td>\n",
       "      <td>-79.399604</td>\n",
       "      <td>--6MefnULPED_I942VcFNA</td>\n",
       "      <td>['Restaurants', 'Chinese']</td>\n",
       "      <td>John's Chinese BBQ Restaurant</td>\n",
       "      <td>ON</td>\n",
       "      <td>3.0</td>\n",
       "      <td>HPtjvIrhzAUkKsiVkeT4MA</td>\n",
       "      <td>3.56</td>\n",
       "      <td>30</td>\n",
       "      <td>3.0</td>\n",
       "      <td>43.840905</td>\n",
       "      <td>47</td>\n",
       "    </tr>\n",
       "  </tbody>\n",
       "</table>\n",
       "</div>"
      ],
      "text/plain": [
       "  review_date  business_longitude             business_id  \\\n",
       "0  2015-01-03          -79.399604  --6MefnULPED_I942VcFNA   \n",
       "1  2010-11-25          -79.399604  --6MefnULPED_I942VcFNA   \n",
       "2  2013-09-17          -79.399604  --6MefnULPED_I942VcFNA   \n",
       "3  2016-08-25          -79.399604  --6MefnULPED_I942VcFNA   \n",
       "4  2017-05-31          -79.399604  --6MefnULPED_I942VcFNA   \n",
       "\n",
       "          business_categories                  business_name business_state  \\\n",
       "0  ['Restaurants', 'Chinese']  John's Chinese BBQ Restaurant             ON   \n",
       "1  ['Restaurants', 'Chinese']  John's Chinese BBQ Restaurant             ON   \n",
       "2  ['Restaurants', 'Chinese']  John's Chinese BBQ Restaurant             ON   \n",
       "3  ['Restaurants', 'Chinese']  John's Chinese BBQ Restaurant             ON   \n",
       "4  ['Restaurants', 'Chinese']  John's Chinese BBQ Restaurant             ON   \n",
       "\n",
       "   review_score                 user_id  user_average_rating  \\\n",
       "0           1.0  QK_2A9R56Dck-WQ_U11qfw                 2.91   \n",
       "1           4.0  cPQZQGC_Rb6-xzKouHwT3w                 3.83   \n",
       "2           3.0  HSHuSCJvIvf_Tof62uZPEw                 2.92   \n",
       "3           5.0  V2exkc2JwEdc8UNUNhT7sg                 4.15   \n",
       "4           3.0  HPtjvIrhzAUkKsiVkeT4MA                 3.56   \n",
       "\n",
       "   business_review_count  business_average_rating  business_latitude  \\\n",
       "0                     30                      3.0          43.840905   \n",
       "1                     30                      3.0          43.840905   \n",
       "2                     30                      3.0          43.840905   \n",
       "3                     30                      3.0          43.840905   \n",
       "4                     30                      3.0          43.840905   \n",
       "\n",
       "   user_review_count  \n",
       "0                 32  \n",
       "1                 44  \n",
       "2                 68  \n",
       "3                 52  \n",
       "4                 47  "
      ]
     },
     "execution_count": 6,
     "metadata": {},
     "output_type": "execute_result"
    }
   ],
   "source": [
    "base_data.head()"
   ]
  },
  {
   "cell_type": "code",
   "execution_count": null,
   "metadata": {
    "collapsed": true
   },
   "outputs": [],
   "source": []
  }
 ],
 "metadata": {
  "kernelspec": {
   "display_name": "Python 3",
   "language": "python",
   "name": "python3"
  },
  "language_info": {
   "codemirror_mode": {
    "name": "ipython",
    "version": 3
   },
   "file_extension": ".py",
   "mimetype": "text/x-python",
   "name": "python",
   "nbconvert_exporter": "python",
   "pygments_lexer": "ipython3",
   "version": "3.6.1"
  }
 },
 "nbformat": 4,
 "nbformat_minor": 2
}
