{
 "cells": [
  {
   "cell_type": "markdown",
   "metadata": {},
   "source": [
    "# EDA Notes\n",
    "\n",
    "A first attempt at EDA for the CS109 final project. "
   ]
  },
  {
   "cell_type": "code",
   "execution_count": 1,
   "metadata": {
    "collapsed": true
   },
   "outputs": [],
   "source": [
    "import numpy as np\n",
    "import pandas as pd\n",
    "import matplotlib\n",
    "import matplotlib.pyplot as plt\n",
    "import sklearn.metrics as metrics\n",
    "from sklearn.model_selection import cross_val_score\n",
    "from sklearn import tree\n",
    "from sklearn.tree import DecisionTreeClassifier\n",
    "from sklearn.ensemble import RandomForestClassifier\n",
    "from sklearn.ensemble import AdaBoostClassifier\n",
    "from sklearn.linear_model import LogisticRegressionCV\n",
    "%matplotlib inline"
   ]
  },
  {
   "cell_type": "markdown",
   "metadata": {},
   "source": [
    "**Read In Data**"
   ]
  },
  {
   "cell_type": "code",
   "execution_count": 2,
   "metadata": {},
   "outputs": [
    {
     "name": "stderr",
     "output_type": "stream",
     "text": [
      "/Users/maiawoluchem/anaconda/lib/python3.6/site-packages/IPython/core/interactiveshell.py:2717: DtypeWarning: Columns (1,10,12,14,20,63,64,74) have mixed types. Specify dtype option on import or set low_memory=False.\n",
      "  interactivity=interactivity, compiler=compiler, result=result)\n"
     ]
    }
   ],
   "source": [
    "checkins = pd.read_csv('Data/checkin_summary.csv', header=None)\n",
    "photos = pd.read_csv('Data/photos_summary.csv', header=None)\n",
    "reviews = pd.read_csv('Data/review_small.csv', header=None)\n",
    "biz = pd.read_csv('Data/small_businesses.csv')\n",
    "tips = pd.read_csv('Data/tip_summary.csv', header=None)\n",
    "users = pd.read_json(path_or_buf='Data/user_small.json', lines=True)"
   ]
  },
  {
   "cell_type": "code",
   "execution_count": null,
   "metadata": {
    "collapsed": true
   },
   "outputs": [],
   "source": [
    "#Explore data in its current state"
   ]
  },
  {
   "cell_type": "code",
   "execution_count": 3,
   "metadata": {},
   "outputs": [
    {
     "data": {
      "text/plain": [
       "((49414, 2), (26384, 2), (2927859, 4), (38668, 93), (558979, 3), (1183362, 5))"
      ]
     },
     "execution_count": 3,
     "metadata": {},
     "output_type": "execute_result"
    }
   ],
   "source": [
    "checkins.shape, photos.shape, reviews.shape, biz.shape, tips.shape, users.shape"
   ]
  },
  {
   "cell_type": "code",
   "execution_count": 4,
   "metadata": {},
   "outputs": [
    {
     "data": {
      "text/html": [
       "<div>\n",
       "<style>\n",
       "    .dataframe thead tr:only-child th {\n",
       "        text-align: right;\n",
       "    }\n",
       "\n",
       "    .dataframe thead th {\n",
       "        text-align: left;\n",
       "    }\n",
       "\n",
       "    .dataframe tbody tr th {\n",
       "        vertical-align: top;\n",
       "    }\n",
       "</style>\n",
       "<table border=\"1\" class=\"dataframe\">\n",
       "  <thead>\n",
       "    <tr style=\"text-align: right;\">\n",
       "      <th></th>\n",
       "      <th>business_id</th>\n",
       "      <th>num_checkins</th>\n",
       "    </tr>\n",
       "  </thead>\n",
       "  <tbody>\n",
       "    <tr>\n",
       "      <th>0</th>\n",
       "      <td>--6MefnULPED_I942VcFNA</td>\n",
       "      <td>122</td>\n",
       "    </tr>\n",
       "    <tr>\n",
       "      <th>1</th>\n",
       "      <td>--9e1ONYQuAa-CB_Rrw7Tw</td>\n",
       "      <td>2469</td>\n",
       "    </tr>\n",
       "    <tr>\n",
       "      <th>2</th>\n",
       "      <td>--DaPTJW3-tB1vP-PfdTEg</td>\n",
       "      <td>88</td>\n",
       "    </tr>\n",
       "    <tr>\n",
       "      <th>3</th>\n",
       "      <td>--FBCX-N37CMYDfs790Bnw</td>\n",
       "      <td>477</td>\n",
       "    </tr>\n",
       "    <tr>\n",
       "      <th>4</th>\n",
       "      <td>--GM_ORV2cYS-h38DSaCLw</td>\n",
       "      <td>13</td>\n",
       "    </tr>\n",
       "  </tbody>\n",
       "</table>\n",
       "</div>"
      ],
      "text/plain": [
       "              business_id  num_checkins\n",
       "0  --6MefnULPED_I942VcFNA           122\n",
       "1  --9e1ONYQuAa-CB_Rrw7Tw          2469\n",
       "2  --DaPTJW3-tB1vP-PfdTEg            88\n",
       "3  --FBCX-N37CMYDfs790Bnw           477\n",
       "4  --GM_ORV2cYS-h38DSaCLw            13"
      ]
     },
     "execution_count": 4,
     "metadata": {},
     "output_type": "execute_result"
    }
   ],
   "source": [
    "checkins.columns = ['business_id', 'num_checkins'] \n",
    "checkins.head()"
   ]
  },
  {
   "cell_type": "code",
   "execution_count": 5,
   "metadata": {},
   "outputs": [
    {
     "data": {
      "text/html": [
       "<div>\n",
       "<style>\n",
       "    .dataframe thead tr:only-child th {\n",
       "        text-align: right;\n",
       "    }\n",
       "\n",
       "    .dataframe thead th {\n",
       "        text-align: left;\n",
       "    }\n",
       "\n",
       "    .dataframe tbody tr th {\n",
       "        vertical-align: top;\n",
       "    }\n",
       "</style>\n",
       "<table border=\"1\" class=\"dataframe\">\n",
       "  <thead>\n",
       "    <tr style=\"text-align: right;\">\n",
       "      <th></th>\n",
       "      <th>business_id</th>\n",
       "      <th>num_photos</th>\n",
       "    </tr>\n",
       "  </thead>\n",
       "  <tbody>\n",
       "    <tr>\n",
       "      <th>0</th>\n",
       "      <td>--6MefnULPED_I942VcFNA</td>\n",
       "      <td>1</td>\n",
       "    </tr>\n",
       "    <tr>\n",
       "      <th>1</th>\n",
       "      <td>--9e1ONYQuAa-CB_Rrw7Tw</td>\n",
       "      <td>127</td>\n",
       "    </tr>\n",
       "    <tr>\n",
       "      <th>2</th>\n",
       "      <td>--DaPTJW3-tB1vP-PfdTEg</td>\n",
       "      <td>1</td>\n",
       "    </tr>\n",
       "    <tr>\n",
       "      <th>3</th>\n",
       "      <td>--FBCX-N37CMYDfs790Bnw</td>\n",
       "      <td>4</td>\n",
       "    </tr>\n",
       "    <tr>\n",
       "      <th>4</th>\n",
       "      <td>--KCl2FvVQpvjzmZSPyviA</td>\n",
       "      <td>3</td>\n",
       "    </tr>\n",
       "  </tbody>\n",
       "</table>\n",
       "</div>"
      ],
      "text/plain": [
       "              business_id  num_photos\n",
       "0  --6MefnULPED_I942VcFNA           1\n",
       "1  --9e1ONYQuAa-CB_Rrw7Tw         127\n",
       "2  --DaPTJW3-tB1vP-PfdTEg           1\n",
       "3  --FBCX-N37CMYDfs790Bnw           4\n",
       "4  --KCl2FvVQpvjzmZSPyviA           3"
      ]
     },
     "execution_count": 5,
     "metadata": {},
     "output_type": "execute_result"
    }
   ],
   "source": [
    "photos.columns = ['business_id', 'num_photos'] \n",
    "photos.head()"
   ]
  },
  {
   "cell_type": "code",
   "execution_count": 6,
   "metadata": {},
   "outputs": [
    {
     "data": {
      "text/html": [
       "<div>\n",
       "<style>\n",
       "    .dataframe thead tr:only-child th {\n",
       "        text-align: right;\n",
       "    }\n",
       "\n",
       "    .dataframe thead th {\n",
       "        text-align: left;\n",
       "    }\n",
       "\n",
       "    .dataframe tbody tr th {\n",
       "        vertical-align: top;\n",
       "    }\n",
       "</style>\n",
       "<table border=\"1\" class=\"dataframe\">\n",
       "  <thead>\n",
       "    <tr style=\"text-align: right;\">\n",
       "      <th></th>\n",
       "      <th>user_id</th>\n",
       "      <th>business_id</th>\n",
       "      <th>rating</th>\n",
       "      <th>date</th>\n",
       "    </tr>\n",
       "  </thead>\n",
       "  <tbody>\n",
       "    <tr>\n",
       "      <th>0</th>\n",
       "      <td>V2exkc2JwEdc8UNUNhT7sg</td>\n",
       "      <td>--6MefnULPED_I942VcFNA</td>\n",
       "      <td>5</td>\n",
       "      <td>2016-08-25</td>\n",
       "    </tr>\n",
       "    <tr>\n",
       "      <th>1</th>\n",
       "      <td>j97y1ZAsYABIOcR0KQCy5Q</td>\n",
       "      <td>--6MefnULPED_I942VcFNA</td>\n",
       "      <td>1</td>\n",
       "      <td>2010-12-06</td>\n",
       "    </tr>\n",
       "    <tr>\n",
       "      <th>2</th>\n",
       "      <td>8-KBKMJVO-j5YqpHb08j9w</td>\n",
       "      <td>--6MefnULPED_I942VcFNA</td>\n",
       "      <td>4</td>\n",
       "      <td>2015-08-05</td>\n",
       "    </tr>\n",
       "    <tr>\n",
       "      <th>3</th>\n",
       "      <td>CxDOIDnH8gp9KXzpBHJYXw</td>\n",
       "      <td>--6MefnULPED_I942VcFNA</td>\n",
       "      <td>2</td>\n",
       "      <td>2010-12-22</td>\n",
       "    </tr>\n",
       "    <tr>\n",
       "      <th>4</th>\n",
       "      <td>7Dykd1HolQx8mKPYhYDYSg</td>\n",
       "      <td>--6MefnULPED_I942VcFNA</td>\n",
       "      <td>2</td>\n",
       "      <td>2017-02-07</td>\n",
       "    </tr>\n",
       "  </tbody>\n",
       "</table>\n",
       "</div>"
      ],
      "text/plain": [
       "                  user_id             business_id  rating        date\n",
       "0  V2exkc2JwEdc8UNUNhT7sg  --6MefnULPED_I942VcFNA       5  2016-08-25\n",
       "1  j97y1ZAsYABIOcR0KQCy5Q  --6MefnULPED_I942VcFNA       1  2010-12-06\n",
       "2  8-KBKMJVO-j5YqpHb08j9w  --6MefnULPED_I942VcFNA       4  2015-08-05\n",
       "3  CxDOIDnH8gp9KXzpBHJYXw  --6MefnULPED_I942VcFNA       2  2010-12-22\n",
       "4  7Dykd1HolQx8mKPYhYDYSg  --6MefnULPED_I942VcFNA       2  2017-02-07"
      ]
     },
     "execution_count": 6,
     "metadata": {},
     "output_type": "execute_result"
    }
   ],
   "source": [
    "reviews.columns = ['user_id', 'business_id', 'rating', 'date'] \n",
    "reviews.head()"
   ]
  },
  {
   "cell_type": "code",
   "execution_count": 7,
   "metadata": {},
   "outputs": [
    {
     "data": {
      "text/html": [
       "<div>\n",
       "<style>\n",
       "    .dataframe thead tr:only-child th {\n",
       "        text-align: right;\n",
       "    }\n",
       "\n",
       "    .dataframe thead th {\n",
       "        text-align: left;\n",
       "    }\n",
       "\n",
       "    .dataframe tbody tr th {\n",
       "        vertical-align: top;\n",
       "    }\n",
       "</style>\n",
       "<table border=\"1\" class=\"dataframe\">\n",
       "  <thead>\n",
       "    <tr style=\"text-align: right;\">\n",
       "      <th></th>\n",
       "      <th>Ambience_divey</th>\n",
       "      <th>HairSpecializesIn_kids</th>\n",
       "      <th>RestaurantsDelivery</th>\n",
       "      <th>Open24Hours</th>\n",
       "      <th>Ambience_trendy</th>\n",
       "      <th>DogsAllowed</th>\n",
       "      <th>CoatCheck</th>\n",
       "      <th>postal_code</th>\n",
       "      <th>Smoking</th>\n",
       "      <th>DietaryRestrictions_halal</th>\n",
       "      <th>...</th>\n",
       "      <th>RestaurantsReservations</th>\n",
       "      <th>DietaryRestrictions_dairy-free</th>\n",
       "      <th>BestNights_wednesday</th>\n",
       "      <th>DietaryRestrictions_vegan</th>\n",
       "      <th>Ambience_romantic</th>\n",
       "      <th>Music_jukebox</th>\n",
       "      <th>Ambience_upscale</th>\n",
       "      <th>RestaurantsTakeOut</th>\n",
       "      <th>BikeParking</th>\n",
       "      <th>OutdoorSeating</th>\n",
       "    </tr>\n",
       "  </thead>\n",
       "  <tbody>\n",
       "    <tr>\n",
       "      <th>0</th>\n",
       "      <td>False</td>\n",
       "      <td>NaN</td>\n",
       "      <td>False</td>\n",
       "      <td>NaN</td>\n",
       "      <td>False</td>\n",
       "      <td>NaN</td>\n",
       "      <td>False</td>\n",
       "      <td>28105</td>\n",
       "      <td>NaN</td>\n",
       "      <td>NaN</td>\n",
       "      <td>...</td>\n",
       "      <td>False</td>\n",
       "      <td>NaN</td>\n",
       "      <td>NaN</td>\n",
       "      <td>NaN</td>\n",
       "      <td>False</td>\n",
       "      <td>False</td>\n",
       "      <td>False</td>\n",
       "      <td>True</td>\n",
       "      <td>True</td>\n",
       "      <td>False</td>\n",
       "    </tr>\n",
       "    <tr>\n",
       "      <th>1</th>\n",
       "      <td>NaN</td>\n",
       "      <td>NaN</td>\n",
       "      <td>NaN</td>\n",
       "      <td>NaN</td>\n",
       "      <td>NaN</td>\n",
       "      <td>NaN</td>\n",
       "      <td>NaN</td>\n",
       "      <td>28164</td>\n",
       "      <td>NaN</td>\n",
       "      <td>NaN</td>\n",
       "      <td>...</td>\n",
       "      <td>NaN</td>\n",
       "      <td>NaN</td>\n",
       "      <td>NaN</td>\n",
       "      <td>NaN</td>\n",
       "      <td>NaN</td>\n",
       "      <td>NaN</td>\n",
       "      <td>NaN</td>\n",
       "      <td>NaN</td>\n",
       "      <td>NaN</td>\n",
       "      <td>False</td>\n",
       "    </tr>\n",
       "    <tr>\n",
       "      <th>2</th>\n",
       "      <td>True</td>\n",
       "      <td>NaN</td>\n",
       "      <td>False</td>\n",
       "      <td>NaN</td>\n",
       "      <td>False</td>\n",
       "      <td>NaN</td>\n",
       "      <td>NaN</td>\n",
       "      <td>15224</td>\n",
       "      <td>NaN</td>\n",
       "      <td>NaN</td>\n",
       "      <td>...</td>\n",
       "      <td>False</td>\n",
       "      <td>NaN</td>\n",
       "      <td>NaN</td>\n",
       "      <td>NaN</td>\n",
       "      <td>False</td>\n",
       "      <td>NaN</td>\n",
       "      <td>False</td>\n",
       "      <td>True</td>\n",
       "      <td>True</td>\n",
       "      <td>False</td>\n",
       "    </tr>\n",
       "    <tr>\n",
       "      <th>3</th>\n",
       "      <td>NaN</td>\n",
       "      <td>NaN</td>\n",
       "      <td>False</td>\n",
       "      <td>NaN</td>\n",
       "      <td>NaN</td>\n",
       "      <td>NaN</td>\n",
       "      <td>NaN</td>\n",
       "      <td>L5W 0E6</td>\n",
       "      <td>NaN</td>\n",
       "      <td>NaN</td>\n",
       "      <td>...</td>\n",
       "      <td>True</td>\n",
       "      <td>NaN</td>\n",
       "      <td>NaN</td>\n",
       "      <td>NaN</td>\n",
       "      <td>NaN</td>\n",
       "      <td>NaN</td>\n",
       "      <td>NaN</td>\n",
       "      <td>True</td>\n",
       "      <td>NaN</td>\n",
       "      <td>True</td>\n",
       "    </tr>\n",
       "    <tr>\n",
       "      <th>4</th>\n",
       "      <td>False</td>\n",
       "      <td>NaN</td>\n",
       "      <td>False</td>\n",
       "      <td>NaN</td>\n",
       "      <td>False</td>\n",
       "      <td>NaN</td>\n",
       "      <td>NaN</td>\n",
       "      <td>53704</td>\n",
       "      <td>NaN</td>\n",
       "      <td>NaN</td>\n",
       "      <td>...</td>\n",
       "      <td>True</td>\n",
       "      <td>NaN</td>\n",
       "      <td>NaN</td>\n",
       "      <td>NaN</td>\n",
       "      <td>False</td>\n",
       "      <td>NaN</td>\n",
       "      <td>False</td>\n",
       "      <td>True</td>\n",
       "      <td>True</td>\n",
       "      <td>False</td>\n",
       "    </tr>\n",
       "  </tbody>\n",
       "</table>\n",
       "<p>5 rows × 93 columns</p>\n",
       "</div>"
      ],
      "text/plain": [
       "  Ambience_divey HairSpecializesIn_kids RestaurantsDelivery Open24Hours  \\\n",
       "0          False                    NaN               False         NaN   \n",
       "1            NaN                    NaN                 NaN         NaN   \n",
       "2           True                    NaN               False         NaN   \n",
       "3            NaN                    NaN               False         NaN   \n",
       "4          False                    NaN               False         NaN   \n",
       "\n",
       "  Ambience_trendy DogsAllowed CoatCheck postal_code Smoking  \\\n",
       "0           False         NaN     False       28105     NaN   \n",
       "1             NaN         NaN       NaN       28164     NaN   \n",
       "2           False         NaN       NaN       15224     NaN   \n",
       "3             NaN         NaN       NaN     L5W 0E6     NaN   \n",
       "4           False         NaN       NaN       53704     NaN   \n",
       "\n",
       "  DietaryRestrictions_halal      ...       RestaurantsReservations  \\\n",
       "0                       NaN      ...                         False   \n",
       "1                       NaN      ...                           NaN   \n",
       "2                       NaN      ...                         False   \n",
       "3                       NaN      ...                          True   \n",
       "4                       NaN      ...                          True   \n",
       "\n",
       "  DietaryRestrictions_dairy-free BestNights_wednesday  \\\n",
       "0                            NaN                  NaN   \n",
       "1                            NaN                  NaN   \n",
       "2                            NaN                  NaN   \n",
       "3                            NaN                  NaN   \n",
       "4                            NaN                  NaN   \n",
       "\n",
       "  DietaryRestrictions_vegan Ambience_romantic Music_jukebox Ambience_upscale  \\\n",
       "0                       NaN             False         False            False   \n",
       "1                       NaN               NaN           NaN              NaN   \n",
       "2                       NaN             False           NaN            False   \n",
       "3                       NaN               NaN           NaN              NaN   \n",
       "4                       NaN             False           NaN            False   \n",
       "\n",
       "  RestaurantsTakeOut BikeParking OutdoorSeating  \n",
       "0               True        True          False  \n",
       "1                NaN         NaN          False  \n",
       "2               True        True          False  \n",
       "3               True         NaN           True  \n",
       "4               True        True          False  \n",
       "\n",
       "[5 rows x 93 columns]"
      ]
     },
     "execution_count": 7,
     "metadata": {},
     "output_type": "execute_result"
    }
   ],
   "source": [
    "biz.columns=biz.columns.str.replace('attributes.','')\n",
    "biz.columns=biz.columns.str.replace('.',\"_\")\n",
    "biz.head()"
   ]
  },
  {
   "cell_type": "code",
   "execution_count": 8,
   "metadata": {
    "collapsed": true
   },
   "outputs": [],
   "source": [
    "#Merge reviews and business for only the businesses in each set\n",
    "full_biz = pd.merge(reviews, biz, on='business_id', how='inner')"
   ]
  },
  {
   "cell_type": "code",
   "execution_count": 9,
   "metadata": {},
   "outputs": [
    {
     "data": {
      "text/plain": [
       "((2531183, 96), (2927859, 4), (38668, 93))"
      ]
     },
     "execution_count": 9,
     "metadata": {},
     "output_type": "execute_result"
    }
   ],
   "source": [
    "full_biz.shape, reviews.shape, biz.shape\n",
    "\n",
    "#Caused a drop of 2927859 - 2531183"
   ]
  },
  {
   "cell_type": "code",
   "execution_count": 10,
   "metadata": {},
   "outputs": [
    {
     "data": {
      "text/plain": [
       "(2531183, 52)"
      ]
     },
     "execution_count": 10,
     "metadata": {},
     "output_type": "execute_result"
    }
   ],
   "source": [
    "#Drop where more than 50 percent missing\n",
    "full_biz = full_biz.dropna(thresh=len(full_biz) - 1265591, axis=1)\n",
    "full_biz.shape"
   ]
  },
  {
   "cell_type": "markdown",
   "metadata": {},
   "source": [
    "Ok here's what we have so far:\n",
    "\n",
    "- Merged reviews and businesses together to make a dataset that includes ratings and business data\n",
    "- Dropped the values that are missing at more than 50 percent, caused us to drop 44 variables. "
   ]
  },
  {
   "cell_type": "code",
   "execution_count": 12,
   "metadata": {
    "collapsed": true
   },
   "outputs": [],
   "source": [
    "#Create list of variable types so we can continue cleaning. \n",
    "\n",
    "binary_vars = [\"Caters\",\"RestaurantsReservations\",\"Ambience_romantic\",\"Ambience_upscale\",\n",
    "               \"RestaurantsTakeOut\",\"BikeParking\",\"OutdoorSeating\",\"BusinessParking_lot\",\"HasTV\",\"GoodForMeal_dinner\",\n",
    "               \"BusinessParking_street\",\"GoodForMeal_breakfast\",\"BusinessParking_garage\",\"BusinessParking_valet\",\n",
    "               \"WheelchairAccessible\",\"Ambience_intimate\",\"Ambience_hipster\",\"BusinessAcceptsCreditCards\",\n",
    "               \"GoodForMeal_brunch\",\"Ambience_classy\",\"RestaurantsTableService\",\"GoodForMeal_latenight\",\n",
    "               \"GoodForMeal_dessert\",\"Ambience_touristy\",\"BusinessParking_validated\",\"GoodForMeal_lunch\",\n",
    "               \"RestaurantsGoodForGroups\",\"GoodForKids\",\"Ambience_casual\",\"Ambience_divey\",\"RestaurantsDelivery\",\n",
    "               \"Ambience_trendy\"]\n",
    "\n",
    "text_vars = [\"user_id\",\"business_id\",\"postal_code\",\"city\",\"categories\",\n",
    "             \"name\",\"neighborhood\",\"state\"]\n",
    "\n",
    "float_vars = [\"latitude\",\"longitude\",\"is_open\",\"rating\",\"stars\",\"review_count\",\"RestaurantsPriceRange2\"]\n",
    "\n",
    "cat_vars = [\"Alcohol\",\"WiFi\",\"NoiseLevel\",\"RestaurantsAttire\"]\n",
    "\n",
    "date_vars = ['date']"
   ]
  },
  {
   "cell_type": "code",
   "execution_count": 13,
   "metadata": {},
   "outputs": [
    {
     "data": {
      "text/plain": [
       "52"
      ]
     },
     "execution_count": 13,
     "metadata": {},
     "output_type": "execute_result"
    }
   ],
   "source": [
    "#Check to make sure we have everything!\n",
    "\n",
    "len(binary_vars)+len(text_vars)+len(float_vars)+len(cat_vars)+len(date_vars)"
   ]
  },
  {
   "cell_type": "code",
   "execution_count": 14,
   "metadata": {},
   "outputs": [],
   "source": [
    "#Create datasets that contain just the datatypes we want, as the correct datatypes. \n",
    "\n",
    "for var in binary_vars:\n",
    "    full_biz[var] = 1*full_biz[var]\n",
    "    \n",
    "binary_df = full_biz[binary_vars].replace(np.nan, np.nan, regex=True)\n",
    "\n",
    "for var in text_vars:\n",
    "    full_biz[var] = full_biz[var].replace(np.nan, '', regex=True)\n",
    "    full_biz[var] = full_biz[var].astype(str)\n",
    "    \n",
    "text_df = full_biz[text_vars]\n",
    "\n",
    "for var in cat_vars:\n",
    "    full_biz[var] = full_biz[var].replace(np.nan, '', regex=True)\n",
    "    full_biz[var] = full_biz[var].astype(str)\n",
    "    \n",
    "cat_df = full_biz[cat_vars]\n",
    "\n",
    "for var in date_vars:\n",
    "    full_biz[var] = full_biz[var].replace(np.nan, '', regex=True)\n",
    "    full_biz[var] = full_biz[var].astype(str)\n",
    "    \n",
    "date_df = full_biz[date_vars]\n",
    "\n",
    "for var in float_vars:\n",
    "    full_biz[var] = 1*full_biz[var]\n",
    "    \n",
    "float_df = full_biz[float_vars].replace(np.nan, np.nan, regex=True)"
   ]
  },
  {
   "cell_type": "code",
   "execution_count": 15,
   "metadata": {
    "collapsed": true
   },
   "outputs": [],
   "source": [
    "full_biz2 = binary_df.join(text_df)\n",
    "full_biz2 = full_biz2.join(float_df)\n",
    "full_biz2 = full_biz2.join(cat_df)\n",
    "full_biz2 = full_biz2.join(date_df)"
   ]
  },
  {
   "cell_type": "code",
   "execution_count": null,
   "metadata": {
    "collapsed": true
   },
   "outputs": [],
   "source": [
    "count_states = full_biz2.groupby('state').is_open.sum()\n",
    "count_states"
   ]
  },
  {
   "cell_type": "code",
   "execution_count": null,
   "metadata": {
    "collapsed": true
   },
   "outputs": [],
   "source": [
    "#Where are our reviews coming from?\n",
    "\n",
    "count_state = pd.value_counts(full_biz2.state).to_frame('count')\n",
    "count_state"
   ]
  },
  {
   "cell_type": "code",
   "execution_count": null,
   "metadata": {},
   "outputs": [],
   "source": [
    "import seaborn as sns\n",
    "\n",
    "plt.figure(figsize=(3, 8))\n",
    "ax = plt.gca()\n",
    "data = count_states.sort_values()\n",
    "states = count_states.index\n",
    "counts = count_states.values\n",
    "nums = np.arange(len(data))\n",
    "plt.barh(nums, counts)\n",
    "for p, c, ch in zip(nums, states, counts):\n",
    "    plt.annotate(str(ch), xy=(ch + 1, p), va='center')\n",
    "ticks = plt.yticks(nums, states)\n",
    "xt = plt.xticks()[0]\n",
    "plt.xticks(xt, [' '] * len(xt))\n",
    "plt.grid(axis = 'x', color ='white', linestyle='-')\n",
    "ax.tick_params(axis='both', which='both',length=0)\n",
    "sns.despine(left=True, bottom=True)"
   ]
  },
  {
   "cell_type": "code",
   "execution_count": null,
   "metadata": {},
   "outputs": [],
   "source": [
    "with sns.plotting_context(\"poster\"):\n",
    "    ax = plt.gca()\n",
    "    count_states.plot(kind=\"barh\")\n",
    "    plt.grid(axis = 'x', color ='white', linestyle='-')\n",
    "    ax.tick_params(axis='both', which='both',length=0)\n",
    "    for p, c, ch in zip(nums, states, counts):\n",
    "        plt.annotate(str(ch), xy=(ch + 1, p), va='center', size=11)\n",
    "    sns.despine(left=True, bottom=True)"
   ]
  },
  {
   "cell_type": "code",
   "execution_count": null,
   "metadata": {},
   "outputs": [],
   "source": [
    "#Select NV, AZ, ON, NC, OH, PA, QC, WI, BW\n",
    "\n",
    "states = ['NV','AZ','ON','NC','OH','PA','QC','WI','BW']\n",
    "#full_biz2 = \n",
    "geo_subset_biz = full_biz2[full_biz2['state'].isin(['NV','AZ','ON','NC','OH','PA','QC','WI','BW'])]\n",
    "#df[df['A'].isin([3, 6])]"
   ]
  },
  {
   "cell_type": "code",
   "execution_count": null,
   "metadata": {},
   "outputs": [],
   "source": [
    "geo_subset_biz.head()"
   ]
  },
  {
   "cell_type": "code",
   "execution_count": null,
   "metadata": {},
   "outputs": [],
   "source": [
    "geo_subset_biz.shape\n",
    "geo_subset_biz.categories=geo_subset_biz.categories.str.replace('[',\"\")\n",
    "geo_subset_biz.categories=geo_subset_biz.categories.str.replace(']',\"\")\n",
    "geo_subset_biz.categories=geo_subset_biz.categories.str.replace(\"'\",\"\")\n",
    "#biz.columns=biz.columns.str.replace('[',\"\")\n",
    "geo_subset_biz.categories.unique()\n",
    "len(geo_subset_biz.categories.unique())"
   ]
  },
  {
   "cell_type": "code",
   "execution_count": null,
   "metadata": {
    "collapsed": true
   },
   "outputs": [],
   "source": [
    "uniques = list(geo_subset_biz.categories.unique())\n",
    "newlist = []\n",
    "for word in uniques:\n",
    "    word = word.split(\",\")\n",
    "    #word = word.replace(' ','')\n",
    "    newlist.extend(word)  # <----\n",
    "\n",
    "newlist = [x.strip(' ') for x in newlist]\n",
    "\n",
    "newlist\n",
    "\n",
    "#for i in newlist:\n",
    "    #j = i.replace(' ','')\n",
    "    #k.append(j)\n",
    "#mylist = string.split(',')\n",
    "#flattened = [val for sublist in uniques for val in sublist]\n",
    "#flattened"
   ]
  },
  {
   "cell_type": "code",
   "execution_count": null,
   "metadata": {},
   "outputs": [],
   "source": [
    "#full_biz.GoodForMeal_breakfast.unique()\n",
    "geo_subset."
   ]
  },
  {
   "cell_type": "code",
   "execution_count": null,
   "metadata": {},
   "outputs": [],
   "source": [
    "df = pd.value_counts(newlist).to_frame().reset_index()\n",
    "df"
   ]
  },
  {
   "cell_type": "code",
   "execution_count": null,
   "metadata": {},
   "outputs": [],
   "source": [
    "#full_biz.dtypes"
   ]
  },
  {
   "cell_type": "code",
   "execution_count": null,
   "metadata": {
    "collapsed": true
   },
   "outputs": [],
   "source": [
    "uniques = list(full_biz.categories.unique())\n"
   ]
  },
  {
   "cell_type": "code",
   "execution_count": null,
   "metadata": {
    "collapsed": true
   },
   "outputs": [],
   "source": [
    "flat_list = [item for sublist in l for item in sublist]"
   ]
  },
  {
   "cell_type": "code",
   "execution_count": null,
   "metadata": {},
   "outputs": [],
   "source": [
    "#flat_list = [item for sublist in l for item in sublist]\n",
    "\n",
    "for sublist in uniques:\n",
    "    for item in sublist:\n",
    "        flat_list.append(item)"
   ]
  },
  {
   "cell_type": "code",
   "execution_count": null,
   "metadata": {},
   "outputs": [],
   "source": []
  },
  {
   "cell_type": "code",
   "execution_count": null,
   "metadata": {
    "collapsed": true
   },
   "outputs": [],
   "source": [
    "def iterFlatten(root):\n",
    "    if isinstance(root, (list, tuple)):\n",
    "        for element in root:\n",
    "            for e in iterFlatten(element):\n",
    "                yield e\n",
    "    else:\n",
    "        yield root"
   ]
  },
  {
   "cell_type": "code",
   "execution_count": null,
   "metadata": {},
   "outputs": [],
   "source": [
    "#list(iterFlatten(uniques))"
   ]
  },
  {
   "cell_type": "code",
   "execution_count": null,
   "metadata": {},
   "outputs": [],
   "source": [
    "import itertools\n",
    "#list_of_cats = list(itertools.chain.from_iterable(uniques))\n",
    "#list_of_cats = sum(uniques, [])\n",
    "list_of_cats = []\n",
    "map(list_of_cats.extend, uniques)"
   ]
  },
  {
   "cell_type": "code",
   "execution_count": null,
   "metadata": {},
   "outputs": [],
   "source": [
    "list_of_cats"
   ]
  },
  {
   "cell_type": "code",
   "execution_count": null,
   "metadata": {
    "collapsed": true
   },
   "outputs": [],
   "source": [
    "\"\"float_vars = ['stars','latitude','RestaurantsPriceRange2','longitude']\n",
    "int_vars = ['is_open','review_count']\"\""
   ]
  },
  {
   "cell_type": "code",
   "execution_count": null,
   "metadata": {
    "collapsed": true,
    "scrolled": true
   },
   "outputs": [],
   "source": [
    "test_vars = list(full_biz.columns)\n",
    "#test_vars"
   ]
  },
  {
   "cell_type": "code",
   "execution_count": null,
   "metadata": {},
   "outputs": [],
   "source": [
    "test_vars"
   ]
  },
  {
   "cell_type": "code",
   "execution_count": null,
   "metadata": {},
   "outputs": [],
   "source": []
  },
  {
   "cell_type": "code",
   "execution_count": null,
   "metadata": {
    "scrolled": true
   },
   "outputs": [],
   "source": [
    "full_biz2.dtypes"
   ]
  },
  {
   "cell_type": "code",
   "execution_count": null,
   "metadata": {},
   "outputs": [],
   "source": [
    "import seaborn as sns\n",
    "fig, ax = plt.subplots(1,1, figsize =(10,8))\n",
    "sns.heatmap(full_biz2.corr(), ax=ax)"
   ]
  },
  {
   "cell_type": "code",
   "execution_count": null,
   "metadata": {
    "collapsed": true
   },
   "outputs": [],
   "source": [
    "#dropping based on collinearity\n",
    "\n",
    "#We have relatively few collinear points although we do have quite a few missing values - this is something \n",
    "#we'll discover soon enough in later EDA. \n",
    "\n"
   ]
  },
  {
   "cell_type": "code",
   "execution_count": null,
   "metadata": {},
   "outputs": [],
   "source": [
    "#full_biz2.dtypes"
   ]
  },
  {
   "cell_type": "code",
   "execution_count": null,
   "metadata": {},
   "outputs": [],
   "source": [
    "\n",
    "\n",
    "full_biz2.WiFi = full_biz2.WiFi.replace(np.nan, '', regex=True)\n",
    "full_biz2.WiFi.unique()"
   ]
  },
  {
   "cell_type": "code",
   "execution_count": null,
   "metadata": {},
   "outputs": [],
   "source": [
    "object_to_text_vars = ['user_id', 'business_id', 'postal_code','city','Alcohol','categories','name',\n",
    "                       'WiFi','NoiseLevel','state','date']\n",
    "\n",
    "for var in object_to_text_vars:\n",
    "    full_biz2[var] = full_biz2[var].replace(np.nan, '', regex=True)\n"
   ]
  },
  {
   "cell_type": "code",
   "execution_count": null,
   "metadata": {},
   "outputs": [],
   "source": [
    "fig, ax = plt.subplots(1, 1, figsize=(9, 8))\n",
    "plt.scatter( full_biz2.rating, full_biz2.GoodForMeal_breakfast, color=sns.color_palette(), alpha=0.75)\n",
    "plt.xlabel(\"User's Average Rating\")\n",
    "plt.ylabel('Number of Reviews')\n",
    "plt.title('Average Rating by User Activity') "
   ]
  },
  {
   "cell_type": "code",
   "execution_count": null,
   "metadata": {
    "collapsed": true
   },
   "outputs": [],
   "source": [
    "good_for = ['Good']"
   ]
  },
  {
   "cell_type": "code",
   "execution_count": null,
   "metadata": {},
   "outputs": [],
   "source": [
    "#plt.scatter(full_biz2.rating, full_biz2.GoodForMeal_breakfast)\n",
    "\n",
    "\n",
    "\n",
    "x_filt = full_biz2.rating[GoodForMeal_breakfast>0]\n",
    "y_filt = full_biz2.GoodForMeal_breakfast[GoodForMeal_breakfast>0]\n",
    "\n",
    "plt.scatter(x_filt, y_filt)"
   ]
  },
  {
   "cell_type": "code",
   "execution_count": null,
   "metadata": {},
   "outputs": [],
   "source": [
    "\"\"\"full_biz2['new'] = full_biz2['user_id'].str.split(',') \n",
    "#df['column_new'] = df['column'].str.split(',') \n",
    "full_biz2.dtypes\"\"\""
   ]
  },
  {
   "cell_type": "code",
   "execution_count": null,
   "metadata": {},
   "outputs": [],
   "source": [
    "full_biz2.state.unique()"
   ]
  },
  {
   "cell_type": "code",
   "execution_count": null,
   "metadata": {
    "collapsed": true
   },
   "outputs": [],
   "source": [
    "tips.columns = ['business_id', 'user_id', 'unidentifiedinfo_tips'] \n",
    "\n",
    "tips['business_id'] = tips['business_id'].map(lambda x: x[1:])\n",
    "tips['user_id'] = tips['user_id'].map(lambda x: x[:-1])\n",
    "tips.head()"
   ]
  },
  {
   "cell_type": "code",
   "execution_count": null,
   "metadata": {
    "collapsed": true
   },
   "outputs": [],
   "source": [
    "users.head()"
   ]
  },
  {
   "cell_type": "code",
   "execution_count": null,
   "metadata": {
    "collapsed": true
   },
   "outputs": [],
   "source": []
  },
  {
   "cell_type": "code",
   "execution_count": null,
   "metadata": {
    "collapsed": true
   },
   "outputs": [],
   "source": [
    "\"\"\"\n",
    "Based on this knowledge, the following EDA steps may be necessary:\n",
    "\n",
    "1. Label column headers - \n",
    "    a. Check-ins: User_ID, # of Check-ins\n",
    "    b. Photos: User_ID, # of Photos\n",
    "    c. Review: Business_ID?, User_ID?, Stars, Date (of the review?)\n",
    "    d. Biz: Use column headers from dataset\n",
    "    e. Tips: Business_ID, User_ID, # of tips?\n",
    "    \n",
    "    Questions that arise:\n",
    "    - We have a wide range in the number of records across sets. Is it because \n",
    "    of the number of businesses, number of users, or both? We should confirm\n",
    "    the population of each set and make sure we're clear on that in this EDA.\n",
    "    \n",
    "2. Merge variables as needed - \n",
    "    a. It may be easiest to work with one large dataset that is at the user-level\n",
    "    that contains all of the information that we need. If so, the following pieces\n",
    "    may be necessary:\n",
    "    b. Determine what level we should be working at - user, review, or business\n",
    "        i. Seems like we should be at the user-level, in which case, will we have \n",
    "        multiple duplicates for the users depending on how many reviews we have?\n",
    "    c. Merge depending on level determined.\n",
    "    \n",
    "    Questions that arise:\n",
    "    - \n",
    "    \n",
    "3. Basic cleaning - \n",
    "    a. Do we have duplicates in any of these datasets? If so, why?\n",
    "    b. Missing values - \n",
    "        i. Due to that merging, we should have missing values in some users\n",
    "        ii. Figure out a strategy for dealing with those missing values. \n",
    "    \n",
    "4. Do basic EDA - \n",
    "\n",
    "    a. How many unique users? Businesses? Reviews? \n",
    "    b. User behavior - \n",
    "        i. What do the most and least active users look like? Are they enthusiastic?\n",
    "            Do they travel? \n",
    "        ii. Do a user's reviews tend to favor a particular style of restaurant \n",
    "            (is there a clustering of taste inherent in the data already)?\n",
    "        iii. What do reviews look like? Are there certain variables that are \n",
    "            are always missing? \n",
    "    \n",
    "    Questions that arise:\n",
    "        - Do we have enough information about folks to adequately make these predictions?\n",
    "            What else might we need to impute?\n",
    "            \n"
   ]
  }
 ],
 "metadata": {
  "kernelspec": {
   "display_name": "Python 3",
   "language": "python",
   "name": "python3"
  },
  "language_info": {
   "codemirror_mode": {
    "name": "ipython",
    "version": 3
   },
   "file_extension": ".py",
   "mimetype": "text/x-python",
   "name": "python",
   "nbconvert_exporter": "python",
   "pygments_lexer": "ipython3",
   "version": "3.6.1"
  }
 },
 "nbformat": 4,
 "nbformat_minor": 2
}
