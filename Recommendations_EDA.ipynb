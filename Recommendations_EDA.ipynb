{
 "cells": [
  {
   "cell_type": "markdown",
   "metadata": {},
   "source": [
    "# EDA Notes\n",
    "\n",
    "A first attempt at EDA for the CS109 final project. "
   ]
  },
  {
   "cell_type": "code",
   "execution_count": 1,
   "metadata": {
    "collapsed": true
   },
   "outputs": [],
   "source": [
    "import numpy as np\n",
    "import pandas as pd\n",
    "import matplotlib\n",
    "import matplotlib.pyplot as plt\n",
    "import sklearn.metrics as metrics\n",
    "from sklearn.model_selection import cross_val_score\n",
    "from sklearn import tree\n",
    "from sklearn.tree import DecisionTreeClassifier\n",
    "from sklearn.ensemble import RandomForestClassifier\n",
    "from sklearn.ensemble import AdaBoostClassifier\n",
    "from sklearn.linear_model import LogisticRegressionCV\n",
    "%matplotlib inline"
   ]
  },
  {
   "cell_type": "markdown",
   "metadata": {},
   "source": [
    "**Read In Data**"
   ]
  },
  {
   "cell_type": "code",
   "execution_count": 2,
   "metadata": {},
   "outputs": [
    {
     "name": "stderr",
     "output_type": "stream",
     "text": [
      "/Users/maiawoluchem/anaconda/lib/python3.6/site-packages/IPython/core/interactiveshell.py:2717: DtypeWarning: Columns (1,10,12,14,20,63,64,74) have mixed types. Specify dtype option on import or set low_memory=False.\n",
      "  interactivity=interactivity, compiler=compiler, result=result)\n"
     ]
    }
   ],
   "source": [
    "checkins = pd.read_csv('Data/checkin_summary.csv', header=None)\n",
    "photos = pd.read_csv('Data/photos_summary.csv', header=None)\n",
    "reviews = pd.read_csv('Data/review_small.csv', header=None)\n",
    "biz = pd.read_csv('Data/small_businesses.csv')\n",
    "tips = pd.read_csv('Data/tip_summary.csv', header=None)\n",
    "users = pd.read_json(path_or_buf='Data/user_small.json', lines=True)"
   ]
  },
  {
   "cell_type": "code",
   "execution_count": null,
   "metadata": {
    "collapsed": true
   },
   "outputs": [],
   "source": [
    "#Explore data in its current state"
   ]
  },
  {
   "cell_type": "code",
   "execution_count": null,
   "metadata": {},
   "outputs": [],
   "source": [
    "checkins.shape, photos.shape, reviews.shape, biz.shape, tips.shape, users.shape"
   ]
  },
  {
   "cell_type": "code",
   "execution_count": null,
   "metadata": {},
   "outputs": [],
   "source": [
    "checkins.columns = ['business_id', 'num_checkins'] \n",
    "checkins.head()"
   ]
  },
  {
   "cell_type": "code",
   "execution_count": null,
   "metadata": {},
   "outputs": [],
   "source": [
    "photos.columns = ['business_id', 'num_photos'] \n",
    "photos.head()"
   ]
  },
  {
   "cell_type": "code",
   "execution_count": 3,
   "metadata": {},
   "outputs": [
    {
     "data": {
      "text/html": [
       "<div>\n",
       "<style>\n",
       "    .dataframe thead tr:only-child th {\n",
       "        text-align: right;\n",
       "    }\n",
       "\n",
       "    .dataframe thead th {\n",
       "        text-align: left;\n",
       "    }\n",
       "\n",
       "    .dataframe tbody tr th {\n",
       "        vertical-align: top;\n",
       "    }\n",
       "</style>\n",
       "<table border=\"1\" class=\"dataframe\">\n",
       "  <thead>\n",
       "    <tr style=\"text-align: right;\">\n",
       "      <th></th>\n",
       "      <th>user_id</th>\n",
       "      <th>business_id</th>\n",
       "      <th>rating</th>\n",
       "      <th>date</th>\n",
       "    </tr>\n",
       "  </thead>\n",
       "  <tbody>\n",
       "    <tr>\n",
       "      <th>0</th>\n",
       "      <td>V2exkc2JwEdc8UNUNhT7sg</td>\n",
       "      <td>--6MefnULPED_I942VcFNA</td>\n",
       "      <td>5</td>\n",
       "      <td>2016-08-25</td>\n",
       "    </tr>\n",
       "    <tr>\n",
       "      <th>1</th>\n",
       "      <td>j97y1ZAsYABIOcR0KQCy5Q</td>\n",
       "      <td>--6MefnULPED_I942VcFNA</td>\n",
       "      <td>1</td>\n",
       "      <td>2010-12-06</td>\n",
       "    </tr>\n",
       "    <tr>\n",
       "      <th>2</th>\n",
       "      <td>8-KBKMJVO-j5YqpHb08j9w</td>\n",
       "      <td>--6MefnULPED_I942VcFNA</td>\n",
       "      <td>4</td>\n",
       "      <td>2015-08-05</td>\n",
       "    </tr>\n",
       "    <tr>\n",
       "      <th>3</th>\n",
       "      <td>CxDOIDnH8gp9KXzpBHJYXw</td>\n",
       "      <td>--6MefnULPED_I942VcFNA</td>\n",
       "      <td>2</td>\n",
       "      <td>2010-12-22</td>\n",
       "    </tr>\n",
       "    <tr>\n",
       "      <th>4</th>\n",
       "      <td>7Dykd1HolQx8mKPYhYDYSg</td>\n",
       "      <td>--6MefnULPED_I942VcFNA</td>\n",
       "      <td>2</td>\n",
       "      <td>2017-02-07</td>\n",
       "    </tr>\n",
       "  </tbody>\n",
       "</table>\n",
       "</div>"
      ],
      "text/plain": [
       "                  user_id             business_id  rating        date\n",
       "0  V2exkc2JwEdc8UNUNhT7sg  --6MefnULPED_I942VcFNA       5  2016-08-25\n",
       "1  j97y1ZAsYABIOcR0KQCy5Q  --6MefnULPED_I942VcFNA       1  2010-12-06\n",
       "2  8-KBKMJVO-j5YqpHb08j9w  --6MefnULPED_I942VcFNA       4  2015-08-05\n",
       "3  CxDOIDnH8gp9KXzpBHJYXw  --6MefnULPED_I942VcFNA       2  2010-12-22\n",
       "4  7Dykd1HolQx8mKPYhYDYSg  --6MefnULPED_I942VcFNA       2  2017-02-07"
      ]
     },
     "execution_count": 3,
     "metadata": {},
     "output_type": "execute_result"
    }
   ],
   "source": [
    "reviews.columns = ['user_id', 'business_id', 'rating', 'date'] \n",
    "reviews.head()"
   ]
  },
  {
   "cell_type": "code",
   "execution_count": 4,
   "metadata": {},
   "outputs": [
    {
     "data": {
      "text/html": [
       "<div>\n",
       "<style>\n",
       "    .dataframe thead tr:only-child th {\n",
       "        text-align: right;\n",
       "    }\n",
       "\n",
       "    .dataframe thead th {\n",
       "        text-align: left;\n",
       "    }\n",
       "\n",
       "    .dataframe tbody tr th {\n",
       "        vertical-align: top;\n",
       "    }\n",
       "</style>\n",
       "<table border=\"1\" class=\"dataframe\">\n",
       "  <thead>\n",
       "    <tr style=\"text-align: right;\">\n",
       "      <th></th>\n",
       "      <th>Ambience_divey</th>\n",
       "      <th>HairSpecializesIn_kids</th>\n",
       "      <th>RestaurantsDelivery</th>\n",
       "      <th>Open24Hours</th>\n",
       "      <th>Ambience_trendy</th>\n",
       "      <th>DogsAllowed</th>\n",
       "      <th>CoatCheck</th>\n",
       "      <th>postal_code</th>\n",
       "      <th>Smoking</th>\n",
       "      <th>DietaryRestrictions_halal</th>\n",
       "      <th>...</th>\n",
       "      <th>RestaurantsReservations</th>\n",
       "      <th>DietaryRestrictions_dairy-free</th>\n",
       "      <th>BestNights_wednesday</th>\n",
       "      <th>DietaryRestrictions_vegan</th>\n",
       "      <th>Ambience_romantic</th>\n",
       "      <th>Music_jukebox</th>\n",
       "      <th>Ambience_upscale</th>\n",
       "      <th>RestaurantsTakeOut</th>\n",
       "      <th>BikeParking</th>\n",
       "      <th>OutdoorSeating</th>\n",
       "    </tr>\n",
       "  </thead>\n",
       "  <tbody>\n",
       "    <tr>\n",
       "      <th>0</th>\n",
       "      <td>False</td>\n",
       "      <td>NaN</td>\n",
       "      <td>False</td>\n",
       "      <td>NaN</td>\n",
       "      <td>False</td>\n",
       "      <td>NaN</td>\n",
       "      <td>False</td>\n",
       "      <td>28105</td>\n",
       "      <td>NaN</td>\n",
       "      <td>NaN</td>\n",
       "      <td>...</td>\n",
       "      <td>False</td>\n",
       "      <td>NaN</td>\n",
       "      <td>NaN</td>\n",
       "      <td>NaN</td>\n",
       "      <td>False</td>\n",
       "      <td>False</td>\n",
       "      <td>False</td>\n",
       "      <td>True</td>\n",
       "      <td>True</td>\n",
       "      <td>False</td>\n",
       "    </tr>\n",
       "    <tr>\n",
       "      <th>1</th>\n",
       "      <td>NaN</td>\n",
       "      <td>NaN</td>\n",
       "      <td>NaN</td>\n",
       "      <td>NaN</td>\n",
       "      <td>NaN</td>\n",
       "      <td>NaN</td>\n",
       "      <td>NaN</td>\n",
       "      <td>28164</td>\n",
       "      <td>NaN</td>\n",
       "      <td>NaN</td>\n",
       "      <td>...</td>\n",
       "      <td>NaN</td>\n",
       "      <td>NaN</td>\n",
       "      <td>NaN</td>\n",
       "      <td>NaN</td>\n",
       "      <td>NaN</td>\n",
       "      <td>NaN</td>\n",
       "      <td>NaN</td>\n",
       "      <td>NaN</td>\n",
       "      <td>NaN</td>\n",
       "      <td>False</td>\n",
       "    </tr>\n",
       "    <tr>\n",
       "      <th>2</th>\n",
       "      <td>True</td>\n",
       "      <td>NaN</td>\n",
       "      <td>False</td>\n",
       "      <td>NaN</td>\n",
       "      <td>False</td>\n",
       "      <td>NaN</td>\n",
       "      <td>NaN</td>\n",
       "      <td>15224</td>\n",
       "      <td>NaN</td>\n",
       "      <td>NaN</td>\n",
       "      <td>...</td>\n",
       "      <td>False</td>\n",
       "      <td>NaN</td>\n",
       "      <td>NaN</td>\n",
       "      <td>NaN</td>\n",
       "      <td>False</td>\n",
       "      <td>NaN</td>\n",
       "      <td>False</td>\n",
       "      <td>True</td>\n",
       "      <td>True</td>\n",
       "      <td>False</td>\n",
       "    </tr>\n",
       "    <tr>\n",
       "      <th>3</th>\n",
       "      <td>NaN</td>\n",
       "      <td>NaN</td>\n",
       "      <td>False</td>\n",
       "      <td>NaN</td>\n",
       "      <td>NaN</td>\n",
       "      <td>NaN</td>\n",
       "      <td>NaN</td>\n",
       "      <td>L5W 0E6</td>\n",
       "      <td>NaN</td>\n",
       "      <td>NaN</td>\n",
       "      <td>...</td>\n",
       "      <td>True</td>\n",
       "      <td>NaN</td>\n",
       "      <td>NaN</td>\n",
       "      <td>NaN</td>\n",
       "      <td>NaN</td>\n",
       "      <td>NaN</td>\n",
       "      <td>NaN</td>\n",
       "      <td>True</td>\n",
       "      <td>NaN</td>\n",
       "      <td>True</td>\n",
       "    </tr>\n",
       "    <tr>\n",
       "      <th>4</th>\n",
       "      <td>False</td>\n",
       "      <td>NaN</td>\n",
       "      <td>False</td>\n",
       "      <td>NaN</td>\n",
       "      <td>False</td>\n",
       "      <td>NaN</td>\n",
       "      <td>NaN</td>\n",
       "      <td>53704</td>\n",
       "      <td>NaN</td>\n",
       "      <td>NaN</td>\n",
       "      <td>...</td>\n",
       "      <td>True</td>\n",
       "      <td>NaN</td>\n",
       "      <td>NaN</td>\n",
       "      <td>NaN</td>\n",
       "      <td>False</td>\n",
       "      <td>NaN</td>\n",
       "      <td>False</td>\n",
       "      <td>True</td>\n",
       "      <td>True</td>\n",
       "      <td>False</td>\n",
       "    </tr>\n",
       "  </tbody>\n",
       "</table>\n",
       "<p>5 rows × 93 columns</p>\n",
       "</div>"
      ],
      "text/plain": [
       "  Ambience_divey HairSpecializesIn_kids RestaurantsDelivery Open24Hours  \\\n",
       "0          False                    NaN               False         NaN   \n",
       "1            NaN                    NaN                 NaN         NaN   \n",
       "2           True                    NaN               False         NaN   \n",
       "3            NaN                    NaN               False         NaN   \n",
       "4          False                    NaN               False         NaN   \n",
       "\n",
       "  Ambience_trendy DogsAllowed CoatCheck postal_code Smoking  \\\n",
       "0           False         NaN     False       28105     NaN   \n",
       "1             NaN         NaN       NaN       28164     NaN   \n",
       "2           False         NaN       NaN       15224     NaN   \n",
       "3             NaN         NaN       NaN     L5W 0E6     NaN   \n",
       "4           False         NaN       NaN       53704     NaN   \n",
       "\n",
       "  DietaryRestrictions_halal      ...       RestaurantsReservations  \\\n",
       "0                       NaN      ...                         False   \n",
       "1                       NaN      ...                           NaN   \n",
       "2                       NaN      ...                         False   \n",
       "3                       NaN      ...                          True   \n",
       "4                       NaN      ...                          True   \n",
       "\n",
       "  DietaryRestrictions_dairy-free BestNights_wednesday  \\\n",
       "0                            NaN                  NaN   \n",
       "1                            NaN                  NaN   \n",
       "2                            NaN                  NaN   \n",
       "3                            NaN                  NaN   \n",
       "4                            NaN                  NaN   \n",
       "\n",
       "  DietaryRestrictions_vegan Ambience_romantic Music_jukebox Ambience_upscale  \\\n",
       "0                       NaN             False         False            False   \n",
       "1                       NaN               NaN           NaN              NaN   \n",
       "2                       NaN             False           NaN            False   \n",
       "3                       NaN               NaN           NaN              NaN   \n",
       "4                       NaN             False           NaN            False   \n",
       "\n",
       "  RestaurantsTakeOut BikeParking OutdoorSeating  \n",
       "0               True        True          False  \n",
       "1                NaN         NaN          False  \n",
       "2               True        True          False  \n",
       "3               True         NaN           True  \n",
       "4               True        True          False  \n",
       "\n",
       "[5 rows x 93 columns]"
      ]
     },
     "execution_count": 4,
     "metadata": {},
     "output_type": "execute_result"
    }
   ],
   "source": [
    "biz.columns=biz.columns.str.replace('attributes.','')\n",
    "biz.columns=biz.columns.str.replace('.',\"_\")\n",
    "biz.head()"
   ]
  },
  {
   "cell_type": "code",
   "execution_count": 5,
   "metadata": {
    "collapsed": true
   },
   "outputs": [],
   "source": [
    "#Merge reviews and business\n",
    "full_biz = pd.merge(reviews, biz, on='business_id', how='inner')"
   ]
  },
  {
   "cell_type": "code",
   "execution_count": null,
   "metadata": {
    "collapsed": true
   },
   "outputs": [],
   "source": [
    "#full_biz_inner = pd.merge(reviews, biz, on='business_id', how='inner')"
   ]
  },
  {
   "cell_type": "code",
   "execution_count": null,
   "metadata": {},
   "outputs": [],
   "source": [
    "#full_biz_inner.shape, reviews.shape, biz.shape"
   ]
  },
  {
   "cell_type": "code",
   "execution_count": null,
   "metadata": {},
   "outputs": [],
   "source": [
    "full_biz.shape, reviews.shape, biz.shape"
   ]
  },
  {
   "cell_type": "code",
   "execution_count": 6,
   "metadata": {
    "collapsed": true
   },
   "outputs": [],
   "source": [
    "#Drop where more than 50 percent missing\n",
    "full_biz = full_biz.dropna(thresh=len(full_biz) - 1265591, axis=1)"
   ]
  },
  {
   "cell_type": "code",
   "execution_count": 9,
   "metadata": {},
   "outputs": [],
   "source": [
    "columns = list(full_biz.columns)"
   ]
  },
  {
   "cell_type": "code",
   "execution_count": 18,
   "metadata": {},
   "outputs": [
    {
     "data": {
      "text/plain": [
       "user_id                        object\n",
       "business_id                    object\n",
       "rating                          int64\n",
       "date                           object\n",
       "Ambience_divey                 object\n",
       "RestaurantsDelivery            object\n",
       "Ambience_trendy                object\n",
       "postal_code                    object\n",
       "city                           object\n",
       "GoodForKids                    object\n",
       "Ambience_casual                object\n",
       "stars                         float64\n",
       "latitude                      float64\n",
       "Alcohol                        object\n",
       "RestaurantsPriceRange2        float64\n",
       "Ambience_classy                object\n",
       "RestaurantsTableService        object\n",
       "GoodForMeal_latenight          object\n",
       "GoodForMeal_dessert            object\n",
       "Ambience_touristy              object\n",
       "BusinessParking_validated      object\n",
       "GoodForMeal_lunch              object\n",
       "RestaurantsGoodForGroups       object\n",
       "categories                     object\n",
       "GoodForMeal_brunch             object\n",
       "name                           object\n",
       "BusinessParking_valet          object\n",
       "WheelchairAccessible           object\n",
       "Ambience_intimate              object\n",
       "Ambience_hipster               object\n",
       "BusinessAcceptsCreditCards     object\n",
       "is_open                         int64\n",
       "neighborhood                   object\n",
       "BusinessParking_garage         object\n",
       "WiFi                           object\n",
       "longitude                     float64\n",
       "review_count                    int64\n",
       "GoodForMeal_breakfast          object\n",
       "NoiseLevel                     object\n",
       "state                          object\n",
       "BusinessParking_lot            object\n",
       "HasTV                          object\n",
       "GoodForMeal_dinner             object\n",
       "BusinessParking_street         object\n",
       "RestaurantsAttire              object\n",
       "Caters                         object\n",
       "RestaurantsReservations        object\n",
       "Ambience_romantic              object\n",
       "Ambience_upscale               object\n",
       "RestaurantsTakeOut             object\n",
       "BikeParking                    object\n",
       "OutdoorSeating                 object\n",
       "dtype: object"
      ]
     },
     "execution_count": 18,
     "metadata": {},
     "output_type": "execute_result"
    }
   ],
   "source": [
    "full_biz.dtypes"
   ]
  },
  {
   "cell_type": "code",
   "execution_count": 14,
   "metadata": {
    "scrolled": true
   },
   "outputs": [
    {
     "data": {
      "text/html": [
       "<div>\n",
       "<style>\n",
       "    .dataframe thead tr:only-child th {\n",
       "        text-align: right;\n",
       "    }\n",
       "\n",
       "    .dataframe thead th {\n",
       "        text-align: left;\n",
       "    }\n",
       "\n",
       "    .dataframe tbody tr th {\n",
       "        vertical-align: top;\n",
       "    }\n",
       "</style>\n",
       "<table border=\"1\" class=\"dataframe\">\n",
       "  <thead>\n",
       "    <tr style=\"text-align: right;\">\n",
       "      <th></th>\n",
       "      <th>user_id</th>\n",
       "      <th>business_id</th>\n",
       "      <th>rating</th>\n",
       "      <th>date</th>\n",
       "      <th>Ambience_divey</th>\n",
       "      <th>RestaurantsDelivery</th>\n",
       "      <th>Ambience_trendy</th>\n",
       "      <th>postal_code</th>\n",
       "      <th>city</th>\n",
       "      <th>GoodForKids</th>\n",
       "      <th>Ambience_casual</th>\n",
       "      <th>stars</th>\n",
       "      <th>latitude</th>\n",
       "      <th>Alcohol</th>\n",
       "      <th>RestaurantsPriceRange2</th>\n",
       "      <th>Ambience_classy</th>\n",
       "      <th>RestaurantsTableService</th>\n",
       "      <th>GoodForMeal_latenight</th>\n",
       "      <th>GoodForMeal_dessert</th>\n",
       "      <th>Ambience_touristy</th>\n",
       "    </tr>\n",
       "  </thead>\n",
       "  <tbody>\n",
       "    <tr>\n",
       "      <th>0</th>\n",
       "      <td>V2exkc2JwEdc8UNUNhT7sg</td>\n",
       "      <td>--6MefnULPED_I942VcFNA</td>\n",
       "      <td>5</td>\n",
       "      <td>2016-08-25</td>\n",
       "      <td>NaN</td>\n",
       "      <td>False</td>\n",
       "      <td>False</td>\n",
       "      <td>L4B 3P7</td>\n",
       "      <td>Richmond Hill</td>\n",
       "      <td>True</td>\n",
       "      <td>True</td>\n",
       "      <td>3.0</td>\n",
       "      <td>43.840905</td>\n",
       "      <td>beer_and_wine</td>\n",
       "      <td>2.0</td>\n",
       "      <td>False</td>\n",
       "      <td>True</td>\n",
       "      <td>False</td>\n",
       "      <td>False</td>\n",
       "      <td>False</td>\n",
       "    </tr>\n",
       "    <tr>\n",
       "      <th>1</th>\n",
       "      <td>j97y1ZAsYABIOcR0KQCy5Q</td>\n",
       "      <td>--6MefnULPED_I942VcFNA</td>\n",
       "      <td>1</td>\n",
       "      <td>2010-12-06</td>\n",
       "      <td>NaN</td>\n",
       "      <td>False</td>\n",
       "      <td>False</td>\n",
       "      <td>L4B 3P7</td>\n",
       "      <td>Richmond Hill</td>\n",
       "      <td>True</td>\n",
       "      <td>True</td>\n",
       "      <td>3.0</td>\n",
       "      <td>43.840905</td>\n",
       "      <td>beer_and_wine</td>\n",
       "      <td>2.0</td>\n",
       "      <td>False</td>\n",
       "      <td>True</td>\n",
       "      <td>False</td>\n",
       "      <td>False</td>\n",
       "      <td>False</td>\n",
       "    </tr>\n",
       "    <tr>\n",
       "      <th>2</th>\n",
       "      <td>8-KBKMJVO-j5YqpHb08j9w</td>\n",
       "      <td>--6MefnULPED_I942VcFNA</td>\n",
       "      <td>4</td>\n",
       "      <td>2015-08-05</td>\n",
       "      <td>NaN</td>\n",
       "      <td>False</td>\n",
       "      <td>False</td>\n",
       "      <td>L4B 3P7</td>\n",
       "      <td>Richmond Hill</td>\n",
       "      <td>True</td>\n",
       "      <td>True</td>\n",
       "      <td>3.0</td>\n",
       "      <td>43.840905</td>\n",
       "      <td>beer_and_wine</td>\n",
       "      <td>2.0</td>\n",
       "      <td>False</td>\n",
       "      <td>True</td>\n",
       "      <td>False</td>\n",
       "      <td>False</td>\n",
       "      <td>False</td>\n",
       "    </tr>\n",
       "    <tr>\n",
       "      <th>3</th>\n",
       "      <td>CxDOIDnH8gp9KXzpBHJYXw</td>\n",
       "      <td>--6MefnULPED_I942VcFNA</td>\n",
       "      <td>2</td>\n",
       "      <td>2010-12-22</td>\n",
       "      <td>NaN</td>\n",
       "      <td>False</td>\n",
       "      <td>False</td>\n",
       "      <td>L4B 3P7</td>\n",
       "      <td>Richmond Hill</td>\n",
       "      <td>True</td>\n",
       "      <td>True</td>\n",
       "      <td>3.0</td>\n",
       "      <td>43.840905</td>\n",
       "      <td>beer_and_wine</td>\n",
       "      <td>2.0</td>\n",
       "      <td>False</td>\n",
       "      <td>True</td>\n",
       "      <td>False</td>\n",
       "      <td>False</td>\n",
       "      <td>False</td>\n",
       "    </tr>\n",
       "    <tr>\n",
       "      <th>4</th>\n",
       "      <td>7Dykd1HolQx8mKPYhYDYSg</td>\n",
       "      <td>--6MefnULPED_I942VcFNA</td>\n",
       "      <td>2</td>\n",
       "      <td>2017-02-07</td>\n",
       "      <td>NaN</td>\n",
       "      <td>False</td>\n",
       "      <td>False</td>\n",
       "      <td>L4B 3P7</td>\n",
       "      <td>Richmond Hill</td>\n",
       "      <td>True</td>\n",
       "      <td>True</td>\n",
       "      <td>3.0</td>\n",
       "      <td>43.840905</td>\n",
       "      <td>beer_and_wine</td>\n",
       "      <td>2.0</td>\n",
       "      <td>False</td>\n",
       "      <td>True</td>\n",
       "      <td>False</td>\n",
       "      <td>False</td>\n",
       "      <td>False</td>\n",
       "    </tr>\n",
       "  </tbody>\n",
       "</table>\n",
       "</div>"
      ],
      "text/plain": [
       "                  user_id             business_id  rating        date  \\\n",
       "0  V2exkc2JwEdc8UNUNhT7sg  --6MefnULPED_I942VcFNA       5  2016-08-25   \n",
       "1  j97y1ZAsYABIOcR0KQCy5Q  --6MefnULPED_I942VcFNA       1  2010-12-06   \n",
       "2  8-KBKMJVO-j5YqpHb08j9w  --6MefnULPED_I942VcFNA       4  2015-08-05   \n",
       "3  CxDOIDnH8gp9KXzpBHJYXw  --6MefnULPED_I942VcFNA       2  2010-12-22   \n",
       "4  7Dykd1HolQx8mKPYhYDYSg  --6MefnULPED_I942VcFNA       2  2017-02-07   \n",
       "\n",
       "  Ambience_divey RestaurantsDelivery Ambience_trendy postal_code  \\\n",
       "0            NaN               False           False     L4B 3P7   \n",
       "1            NaN               False           False     L4B 3P7   \n",
       "2            NaN               False           False     L4B 3P7   \n",
       "3            NaN               False           False     L4B 3P7   \n",
       "4            NaN               False           False     L4B 3P7   \n",
       "\n",
       "            city GoodForKids Ambience_casual  stars   latitude        Alcohol  \\\n",
       "0  Richmond Hill        True            True    3.0  43.840905  beer_and_wine   \n",
       "1  Richmond Hill        True            True    3.0  43.840905  beer_and_wine   \n",
       "2  Richmond Hill        True            True    3.0  43.840905  beer_and_wine   \n",
       "3  Richmond Hill        True            True    3.0  43.840905  beer_and_wine   \n",
       "4  Richmond Hill        True            True    3.0  43.840905  beer_and_wine   \n",
       "\n",
       "   RestaurantsPriceRange2 Ambience_classy RestaurantsTableService  \\\n",
       "0                     2.0           False                    True   \n",
       "1                     2.0           False                    True   \n",
       "2                     2.0           False                    True   \n",
       "3                     2.0           False                    True   \n",
       "4                     2.0           False                    True   \n",
       "\n",
       "  GoodForMeal_latenight GoodForMeal_dessert Ambience_touristy  \n",
       "0                 False               False             False  \n",
       "1                 False               False             False  \n",
       "2                 False               False             False  \n",
       "3                 False               False             False  \n",
       "4                 False               False             False  "
      ]
     },
     "execution_count": 14,
     "metadata": {},
     "output_type": "execute_result"
    }
   ],
   "source": [
    "full_biz[columns[:20]].head()"
   ]
  },
  {
   "cell_type": "code",
   "execution_count": 20,
   "metadata": {},
   "outputs": [
    {
     "data": {
      "text/plain": [
       "array([  2.,   4.,   1.,  nan,   3.])"
      ]
     },
     "execution_count": 20,
     "metadata": {},
     "output_type": "execute_result"
    }
   ],
   "source": [
    "full_biz.RestaurantsPriceRange2.unique()"
   ]
  },
  {
   "cell_type": "code",
   "execution_count": 15,
   "metadata": {},
   "outputs": [
    {
     "data": {
      "text/html": [
       "<div>\n",
       "<style>\n",
       "    .dataframe thead tr:only-child th {\n",
       "        text-align: right;\n",
       "    }\n",
       "\n",
       "    .dataframe thead th {\n",
       "        text-align: left;\n",
       "    }\n",
       "\n",
       "    .dataframe tbody tr th {\n",
       "        vertical-align: top;\n",
       "    }\n",
       "</style>\n",
       "<table border=\"1\" class=\"dataframe\">\n",
       "  <thead>\n",
       "    <tr style=\"text-align: right;\">\n",
       "      <th></th>\n",
       "      <th>BusinessParking_validated</th>\n",
       "      <th>GoodForMeal_lunch</th>\n",
       "      <th>RestaurantsGoodForGroups</th>\n",
       "      <th>categories</th>\n",
       "      <th>GoodForMeal_brunch</th>\n",
       "      <th>name</th>\n",
       "      <th>BusinessParking_valet</th>\n",
       "      <th>WheelchairAccessible</th>\n",
       "      <th>Ambience_intimate</th>\n",
       "      <th>Ambience_hipster</th>\n",
       "      <th>BusinessAcceptsCreditCards</th>\n",
       "      <th>is_open</th>\n",
       "      <th>neighborhood</th>\n",
       "      <th>BusinessParking_garage</th>\n",
       "      <th>WiFi</th>\n",
       "      <th>longitude</th>\n",
       "      <th>review_count</th>\n",
       "      <th>GoodForMeal_breakfast</th>\n",
       "      <th>NoiseLevel</th>\n",
       "      <th>state</th>\n",
       "    </tr>\n",
       "  </thead>\n",
       "  <tbody>\n",
       "    <tr>\n",
       "      <th>0</th>\n",
       "      <td>False</td>\n",
       "      <td>True</td>\n",
       "      <td>True</td>\n",
       "      <td>['Restaurants', 'Chinese']</td>\n",
       "      <td>False</td>\n",
       "      <td>John's Chinese BBQ Restaurant</td>\n",
       "      <td>False</td>\n",
       "      <td>True</td>\n",
       "      <td>False</td>\n",
       "      <td>False</td>\n",
       "      <td>True</td>\n",
       "      <td>1</td>\n",
       "      <td>NaN</td>\n",
       "      <td>False</td>\n",
       "      <td>no</td>\n",
       "      <td>-79.399604</td>\n",
       "      <td>30</td>\n",
       "      <td>False</td>\n",
       "      <td>quiet</td>\n",
       "      <td>ON</td>\n",
       "    </tr>\n",
       "    <tr>\n",
       "      <th>1</th>\n",
       "      <td>False</td>\n",
       "      <td>True</td>\n",
       "      <td>True</td>\n",
       "      <td>['Restaurants', 'Chinese']</td>\n",
       "      <td>False</td>\n",
       "      <td>John's Chinese BBQ Restaurant</td>\n",
       "      <td>False</td>\n",
       "      <td>True</td>\n",
       "      <td>False</td>\n",
       "      <td>False</td>\n",
       "      <td>True</td>\n",
       "      <td>1</td>\n",
       "      <td>NaN</td>\n",
       "      <td>False</td>\n",
       "      <td>no</td>\n",
       "      <td>-79.399604</td>\n",
       "      <td>30</td>\n",
       "      <td>False</td>\n",
       "      <td>quiet</td>\n",
       "      <td>ON</td>\n",
       "    </tr>\n",
       "    <tr>\n",
       "      <th>2</th>\n",
       "      <td>False</td>\n",
       "      <td>True</td>\n",
       "      <td>True</td>\n",
       "      <td>['Restaurants', 'Chinese']</td>\n",
       "      <td>False</td>\n",
       "      <td>John's Chinese BBQ Restaurant</td>\n",
       "      <td>False</td>\n",
       "      <td>True</td>\n",
       "      <td>False</td>\n",
       "      <td>False</td>\n",
       "      <td>True</td>\n",
       "      <td>1</td>\n",
       "      <td>NaN</td>\n",
       "      <td>False</td>\n",
       "      <td>no</td>\n",
       "      <td>-79.399604</td>\n",
       "      <td>30</td>\n",
       "      <td>False</td>\n",
       "      <td>quiet</td>\n",
       "      <td>ON</td>\n",
       "    </tr>\n",
       "    <tr>\n",
       "      <th>3</th>\n",
       "      <td>False</td>\n",
       "      <td>True</td>\n",
       "      <td>True</td>\n",
       "      <td>['Restaurants', 'Chinese']</td>\n",
       "      <td>False</td>\n",
       "      <td>John's Chinese BBQ Restaurant</td>\n",
       "      <td>False</td>\n",
       "      <td>True</td>\n",
       "      <td>False</td>\n",
       "      <td>False</td>\n",
       "      <td>True</td>\n",
       "      <td>1</td>\n",
       "      <td>NaN</td>\n",
       "      <td>False</td>\n",
       "      <td>no</td>\n",
       "      <td>-79.399604</td>\n",
       "      <td>30</td>\n",
       "      <td>False</td>\n",
       "      <td>quiet</td>\n",
       "      <td>ON</td>\n",
       "    </tr>\n",
       "    <tr>\n",
       "      <th>4</th>\n",
       "      <td>False</td>\n",
       "      <td>True</td>\n",
       "      <td>True</td>\n",
       "      <td>['Restaurants', 'Chinese']</td>\n",
       "      <td>False</td>\n",
       "      <td>John's Chinese BBQ Restaurant</td>\n",
       "      <td>False</td>\n",
       "      <td>True</td>\n",
       "      <td>False</td>\n",
       "      <td>False</td>\n",
       "      <td>True</td>\n",
       "      <td>1</td>\n",
       "      <td>NaN</td>\n",
       "      <td>False</td>\n",
       "      <td>no</td>\n",
       "      <td>-79.399604</td>\n",
       "      <td>30</td>\n",
       "      <td>False</td>\n",
       "      <td>quiet</td>\n",
       "      <td>ON</td>\n",
       "    </tr>\n",
       "  </tbody>\n",
       "</table>\n",
       "</div>"
      ],
      "text/plain": [
       "  BusinessParking_validated GoodForMeal_lunch RestaurantsGoodForGroups  \\\n",
       "0                     False              True                     True   \n",
       "1                     False              True                     True   \n",
       "2                     False              True                     True   \n",
       "3                     False              True                     True   \n",
       "4                     False              True                     True   \n",
       "\n",
       "                   categories GoodForMeal_brunch  \\\n",
       "0  ['Restaurants', 'Chinese']              False   \n",
       "1  ['Restaurants', 'Chinese']              False   \n",
       "2  ['Restaurants', 'Chinese']              False   \n",
       "3  ['Restaurants', 'Chinese']              False   \n",
       "4  ['Restaurants', 'Chinese']              False   \n",
       "\n",
       "                            name BusinessParking_valet WheelchairAccessible  \\\n",
       "0  John's Chinese BBQ Restaurant                 False                 True   \n",
       "1  John's Chinese BBQ Restaurant                 False                 True   \n",
       "2  John's Chinese BBQ Restaurant                 False                 True   \n",
       "3  John's Chinese BBQ Restaurant                 False                 True   \n",
       "4  John's Chinese BBQ Restaurant                 False                 True   \n",
       "\n",
       "  Ambience_intimate Ambience_hipster BusinessAcceptsCreditCards  is_open  \\\n",
       "0             False            False                       True        1   \n",
       "1             False            False                       True        1   \n",
       "2             False            False                       True        1   \n",
       "3             False            False                       True        1   \n",
       "4             False            False                       True        1   \n",
       "\n",
       "  neighborhood BusinessParking_garage WiFi  longitude  review_count  \\\n",
       "0          NaN                  False   no -79.399604            30   \n",
       "1          NaN                  False   no -79.399604            30   \n",
       "2          NaN                  False   no -79.399604            30   \n",
       "3          NaN                  False   no -79.399604            30   \n",
       "4          NaN                  False   no -79.399604            30   \n",
       "\n",
       "  GoodForMeal_breakfast NoiseLevel state  \n",
       "0                 False      quiet    ON  \n",
       "1                 False      quiet    ON  \n",
       "2                 False      quiet    ON  \n",
       "3                 False      quiet    ON  \n",
       "4                 False      quiet    ON  "
      ]
     },
     "execution_count": 15,
     "metadata": {},
     "output_type": "execute_result"
    }
   ],
   "source": [
    "full_biz[columns[20:40]].head()"
   ]
  },
  {
   "cell_type": "code",
   "execution_count": 25,
   "metadata": {},
   "outputs": [
    {
     "data": {
      "text/plain": [
       "array(['casual', 'dressy', nan, 'formal'], dtype=object)"
      ]
     },
     "execution_count": 25,
     "metadata": {},
     "output_type": "execute_result"
    }
   ],
   "source": [
    "full_biz.RestaurantsAttire.unique()"
   ]
  },
  {
   "cell_type": "code",
   "execution_count": 17,
   "metadata": {},
   "outputs": [
    {
     "data": {
      "text/html": [
       "<div>\n",
       "<style>\n",
       "    .dataframe thead tr:only-child th {\n",
       "        text-align: right;\n",
       "    }\n",
       "\n",
       "    .dataframe thead th {\n",
       "        text-align: left;\n",
       "    }\n",
       "\n",
       "    .dataframe tbody tr th {\n",
       "        vertical-align: top;\n",
       "    }\n",
       "</style>\n",
       "<table border=\"1\" class=\"dataframe\">\n",
       "  <thead>\n",
       "    <tr style=\"text-align: right;\">\n",
       "      <th></th>\n",
       "      <th>BusinessParking_lot</th>\n",
       "      <th>HasTV</th>\n",
       "      <th>GoodForMeal_dinner</th>\n",
       "      <th>BusinessParking_street</th>\n",
       "      <th>RestaurantsAttire</th>\n",
       "      <th>Caters</th>\n",
       "      <th>RestaurantsReservations</th>\n",
       "      <th>Ambience_romantic</th>\n",
       "      <th>Ambience_upscale</th>\n",
       "      <th>RestaurantsTakeOut</th>\n",
       "      <th>BikeParking</th>\n",
       "      <th>OutdoorSeating</th>\n",
       "    </tr>\n",
       "  </thead>\n",
       "  <tbody>\n",
       "    <tr>\n",
       "      <th>0</th>\n",
       "      <td>True</td>\n",
       "      <td>False</td>\n",
       "      <td>True</td>\n",
       "      <td>False</td>\n",
       "      <td>casual</td>\n",
       "      <td>False</td>\n",
       "      <td>True</td>\n",
       "      <td>False</td>\n",
       "      <td>False</td>\n",
       "      <td>True</td>\n",
       "      <td>False</td>\n",
       "      <td>False</td>\n",
       "    </tr>\n",
       "    <tr>\n",
       "      <th>1</th>\n",
       "      <td>True</td>\n",
       "      <td>False</td>\n",
       "      <td>True</td>\n",
       "      <td>False</td>\n",
       "      <td>casual</td>\n",
       "      <td>False</td>\n",
       "      <td>True</td>\n",
       "      <td>False</td>\n",
       "      <td>False</td>\n",
       "      <td>True</td>\n",
       "      <td>False</td>\n",
       "      <td>False</td>\n",
       "    </tr>\n",
       "    <tr>\n",
       "      <th>2</th>\n",
       "      <td>True</td>\n",
       "      <td>False</td>\n",
       "      <td>True</td>\n",
       "      <td>False</td>\n",
       "      <td>casual</td>\n",
       "      <td>False</td>\n",
       "      <td>True</td>\n",
       "      <td>False</td>\n",
       "      <td>False</td>\n",
       "      <td>True</td>\n",
       "      <td>False</td>\n",
       "      <td>False</td>\n",
       "    </tr>\n",
       "    <tr>\n",
       "      <th>3</th>\n",
       "      <td>True</td>\n",
       "      <td>False</td>\n",
       "      <td>True</td>\n",
       "      <td>False</td>\n",
       "      <td>casual</td>\n",
       "      <td>False</td>\n",
       "      <td>True</td>\n",
       "      <td>False</td>\n",
       "      <td>False</td>\n",
       "      <td>True</td>\n",
       "      <td>False</td>\n",
       "      <td>False</td>\n",
       "    </tr>\n",
       "    <tr>\n",
       "      <th>4</th>\n",
       "      <td>True</td>\n",
       "      <td>False</td>\n",
       "      <td>True</td>\n",
       "      <td>False</td>\n",
       "      <td>casual</td>\n",
       "      <td>False</td>\n",
       "      <td>True</td>\n",
       "      <td>False</td>\n",
       "      <td>False</td>\n",
       "      <td>True</td>\n",
       "      <td>False</td>\n",
       "      <td>False</td>\n",
       "    </tr>\n",
       "  </tbody>\n",
       "</table>\n",
       "</div>"
      ],
      "text/plain": [
       "  BusinessParking_lot  HasTV GoodForMeal_dinner BusinessParking_street  \\\n",
       "0                True  False               True                  False   \n",
       "1                True  False               True                  False   \n",
       "2                True  False               True                  False   \n",
       "3                True  False               True                  False   \n",
       "4                True  False               True                  False   \n",
       "\n",
       "  RestaurantsAttire Caters RestaurantsReservations Ambience_romantic  \\\n",
       "0            casual  False                    True             False   \n",
       "1            casual  False                    True             False   \n",
       "2            casual  False                    True             False   \n",
       "3            casual  False                    True             False   \n",
       "4            casual  False                    True             False   \n",
       "\n",
       "  Ambience_upscale RestaurantsTakeOut BikeParking OutdoorSeating  \n",
       "0            False               True       False          False  \n",
       "1            False               True       False          False  \n",
       "2            False               True       False          False  \n",
       "3            False               True       False          False  \n",
       "4            False               True       False          False  "
      ]
     },
     "execution_count": 17,
     "metadata": {},
     "output_type": "execute_result"
    }
   ],
   "source": [
    "full_biz[columns[40:]].head()"
   ]
  },
  {
   "cell_type": "code",
   "execution_count": 26,
   "metadata": {
    "collapsed": true
   },
   "outputs": [],
   "source": [
    "binary_vars = [\"Caters\",\"RestaurantsReservations\",\"Ambience_romantic\",\"Ambience_upscale\",\n",
    "               \"RestaurantsTakeOut\",\"BikeParking\",\"OutdoorSeating\",\"BusinessParking_lot\",\"HasTV\",\"GoodForMeal_dinner\",\n",
    "               \"BusinessParking_street\",\"GoodForMeal_breakfast\",\"BusinessParking_garage\",\"BusinessParking_valet\",\n",
    "               \"WheelchairAccessible\",\"Ambience_intimate\",\"Ambience_hipster\",\"BusinessAcceptsCreditCards\",\n",
    "               \"GoodForMeal_brunch\",\"Ambience_classy\",\"RestaurantsTableService\",\"GoodForMeal_latenight\",\n",
    "               \"GoodForMeal_dessert\",\"Ambience_touristy\",\"BusinessParking_validated\",\"GoodForMeal_lunch\",\n",
    "               \"RestaurantsGoodForGroups\",\"GoodForKids\",\"Ambience_casual\",\"Ambience_divey\",\"RestaurantsDelivery\",\n",
    "               \"Ambience_trendy\"]\n"
   ]
  },
  {
   "cell_type": "code",
   "execution_count": null,
   "metadata": {
    "collapsed": true
   },
   "outputs": [],
   "source": [
    "cat_vars = "
   ]
  },
  {
   "cell_type": "code",
   "execution_count": null,
   "metadata": {
    "scrolled": true
   },
   "outputs": [],
   "source": [
    "full_biz.isnull().sum()"
   ]
  },
  {
   "cell_type": "code",
   "execution_count": null,
   "metadata": {
    "collapsed": true
   },
   "outputs": [],
   "source": [
    "\"\"\"GoodForMeal_latenight          object\n",
    "GoodForMeal_dessert            object\n",
    "GoodForMeal_latenight          object\n",
    "GoodForMeal_dessert            object\n",
    "GoodForMeal_lunch              object\n",
    "GoodForMeal_brunch             object\n",
    "GoodForMeal_breakfast          object\n",
    "GoodForMeal_dinner             object\"\"\""
   ]
  },
  {
   "cell_type": "code",
   "execution_count": null,
   "metadata": {},
   "outputs": [],
   "source": [
    "#full_biz.GoodForMeal_breakfast.unique()\n",
    "mycat = str(full_biz.categories)"
   ]
  },
  {
   "cell_type": "code",
   "execution_count": null,
   "metadata": {},
   "outputs": [],
   "source": [
    "#full_biz.dtypes"
   ]
  },
  {
   "cell_type": "code",
   "execution_count": null,
   "metadata": {
    "collapsed": true
   },
   "outputs": [],
   "source": [
    "uniques = list(full_biz.categories.unique())\n"
   ]
  },
  {
   "cell_type": "code",
   "execution_count": null,
   "metadata": {
    "collapsed": true
   },
   "outputs": [],
   "source": [
    "flat_list = [item for sublist in l for item in sublist]"
   ]
  },
  {
   "cell_type": "code",
   "execution_count": null,
   "metadata": {},
   "outputs": [],
   "source": [
    "#flat_list = [item for sublist in l for item in sublist]\n",
    "\n",
    "for sublist in uniques:\n",
    "    for item in sublist:\n",
    "        flat_list.append(item)"
   ]
  },
  {
   "cell_type": "code",
   "execution_count": null,
   "metadata": {},
   "outputs": [],
   "source": []
  },
  {
   "cell_type": "code",
   "execution_count": null,
   "metadata": {
    "collapsed": true
   },
   "outputs": [],
   "source": [
    "def iterFlatten(root):\n",
    "    if isinstance(root, (list, tuple)):\n",
    "        for element in root:\n",
    "            for e in iterFlatten(element):\n",
    "                yield e\n",
    "    else:\n",
    "        yield root"
   ]
  },
  {
   "cell_type": "code",
   "execution_count": null,
   "metadata": {},
   "outputs": [],
   "source": [
    "#list(iterFlatten(uniques))"
   ]
  },
  {
   "cell_type": "code",
   "execution_count": null,
   "metadata": {},
   "outputs": [],
   "source": [
    "import itertools\n",
    "#list_of_cats = list(itertools.chain.from_iterable(uniques))\n",
    "#list_of_cats = sum(uniques, [])\n",
    "list_of_cats = []\n",
    "map(list_of_cats.extend, uniques)"
   ]
  },
  {
   "cell_type": "code",
   "execution_count": null,
   "metadata": {},
   "outputs": [],
   "source": [
    "list_of_cats"
   ]
  },
  {
   "cell_type": "code",
   "execution_count": null,
   "metadata": {
    "collapsed": true
   },
   "outputs": [],
   "source": [
    "\"\"float_vars = ['stars','latitude','RestaurantsPriceRange2','longitude']\n",
    "int_vars = ['is_open','review_count']\"\""
   ]
  },
  {
   "cell_type": "code",
   "execution_count": null,
   "metadata": {
    "collapsed": true,
    "scrolled": true
   },
   "outputs": [],
   "source": [
    "test_vars = list(full_biz.columns)\n",
    "#test_vars"
   ]
  },
  {
   "cell_type": "code",
   "execution_count": null,
   "metadata": {},
   "outputs": [],
   "source": [
    "test_vars"
   ]
  },
  {
   "cell_type": "code",
   "execution_count": null,
   "metadata": {},
   "outputs": [],
   "source": [
    "for var in test_vars:\n",
    "    full_biz[var] = 1*full_biz[var]\n",
    "    \n",
    "full_biz2 = full_biz[test_vars].replace(np.nan, np.nan, regex=True)\n",
    "full_biz2.head()"
   ]
  },
  {
   "cell_type": "code",
   "execution_count": null,
   "metadata": {
    "scrolled": true
   },
   "outputs": [],
   "source": [
    "full_biz2.dtypes"
   ]
  },
  {
   "cell_type": "code",
   "execution_count": null,
   "metadata": {},
   "outputs": [],
   "source": [
    "import seaborn as sns\n",
    "fig, ax = plt.subplots(1,1, figsize =(10,8))\n",
    "sns.heatmap(full_biz2.corr(), ax=ax)"
   ]
  },
  {
   "cell_type": "code",
   "execution_count": null,
   "metadata": {
    "collapsed": true
   },
   "outputs": [],
   "source": [
    "#dropping based on collinearity\n",
    "\n",
    "#We have relatively few collinear points although we do have quite a few missing values - this is something \n",
    "#we'll discover soon enough in later EDA. \n",
    "\n"
   ]
  },
  {
   "cell_type": "code",
   "execution_count": null,
   "metadata": {},
   "outputs": [],
   "source": [
    "#full_biz2.dtypes"
   ]
  },
  {
   "cell_type": "code",
   "execution_count": null,
   "metadata": {},
   "outputs": [],
   "source": [
    "\n",
    "\n",
    "full_biz2.WiFi = full_biz2.WiFi.replace(np.nan, '', regex=True)\n",
    "full_biz2.WiFi.unique()"
   ]
  },
  {
   "cell_type": "code",
   "execution_count": null,
   "metadata": {},
   "outputs": [],
   "source": [
    "object_to_text_vars = ['user_id', 'business_id', 'postal_code','city','Alcohol','categories','name',\n",
    "                       'WiFi','NoiseLevel','state','date']\n",
    "\n",
    "for var in object_to_text_vars:\n",
    "    full_biz2[var] = full_biz2[var].replace(np.nan, '', regex=True)\n"
   ]
  },
  {
   "cell_type": "code",
   "execution_count": null,
   "metadata": {},
   "outputs": [],
   "source": [
    "fig, ax = plt.subplots(1, 1, figsize=(9, 8))\n",
    "plt.scatter( full_biz2.rating, full_biz2.GoodForMeal_breakfast, color=sns.color_palette(), alpha=0.75)\n",
    "plt.xlabel(\"User's Average Rating\")\n",
    "plt.ylabel('Number of Reviews')\n",
    "plt.title('Average Rating by User Activity') "
   ]
  },
  {
   "cell_type": "code",
   "execution_count": null,
   "metadata": {
    "collapsed": true
   },
   "outputs": [],
   "source": [
    "good_for = ['Good']"
   ]
  },
  {
   "cell_type": "code",
   "execution_count": null,
   "metadata": {},
   "outputs": [],
   "source": [
    "#plt.scatter(full_biz2.rating, full_biz2.GoodForMeal_breakfast)\n",
    "\n",
    "\n",
    "\n",
    "x_filt = full_biz2.rating[GoodForMeal_breakfast>0]\n",
    "y_filt = full_biz2.GoodForMeal_breakfast[GoodForMeal_breakfast>0]\n",
    "\n",
    "plt.scatter(x_filt, y_filt)"
   ]
  },
  {
   "cell_type": "code",
   "execution_count": null,
   "metadata": {},
   "outputs": [],
   "source": [
    "\"\"\"full_biz2['new'] = full_biz2['user_id'].str.split(',') \n",
    "#df['column_new'] = df['column'].str.split(',') \n",
    "full_biz2.dtypes\"\"\""
   ]
  },
  {
   "cell_type": "code",
   "execution_count": null,
   "metadata": {},
   "outputs": [],
   "source": [
    "full_biz2.state.unique()"
   ]
  },
  {
   "cell_type": "code",
   "execution_count": null,
   "metadata": {
    "collapsed": true
   },
   "outputs": [],
   "source": [
    "tips.columns = ['business_id', 'user_id', 'unidentifiedinfo_tips'] \n",
    "\n",
    "tips['business_id'] = tips['business_id'].map(lambda x: x[1:])\n",
    "tips['user_id'] = tips['user_id'].map(lambda x: x[:-1])\n",
    "tips.head()"
   ]
  },
  {
   "cell_type": "code",
   "execution_count": null,
   "metadata": {
    "collapsed": true
   },
   "outputs": [],
   "source": [
    "users.head()"
   ]
  },
  {
   "cell_type": "code",
   "execution_count": null,
   "metadata": {
    "collapsed": true
   },
   "outputs": [],
   "source": []
  },
  {
   "cell_type": "code",
   "execution_count": null,
   "metadata": {
    "collapsed": true
   },
   "outputs": [],
   "source": [
    "\"\"\"\n",
    "Based on this knowledge, the following EDA steps may be necessary:\n",
    "\n",
    "1. Label column headers - \n",
    "    a. Check-ins: User_ID, # of Check-ins\n",
    "    b. Photos: User_ID, # of Photos\n",
    "    c. Review: Business_ID?, User_ID?, Stars, Date (of the review?)\n",
    "    d. Biz: Use column headers from dataset\n",
    "    e. Tips: Business_ID, User_ID, # of tips?\n",
    "    \n",
    "    Questions that arise:\n",
    "    - We have a wide range in the number of records across sets. Is it because \n",
    "    of the number of businesses, number of users, or both? We should confirm\n",
    "    the population of each set and make sure we're clear on that in this EDA.\n",
    "    \n",
    "2. Merge variables as needed - \n",
    "    a. It may be easiest to work with one large dataset that is at the user-level\n",
    "    that contains all of the information that we need. If so, the following pieces\n",
    "    may be necessary:\n",
    "    b. Determine what level we should be working at - user, review, or business\n",
    "        i. Seems like we should be at the user-level, in which case, will we have \n",
    "        multiple duplicates for the users depending on how many reviews we have?\n",
    "    c. Merge depending on level determined.\n",
    "    \n",
    "    Questions that arise:\n",
    "    - \n",
    "    \n",
    "3. Basic cleaning - \n",
    "    a. Do we have duplicates in any of these datasets? If so, why?\n",
    "    b. Missing values - \n",
    "        i. Due to that merging, we should have missing values in some users\n",
    "        ii. Figure out a strategy for dealing with those missing values. \n",
    "    \n",
    "4. Do basic EDA - \n",
    "\n",
    "    a. How many unique users? Businesses? Reviews? \n",
    "    b. User behavior - \n",
    "        i. What do the most and least active users look like? Are they enthusiastic?\n",
    "            Do they travel? \n",
    "        ii. Do a user's reviews tend to favor a particular style of restaurant \n",
    "            (is there a clustering of taste inherent in the data already)?\n",
    "        iii. What do reviews look like? Are there certain variables that are \n",
    "            are always missing? \n",
    "    \n",
    "    Questions that arise:\n",
    "        - Do we have enough information about folks to adequately make these predictions?\n",
    "            What else might we need to impute?\n",
    "            \n"
   ]
  }
 ],
 "metadata": {
  "kernelspec": {
   "display_name": "Python 3",
   "language": "python",
   "name": "python3"
  },
  "language_info": {
   "codemirror_mode": {
    "name": "ipython",
    "version": 3
   },
   "file_extension": ".py",
   "mimetype": "text/x-python",
   "name": "python",
   "nbconvert_exporter": "python",
   "pygments_lexer": "ipython3",
   "version": "3.6.1"
  }
 },
 "nbformat": 4,
 "nbformat_minor": 2
}
