{
 "cells": [
  {
   "cell_type": "code",
   "execution_count": 9,
   "metadata": {
    "hide": true
   },
   "outputs": [],
   "source": [
    "import numpy as np\n",
    "import pandas as pd\n",
    "import matplotlib\n",
    "import matplotlib.pyplot as plt\n",
    "from sklearn.metrics import r2_score\n",
    "import statsmodels.api as sm\n",
    "from statsmodels.api import OLS\n",
    "from sklearn.linear_model import LinearRegression\n",
    "from sklearn.linear_model import RidgeCV\n",
    "from sklearn.linear_model import LassoCV\n",
    "%matplotlib inline"
   ]
  },
  {
   "cell_type": "markdown",
   "metadata": {},
   "source": [
    "# Baseline Model"
   ]
  },
  {
   "cell_type": "markdown",
   "metadata": {},
   "source": [
    "At its most basic level, a recommendation system takes information previously collected on both users and items and is able to pair them together to predict how much a user would like new items. Often times, such a baseline is surprisingly effective, and improvements on the baseline are hard-won. \n",
    "\n",
    "Here, we define our baseline using a simple multiple linear regression of average rating for each user and average rating for a given restaurant, $m$, to predict what each user would rate $m$. The model is as follows:\n",
    "\n",
    "$$\\hat{Y_{um}} = \\hat{\\mu} + \\hat{\\theta}_{u} + \\hat{\\gamma}_{m}$$\n",
    "\n",
    "Where $\\hat{\\theta}_{u}$ is the average rating for user $u$, $\\hat{\\gamma}_{m}$ is the average rating for restaurant $m$, and $\\hat{\\mu}$ is the intercept.\n",
    "\n",
    "\n",
    "In our analysis, we will first run this baseline model on ratings from all 8 states of interest (NV, AZ, ON, NC, OH, PA, QC, and WI). Then we will run the model on each state separately to see how well the model predicts within market."
   ]
  },
  {
   "cell_type": "markdown",
   "metadata": {},
   "source": [
    "## Run baseline model on full universe of reviews"
   ]
  },
  {
   "cell_type": "code",
   "execution_count": 28,
   "metadata": {},
   "outputs": [
    {
     "name": "stdout",
     "output_type": "stream",
     "text": [
      "(4870, 13)\n",
      "(1231, 13)\n"
     ]
    }
   ],
   "source": [
    "## Load in test and train data for all markets\n",
    "#train_df = pd.read_csv(\"Data/train.csv\")\n",
    "#test_df = pd.read_csv(\"Data/test.csv\")\n",
    "train_df = pd.read_csv(\"Data/states/train/PA/train_150.csv\")\n",
    "test_df = pd.read_csv(\"Data/states/test/PA/test_150.csv\")\n",
    "print(train_df.shape)\n",
    "print(test_df.shape)"
   ]
  },
  {
   "cell_type": "code",
   "execution_count": 29,
   "metadata": {},
   "outputs": [
    {
     "data": {
      "text/html": [
       "<div>\n",
       "<style>\n",
       "    .dataframe thead tr:only-child th {\n",
       "        text-align: right;\n",
       "    }\n",
       "\n",
       "    .dataframe thead th {\n",
       "        text-align: left;\n",
       "    }\n",
       "\n",
       "    .dataframe tbody tr th {\n",
       "        vertical-align: top;\n",
       "    }\n",
       "</style>\n",
       "<table border=\"1\" class=\"dataframe\">\n",
       "  <thead>\n",
       "    <tr style=\"text-align: right;\">\n",
       "      <th></th>\n",
       "      <th>review_date</th>\n",
       "      <th>business_longitude</th>\n",
       "      <th>business_id</th>\n",
       "      <th>business_categories</th>\n",
       "      <th>business_name</th>\n",
       "      <th>business_state</th>\n",
       "      <th>review_score</th>\n",
       "      <th>user_id</th>\n",
       "      <th>user_average_rating</th>\n",
       "      <th>business_review_count</th>\n",
       "      <th>business_average_rating</th>\n",
       "      <th>business_latitude</th>\n",
       "      <th>user_review_count</th>\n",
       "    </tr>\n",
       "  </thead>\n",
       "  <tbody>\n",
       "    <tr>\n",
       "      <th>0</th>\n",
       "      <td>2010-12-30</td>\n",
       "      <td>-79.923402</td>\n",
       "      <td>v3BLVPLRo2Egeak29B9lug</td>\n",
       "      <td>['Restaurants', 'Indian']</td>\n",
       "      <td>Coriander India Grill</td>\n",
       "      <td>PA</td>\n",
       "      <td>3.0</td>\n",
       "      <td>-Vu7L3U7-kxDyY1VHxw3zw</td>\n",
       "      <td>3.3</td>\n",
       "      <td>126</td>\n",
       "      <td>3.0</td>\n",
       "      <td>40.432151</td>\n",
       "      <td>548</td>\n",
       "    </tr>\n",
       "    <tr>\n",
       "      <th>1</th>\n",
       "      <td>2010-06-23</td>\n",
       "      <td>-79.957143</td>\n",
       "      <td>MBirSnTW4pt2k7Ny6KC72w</td>\n",
       "      <td>['Chinese', 'Szechuan', 'Restaurants']</td>\n",
       "      <td>Szechuan Express</td>\n",
       "      <td>PA</td>\n",
       "      <td>1.0</td>\n",
       "      <td>-Vu7L3U7-kxDyY1VHxw3zw</td>\n",
       "      <td>3.3</td>\n",
       "      <td>61</td>\n",
       "      <td>3.0</td>\n",
       "      <td>40.441793</td>\n",
       "      <td>548</td>\n",
       "    </tr>\n",
       "    <tr>\n",
       "      <th>2</th>\n",
       "      <td>2010-11-30</td>\n",
       "      <td>-79.956120</td>\n",
       "      <td>jd1rD7jr-_zI46Oxh5lDLA</td>\n",
       "      <td>['Restaurants', 'Pizza', 'Italian']</td>\n",
       "      <td>Antoon's Pizza</td>\n",
       "      <td>PA</td>\n",
       "      <td>2.0</td>\n",
       "      <td>-Vu7L3U7-kxDyY1VHxw3zw</td>\n",
       "      <td>3.3</td>\n",
       "      <td>19</td>\n",
       "      <td>3.5</td>\n",
       "      <td>40.440158</td>\n",
       "      <td>548</td>\n",
       "    </tr>\n",
       "    <tr>\n",
       "      <th>3</th>\n",
       "      <td>2011-03-16</td>\n",
       "      <td>-79.979980</td>\n",
       "      <td>t5DQeB3dORfNwx9otGUrSA</td>\n",
       "      <td>['Restaurants', 'Sports Bars', 'Bars', 'Wine B...</td>\n",
       "      <td>Casey's Draft House</td>\n",
       "      <td>PA</td>\n",
       "      <td>2.0</td>\n",
       "      <td>-Vu7L3U7-kxDyY1VHxw3zw</td>\n",
       "      <td>3.3</td>\n",
       "      <td>26</td>\n",
       "      <td>3.5</td>\n",
       "      <td>40.428944</td>\n",
       "      <td>548</td>\n",
       "    </tr>\n",
       "    <tr>\n",
       "      <th>4</th>\n",
       "      <td>2010-09-18</td>\n",
       "      <td>-79.968631</td>\n",
       "      <td>7mU3l5VjH1IxsXcxBxUblg</td>\n",
       "      <td>['Bars', 'Restaurants', 'Nightlife', 'Mexican']</td>\n",
       "      <td>Emilliano's Mexican Restaurant and Bar</td>\n",
       "      <td>PA</td>\n",
       "      <td>2.0</td>\n",
       "      <td>-Vu7L3U7-kxDyY1VHxw3zw</td>\n",
       "      <td>3.3</td>\n",
       "      <td>208</td>\n",
       "      <td>3.5</td>\n",
       "      <td>40.427722</td>\n",
       "      <td>548</td>\n",
       "    </tr>\n",
       "  </tbody>\n",
       "</table>\n",
       "</div>"
      ],
      "text/plain": [
       "  review_date  business_longitude             business_id  \\\n",
       "0  2010-12-30          -79.923402  v3BLVPLRo2Egeak29B9lug   \n",
       "1  2010-06-23          -79.957143  MBirSnTW4pt2k7Ny6KC72w   \n",
       "2  2010-11-30          -79.956120  jd1rD7jr-_zI46Oxh5lDLA   \n",
       "3  2011-03-16          -79.979980  t5DQeB3dORfNwx9otGUrSA   \n",
       "4  2010-09-18          -79.968631  7mU3l5VjH1IxsXcxBxUblg   \n",
       "\n",
       "                                 business_categories  \\\n",
       "0                          ['Restaurants', 'Indian']   \n",
       "1             ['Chinese', 'Szechuan', 'Restaurants']   \n",
       "2                ['Restaurants', 'Pizza', 'Italian']   \n",
       "3  ['Restaurants', 'Sports Bars', 'Bars', 'Wine B...   \n",
       "4    ['Bars', 'Restaurants', 'Nightlife', 'Mexican']   \n",
       "\n",
       "                            business_name business_state  review_score  \\\n",
       "0                   Coriander India Grill             PA           3.0   \n",
       "1                        Szechuan Express             PA           1.0   \n",
       "2                          Antoon's Pizza             PA           2.0   \n",
       "3                     Casey's Draft House             PA           2.0   \n",
       "4  Emilliano's Mexican Restaurant and Bar             PA           2.0   \n",
       "\n",
       "                  user_id  user_average_rating  business_review_count  \\\n",
       "0  -Vu7L3U7-kxDyY1VHxw3zw                  3.3                    126   \n",
       "1  -Vu7L3U7-kxDyY1VHxw3zw                  3.3                     61   \n",
       "2  -Vu7L3U7-kxDyY1VHxw3zw                  3.3                     19   \n",
       "3  -Vu7L3U7-kxDyY1VHxw3zw                  3.3                     26   \n",
       "4  -Vu7L3U7-kxDyY1VHxw3zw                  3.3                    208   \n",
       "\n",
       "   business_average_rating  business_latitude  user_review_count  \n",
       "0                      3.0          40.432151                548  \n",
       "1                      3.0          40.441793                548  \n",
       "2                      3.5          40.440158                548  \n",
       "3                      3.5          40.428944                548  \n",
       "4                      3.5          40.427722                548  "
      ]
     },
     "execution_count": 29,
     "metadata": {},
     "output_type": "execute_result"
    }
   ],
   "source": [
    "train_df.head()"
   ]
  },
  {
   "cell_type": "code",
   "execution_count": 30,
   "metadata": {},
   "outputs": [
    {
     "name": "stdout",
     "output_type": "stream",
     "text": [
      "Index(['review_date', 'business_longitude', 'business_id',\n",
      "       'business_categories', 'business_name', 'business_state',\n",
      "       'review_score', 'user_id', 'user_average_rating',\n",
      "       'business_review_count', 'business_average_rating', 'business_latitude',\n",
      "       'user_review_count'],\n",
      "      dtype='object')\n"
     ]
    },
    {
     "data": {
      "text/html": [
       "<div>\n",
       "<style>\n",
       "    .dataframe thead tr:only-child th {\n",
       "        text-align: right;\n",
       "    }\n",
       "\n",
       "    .dataframe thead th {\n",
       "        text-align: left;\n",
       "    }\n",
       "\n",
       "    .dataframe tbody tr th {\n",
       "        vertical-align: top;\n",
       "    }\n",
       "</style>\n",
       "<table border=\"1\" class=\"dataframe\">\n",
       "  <thead>\n",
       "    <tr style=\"text-align: right;\">\n",
       "      <th></th>\n",
       "      <th>business_longitude</th>\n",
       "      <th>review_score</th>\n",
       "      <th>user_average_rating</th>\n",
       "      <th>business_review_count</th>\n",
       "      <th>business_average_rating</th>\n",
       "      <th>business_latitude</th>\n",
       "      <th>user_review_count</th>\n",
       "    </tr>\n",
       "  </thead>\n",
       "  <tbody>\n",
       "    <tr>\n",
       "      <th>count</th>\n",
       "      <td>4870.000000</td>\n",
       "      <td>4870.000000</td>\n",
       "      <td>4870.000000</td>\n",
       "      <td>4870.000000</td>\n",
       "      <td>4870.000000</td>\n",
       "      <td>4870.000000</td>\n",
       "      <td>4870.000000</td>\n",
       "    </tr>\n",
       "    <tr>\n",
       "      <th>mean</th>\n",
       "      <td>-79.989342</td>\n",
       "      <td>3.665708</td>\n",
       "      <td>3.783821</td>\n",
       "      <td>129.050719</td>\n",
       "      <td>3.658830</td>\n",
       "      <td>40.438113</td>\n",
       "      <td>753.461396</td>\n",
       "    </tr>\n",
       "    <tr>\n",
       "      <th>std</th>\n",
       "      <td>0.069442</td>\n",
       "      <td>0.959412</td>\n",
       "      <td>0.219365</td>\n",
       "      <td>159.652129</td>\n",
       "      <td>0.601462</td>\n",
       "      <td>0.045704</td>\n",
       "      <td>318.613522</td>\n",
       "    </tr>\n",
       "    <tr>\n",
       "      <th>min</th>\n",
       "      <td>-80.262913</td>\n",
       "      <td>1.000000</td>\n",
       "      <td>3.300000</td>\n",
       "      <td>3.000000</td>\n",
       "      <td>1.000000</td>\n",
       "      <td>40.206497</td>\n",
       "      <td>255.000000</td>\n",
       "    </tr>\n",
       "    <tr>\n",
       "      <th>25%</th>\n",
       "      <td>-80.016890</td>\n",
       "      <td>3.000000</td>\n",
       "      <td>3.660000</td>\n",
       "      <td>32.000000</td>\n",
       "      <td>3.500000</td>\n",
       "      <td>40.427769</td>\n",
       "      <td>532.000000</td>\n",
       "    </tr>\n",
       "    <tr>\n",
       "      <th>50%</th>\n",
       "      <td>-79.984218</td>\n",
       "      <td>4.000000</td>\n",
       "      <td>3.790000</td>\n",
       "      <td>76.500000</td>\n",
       "      <td>3.500000</td>\n",
       "      <td>40.441590</td>\n",
       "      <td>708.000000</td>\n",
       "    </tr>\n",
       "    <tr>\n",
       "      <th>75%</th>\n",
       "      <td>-79.949205</td>\n",
       "      <td>4.000000</td>\n",
       "      <td>3.950000</td>\n",
       "      <td>157.000000</td>\n",
       "      <td>4.000000</td>\n",
       "      <td>40.455916</td>\n",
       "      <td>861.000000</td>\n",
       "    </tr>\n",
       "    <tr>\n",
       "      <th>max</th>\n",
       "      <td>-79.661028</td>\n",
       "      <td>5.000000</td>\n",
       "      <td>4.210000</td>\n",
       "      <td>1353.000000</td>\n",
       "      <td>5.000000</td>\n",
       "      <td>40.690182</td>\n",
       "      <td>1452.000000</td>\n",
       "    </tr>\n",
       "  </tbody>\n",
       "</table>\n",
       "</div>"
      ],
      "text/plain": [
       "       business_longitude  review_score  user_average_rating  \\\n",
       "count         4870.000000   4870.000000          4870.000000   \n",
       "mean           -79.989342      3.665708             3.783821   \n",
       "std              0.069442      0.959412             0.219365   \n",
       "min            -80.262913      1.000000             3.300000   \n",
       "25%            -80.016890      3.000000             3.660000   \n",
       "50%            -79.984218      4.000000             3.790000   \n",
       "75%            -79.949205      4.000000             3.950000   \n",
       "max            -79.661028      5.000000             4.210000   \n",
       "\n",
       "       business_review_count  business_average_rating  business_latitude  \\\n",
       "count            4870.000000              4870.000000        4870.000000   \n",
       "mean              129.050719                 3.658830          40.438113   \n",
       "std               159.652129                 0.601462           0.045704   \n",
       "min                 3.000000                 1.000000          40.206497   \n",
       "25%                32.000000                 3.500000          40.427769   \n",
       "50%                76.500000                 3.500000          40.441590   \n",
       "75%               157.000000                 4.000000          40.455916   \n",
       "max              1353.000000                 5.000000          40.690182   \n",
       "\n",
       "       user_review_count  \n",
       "count        4870.000000  \n",
       "mean          753.461396  \n",
       "std           318.613522  \n",
       "min           255.000000  \n",
       "25%           532.000000  \n",
       "50%           708.000000  \n",
       "75%           861.000000  \n",
       "max          1452.000000  "
      ]
     },
     "execution_count": 30,
     "metadata": {},
     "output_type": "execute_result"
    }
   ],
   "source": [
    "print(train_df.columns)\n",
    "train_df.describe()"
   ]
  },
  {
   "cell_type": "code",
   "execution_count": 31,
   "metadata": {
    "collapsed": true
   },
   "outputs": [],
   "source": [
    "# Define X as user average and business average, Y as given rating for test and train data\n",
    "X_train_all = train_df[['user_average_rating', 'business_average_rating']]\n",
    "y_train_all = train_df['review_score']\n",
    "X_test_all = test_df[['user_average_rating', 'business_average_rating']]\n",
    "y_test_all = test_df['review_score']"
   ]
  },
  {
   "cell_type": "code",
   "execution_count": 32,
   "metadata": {},
   "outputs": [
    {
     "name": "stdout",
     "output_type": "stream",
     "text": [
      "Baseline Intercept: -1.27978884079\n",
      "Baseline Coefficients: [ 0.66961267  0.65917324]\n",
      "Baseline Train Score: 0.206271909893\n",
      "Baseline Test Score: 0.187776186611\n"
     ]
    }
   ],
   "source": [
    "# Fit linear regression using training data and test using the testing data\n",
    "baseline_all = LinearRegression(fit_intercept=True)\n",
    "baseline_all.fit(X_train_all, y_train_all)\n",
    "\n",
    "print('Baseline Intercept:', baseline_all.intercept_)\n",
    "print('Baseline Coefficients:', baseline_all.coef_)\n",
    "print('Baseline Train Score:', baseline_all.score(X_train_all, y_train_all))\n",
    "print('Baseline Test Score:', baseline_all.score(X_test_all, y_test_all))"
   ]
  },
  {
   "cell_type": "code",
   "execution_count": 37,
   "metadata": {},
   "outputs": [
    {
     "name": "stdout",
     "output_type": "stream",
     "text": [
      "----\n",
      "Ridge Train Score 0.200682664465\n",
      "Ridge Test Score 0.180413592917\n",
      "----\n",
      "Lasso Train Score 0.200681495722\n",
      "Lasso Test Score 0.180447540241\n"
     ]
    }
   ],
   "source": []
  },
  {
   "cell_type": "markdown",
   "metadata": {},
   "source": [
    "## Run baseline model for each of the eight markets"
   ]
  },
  {
   "cell_type": "code",
   "execution_count": null,
   "metadata": {
    "collapsed": true
   },
   "outputs": [],
   "source": []
  }
 ],
 "metadata": {
  "celltoolbar": "Edit Metadata",
  "kernelspec": {
   "display_name": "Python 3",
   "language": "python",
   "name": "python3"
  },
  "language_info": {
   "codemirror_mode": {
    "name": "ipython",
    "version": 3
   },
   "file_extension": ".py",
   "mimetype": "text/x-python",
   "name": "python",
   "nbconvert_exporter": "python",
   "pygments_lexer": "ipython3",
   "version": "3.6.1"
  }
 },
 "nbformat": 4,
 "nbformat_minor": 2
}
