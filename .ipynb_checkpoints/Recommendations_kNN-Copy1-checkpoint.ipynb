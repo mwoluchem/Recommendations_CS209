{
 "cells": [
  {
   "cell_type": "markdown",
   "metadata": {
    "collapsed": true
   },
   "source": [
    "**Using k-Nearest Neighbors to Identify User Ratings**\n",
    "\n",
    "This particular model uses a concept called neighborhood collaborative filtering to identify a small number of recommended restaurants for a particular user based on the same user's previously-stated preferences for similar restaurants. As was previously mentioned, the sample we are using for this model includes only those reviewers who have reviewed at least 150 restaurants previously, and thus the stated preferences are already present in the sample used for this model. \n",
    "\n",
    "The model included here is based on a solution to the same problem for CS109a in 2013. The documentation for this problem can be found here: http://nbviewer.jupyter.org/github/cs109/content/blob/master/HW4_solutions.ipynb\n"
   ]
  },
  {
   "cell_type": "code",
   "execution_count": 1,
   "metadata": {
    "collapsed": true
   },
   "outputs": [],
   "source": [
    "import numpy as np\n",
    "import pandas as pd\n",
    "import matplotlib\n",
    "import matplotlib.pyplot as plt\n",
    "import sklearn.metrics as metrics\n",
    "from sklearn.model_selection import cross_val_score\n",
    "from sklearn import tree\n",
    "from sklearn.tree import DecisionTreeClassifier\n",
    "from sklearn.ensemble import RandomForestClassifier\n",
    "from sklearn.ensemble import AdaBoostClassifier\n",
    "from sklearn.linear_model import LogisticRegressionCV\n",
    "%matplotlib inline"
   ]
  },
  {
   "cell_type": "markdown",
   "metadata": {},
   "source": [
    "**Read in Data**\n",
    "\n",
    "The training and test samples used here were created previously prior to beginning analysis. They are the same training and test sets as have been used in previous models throughout this project. "
   ]
  },
  {
   "cell_type": "code",
   "execution_count": 5,
   "metadata": {},
   "outputs": [],
   "source": [
    "train_data = pd.read_csv('Data/train/WI/train_150.csv')\n",
    "test_data = pd.read_csv('Data/test/WI/test_150.csv')"
   ]
  },
  {
   "cell_type": "code",
   "execution_count": 6,
   "metadata": {},
   "outputs": [
    {
     "data": {
      "text/plain": [
       "((659, 13), (178, 13))"
      ]
     },
     "execution_count": 6,
     "metadata": {},
     "output_type": "execute_result"
    }
   ],
   "source": [
    "train_data.shape, test_data.shape"
   ]
  },
  {
   "cell_type": "code",
   "execution_count": 7,
   "metadata": {},
   "outputs": [],
   "source": [
    "train_data = train_data[0:250]"
   ]
  },
  {
   "cell_type": "code",
   "execution_count": 8,
   "metadata": {},
   "outputs": [
    {
     "data": {
      "text/html": [
       "<div>\n",
       "<style>\n",
       "    .dataframe thead tr:only-child th {\n",
       "        text-align: right;\n",
       "    }\n",
       "\n",
       "    .dataframe thead th {\n",
       "        text-align: left;\n",
       "    }\n",
       "\n",
       "    .dataframe tbody tr th {\n",
       "        vertical-align: top;\n",
       "    }\n",
       "</style>\n",
       "<table border=\"1\" class=\"dataframe\">\n",
       "  <thead>\n",
       "    <tr style=\"text-align: right;\">\n",
       "      <th></th>\n",
       "      <th>review_date</th>\n",
       "      <th>business_longitude</th>\n",
       "      <th>business_id</th>\n",
       "      <th>business_categories</th>\n",
       "      <th>business_name</th>\n",
       "      <th>business_state</th>\n",
       "      <th>review_score</th>\n",
       "      <th>user_id</th>\n",
       "      <th>user_average_rating</th>\n",
       "      <th>business_review_count</th>\n",
       "      <th>business_average_rating</th>\n",
       "      <th>business_latitude</th>\n",
       "      <th>user_review_count</th>\n",
       "    </tr>\n",
       "  </thead>\n",
       "  <tbody>\n",
       "    <tr>\n",
       "      <th>0</th>\n",
       "      <td>2017-02-23</td>\n",
       "      <td>-89.475496</td>\n",
       "      <td>kWItkhjHRuzfC11CP1E0ZQ</td>\n",
       "      <td>['Mexican', 'Restaurants']</td>\n",
       "      <td>Lalo's Mexican Restaurant</td>\n",
       "      <td>WI</td>\n",
       "      <td>4.0</td>\n",
       "      <td>8teQ4Zc9jpl_ffaPJUn6Ew</td>\n",
       "      <td>3.99</td>\n",
       "      <td>28</td>\n",
       "      <td>4.0</td>\n",
       "      <td>43.083088</td>\n",
       "      <td>560</td>\n",
       "    </tr>\n",
       "    <tr>\n",
       "      <th>1</th>\n",
       "      <td>2014-08-06</td>\n",
       "      <td>-89.401581</td>\n",
       "      <td>npqc1DO90A5TzavGmYyGhA</td>\n",
       "      <td>['Beer Gardens', 'Nightlife', 'Bars', 'Hot Dog...</td>\n",
       "      <td>OSS</td>\n",
       "      <td>WI</td>\n",
       "      <td>4.0</td>\n",
       "      <td>8teQ4Zc9jpl_ffaPJUn6Ew</td>\n",
       "      <td>3.99</td>\n",
       "      <td>169</td>\n",
       "      <td>4.5</td>\n",
       "      <td>43.067680</td>\n",
       "      <td>560</td>\n",
       "    </tr>\n",
       "    <tr>\n",
       "      <th>2</th>\n",
       "      <td>2015-08-17</td>\n",
       "      <td>-89.395633</td>\n",
       "      <td>QxqMKO5IZCQUUWIx8nTDJw</td>\n",
       "      <td>['Sandwiches', 'Coffee &amp; Tea', 'Restaurants', ...</td>\n",
       "      <td>Colectivo Coffee</td>\n",
       "      <td>WI</td>\n",
       "      <td>4.0</td>\n",
       "      <td>8teQ4Zc9jpl_ffaPJUn6Ew</td>\n",
       "      <td>3.99</td>\n",
       "      <td>33</td>\n",
       "      <td>3.5</td>\n",
       "      <td>43.074867</td>\n",
       "      <td>560</td>\n",
       "    </tr>\n",
       "    <tr>\n",
       "      <th>3</th>\n",
       "      <td>2016-06-08</td>\n",
       "      <td>-89.520350</td>\n",
       "      <td>OzlqZV3-Pywyml2TC52WDw</td>\n",
       "      <td>['Restaurants', 'American (Traditional)']</td>\n",
       "      <td>Mr. Brews Taphouse</td>\n",
       "      <td>WI</td>\n",
       "      <td>3.0</td>\n",
       "      <td>8teQ4Zc9jpl_ffaPJUn6Ew</td>\n",
       "      <td>3.99</td>\n",
       "      <td>38</td>\n",
       "      <td>4.0</td>\n",
       "      <td>42.994640</td>\n",
       "      <td>560</td>\n",
       "    </tr>\n",
       "    <tr>\n",
       "      <th>4</th>\n",
       "      <td>2016-06-06</td>\n",
       "      <td>-89.381547</td>\n",
       "      <td>cTPdZ9Va0HCLESf5gNnXwA</td>\n",
       "      <td>['Bars', 'Lounges', 'Pizza', 'Nightlife', 'Res...</td>\n",
       "      <td>Lucille</td>\n",
       "      <td>WI</td>\n",
       "      <td>4.0</td>\n",
       "      <td>8teQ4Zc9jpl_ffaPJUn6Ew</td>\n",
       "      <td>3.99</td>\n",
       "      <td>135</td>\n",
       "      <td>3.5</td>\n",
       "      <td>43.074523</td>\n",
       "      <td>560</td>\n",
       "    </tr>\n",
       "  </tbody>\n",
       "</table>\n",
       "</div>"
      ],
      "text/plain": [
       "  review_date  business_longitude             business_id  \\\n",
       "0  2017-02-23          -89.475496  kWItkhjHRuzfC11CP1E0ZQ   \n",
       "1  2014-08-06          -89.401581  npqc1DO90A5TzavGmYyGhA   \n",
       "2  2015-08-17          -89.395633  QxqMKO5IZCQUUWIx8nTDJw   \n",
       "3  2016-06-08          -89.520350  OzlqZV3-Pywyml2TC52WDw   \n",
       "4  2016-06-06          -89.381547  cTPdZ9Va0HCLESf5gNnXwA   \n",
       "\n",
       "                                 business_categories  \\\n",
       "0                         ['Mexican', 'Restaurants']   \n",
       "1  ['Beer Gardens', 'Nightlife', 'Bars', 'Hot Dog...   \n",
       "2  ['Sandwiches', 'Coffee & Tea', 'Restaurants', ...   \n",
       "3          ['Restaurants', 'American (Traditional)']   \n",
       "4  ['Bars', 'Lounges', 'Pizza', 'Nightlife', 'Res...   \n",
       "\n",
       "               business_name business_state  review_score  \\\n",
       "0  Lalo's Mexican Restaurant             WI           4.0   \n",
       "1                        OSS             WI           4.0   \n",
       "2           Colectivo Coffee             WI           4.0   \n",
       "3         Mr. Brews Taphouse             WI           3.0   \n",
       "4                    Lucille             WI           4.0   \n",
       "\n",
       "                  user_id  user_average_rating  business_review_count  \\\n",
       "0  8teQ4Zc9jpl_ffaPJUn6Ew                 3.99                     28   \n",
       "1  8teQ4Zc9jpl_ffaPJUn6Ew                 3.99                    169   \n",
       "2  8teQ4Zc9jpl_ffaPJUn6Ew                 3.99                     33   \n",
       "3  8teQ4Zc9jpl_ffaPJUn6Ew                 3.99                     38   \n",
       "4  8teQ4Zc9jpl_ffaPJUn6Ew                 3.99                    135   \n",
       "\n",
       "   business_average_rating  business_latitude  user_review_count  \n",
       "0                      4.0          43.083088                560  \n",
       "1                      4.5          43.067680                560  \n",
       "2                      3.5          43.074867                560  \n",
       "3                      4.0          42.994640                560  \n",
       "4                      3.5          43.074523                560  "
      ]
     },
     "execution_count": 8,
     "metadata": {},
     "output_type": "execute_result"
    }
   ],
   "source": [
    "train_data.head()"
   ]
  },
  {
   "cell_type": "markdown",
   "metadata": {},
   "source": [
    "**Data Cleaning**\n",
    "\n",
    "Because this model is based on a user's previous experiences with similar restaurants, we need a way to define which restaurants in this dataset are similar to one another. One such measure is a \"common user support\", which shows the number of users who have rated any particular pair of restaurants. We need such a measurement because common user support can be used later throughout this problem as a proxy for how similar a pair of restaurants may be to each other.  "
   ]
  },
  {
   "cell_type": "code",
   "execution_count": 9,
   "metadata": {},
   "outputs": [
    {
     "name": "stdout",
     "output_type": "stream",
     "text": [
      "Mean support is: 0.61303652879\n"
     ]
    },
    {
     "data": {
      "text/plain": [
       "(array([ 10179.,      0.,      0.,      0.,      0.,  15219.,      0.,\n",
       "             0.,      0.,    253.]),\n",
       " array([ 0. ,  0.2,  0.4,  0.6,  0.8,  1. ,  1.2,  1.4,  1.6,  1.8,  2. ]),\n",
       " <a list of 10 Patch objects>)"
      ]
     },
     "execution_count": 9,
     "metadata": {},
     "output_type": "execute_result"
    },
    {
     "data": {
      "image/png": "[encoded data removed]",
      "text/plain": [
       "<matplotlib.figure.Figure at 0x111786518>"
      ]
     },
     "metadata": {},
     "output_type": "display_data"
    }
   ],
   "source": [
    "restaurants=train_data.business_id.unique()\n",
    "supports=[]\n",
    "for i,rest1 in enumerate(restaurants):\n",
    "    for j,rest2 in enumerate(restaurants):\n",
    "        if  i < j:\n",
    "            rest1_reviewers = train_data[train_data.business_id==rest1].user_id.unique()\n",
    "            rest2_reviewers = train_data[train_data.business_id==rest2].user_id.unique()\n",
    "            common_reviewers = set(rest1_reviewers).intersection(rest2_reviewers)\n",
    "            supports.append(len(common_reviewers))\n",
    "print(\"Mean support is:\",np.mean(supports))\n",
    "plt.hist(supports)"
   ]
  },
  {
   "cell_type": "markdown",
   "metadata": {},
   "source": [
    "This Now that we have defined similar restaurants, we use this information to create a correlation measure that determines the ew"
   ]
  },
  {
   "cell_type": "code",
   "execution_count": 10,
   "metadata": {
    "collapsed": true
   },
   "outputs": [],
   "source": [
    "#Now create the pearson correlation coefficient between the newly corrected user ratings for users \n",
    "#who have reviewed the same restaurants. "
   ]
  },
  {
   "cell_type": "code",
   "execution_count": null,
   "metadata": {
    "collapsed": true
   },
   "outputs": [],
   "source": []
  },
  {
   "cell_type": "code",
   "execution_count": 11,
   "metadata": {
    "collapsed": true
   },
   "outputs": [],
   "source": [
    "from scipy.stats.stats import pearsonr\n",
    "def pearson_sim(rest1_reviews, rest2_reviews, n_common):\n",
    "    \"\"\"\n",
    "    Given a subframe of restaurant 1 reviews and a subframe of restaurant 2 reviews,\n",
    "    where the reviewers are those who have reviewed both restaurants, return \n",
    "    the pearson correlation coefficient between the user average subtracted ratings.\n",
    "    The case for zero common reviewers is handled separately. Its\n",
    "    ok to return a NaN if any of the individual variances are 0.\n",
    "    \"\"\"\n",
    "    if n_common==0:\n",
    "        rho=0.\n",
    "    else:\n",
    "        diff1=rest1_reviews['business_average_rating']-rest1_reviews['user_average_rating']\n",
    "        diff2=rest2_reviews['business_average_rating']-rest2_reviews['user_average_rating']\n",
    "        print(diff1, diff2)\n",
    "        rho=pearsonr(diff1, diff2)[0]\n",
    "        \n",
    "    return rho"
   ]
  },
  {
   "cell_type": "code",
   "execution_count": 12,
   "metadata": {
    "collapsed": true
   },
   "outputs": [],
   "source": [
    "#Ok but let's say you get a particular business. Here's a way to spit out the dataframe of the reviews for \n",
    "#that particular restaurant"
   ]
  },
  {
   "cell_type": "code",
   "execution_count": null,
   "metadata": {
    "collapsed": true
   },
   "outputs": [],
   "source": []
  },
  {
   "cell_type": "code",
   "execution_count": 13,
   "metadata": {
    "collapsed": true
   },
   "outputs": [],
   "source": [
    "def get_restaurant_reviews(restaurant_id, df, set_of_users):\n",
    "    \"\"\"\n",
    "    given a resturant id and a set of reviewers, return the sub-dataframe of their\n",
    "    reviews.\n",
    "    \"\"\"\n",
    "    mask = (df.user_id.isin(set_of_users)) & (df.business_id==restaurant_id)\n",
    "    reviews = df[mask]\n",
    "    reviews = reviews[reviews.user_id.duplicated()==False]\n",
    "    return reviews"
   ]
  },
  {
   "cell_type": "code",
   "execution_count": 14,
   "metadata": {
    "collapsed": true
   },
   "outputs": [],
   "source": [
    "#Now that you have these reviews, calculate the similarity between restaurants at the database level"
   ]
  },
  {
   "cell_type": "code",
   "execution_count": 15,
   "metadata": {
    "collapsed": true
   },
   "outputs": [],
   "source": [
    "\"\"\"\n",
    "Function\n",
    "--------\n",
    "calculate_similarity\n",
    "\n",
    "Parameters\n",
    "----------\n",
    "rest1 : string\n",
    "    The id of restaurant 1\n",
    "rest2 : string\n",
    "    The id of restaurant 2\n",
    "df : DataFrame\n",
    "  A dataframe of reviews, such as the smalldf above\n",
    "similarity_func : func\n",
    "  A function like pearson_sim above which takes two dataframes of individual\n",
    "  restaurant reviews made by a common set of reviewers, and the number of\n",
    "  common reviews. This function returns the similarity of the two restaurants\n",
    "  based on the common reviews.\n",
    "  \n",
    "Returns\n",
    "--------\n",
    "A tuple\n",
    "  The first element of the tuple is the similarity and the second the\n",
    "  common support n_common. If the similarity is a NaN, set it to 0\n",
    "\"\"\"\n",
    "#your code here\n",
    "def calculate_similarity(rest1, rest2, df, similarity_func):\n",
    "    # find common reviewers\n",
    "    rest1_reviewers = df[df.business_id==rest1].user_id.unique()\n",
    "    rest2_reviewers = df[df.business_id==rest2].user_id.unique()\n",
    "    common_reviewers = set(rest1_reviewers).intersection(rest2_reviewers)\n",
    "    n_common=len(common_reviewers)\n",
    "    #get reviews\n",
    "    rest1_reviews = get_restaurant_reviews(rest1, df, common_reviewers)\n",
    "    rest2_reviews = get_restaurant_reviews(rest2, df, common_reviewers)\n",
    "    sim=similarity_func(rest1_reviews, rest2_reviews, n_common)\n",
    "    if np.isnan(sim):\n",
    "        return 0, n_common\n",
    "    return sim, n_common"
   ]
  },
  {
   "cell_type": "code",
   "execution_count": 16,
   "metadata": {
    "collapsed": true
   },
   "outputs": [],
   "source": [
    "#Create now a database of similarities and common supporters!"
   ]
  },
  {
   "cell_type": "code",
   "execution_count": 17,
   "metadata": {
    "collapsed": true
   },
   "outputs": [],
   "source": [
    "class Database:\n",
    "    \"A class representing a database of similaries and common supports\"\n",
    "    \n",
    "    def __init__(self, df):\n",
    "        \"the constructor, takes a reviews dataframe like smalldf as its argument\"\n",
    "        database={}\n",
    "        self.df=df\n",
    "        self.uniquebizids={v:k for (k,v) in enumerate(df.business_id.unique())}\n",
    "        keys=self.uniquebizids.keys()\n",
    "        l_keys=len(keys)\n",
    "        self.database_sim=np.zeros([l_keys,l_keys])\n",
    "        self.database_sup=np.zeros([l_keys, l_keys], dtype=np.int)\n",
    "        \n",
    "    def populate_by_calculating(self, similarity_func):\n",
    "        \"\"\"\n",
    "        a populator for every pair of businesses in df. takes similarity_func like\n",
    "        pearson_sim as argument\n",
    "        \"\"\"\n",
    "        items=self.uniquebizids.items()\n",
    "        for b1, i1 in items:\n",
    "            for b2, i2 in items:\n",
    "                if i1 < i2:\n",
    "                    sim, nsup=calculate_similarity(b1, b2, self.df, similarity_func)\n",
    "                    self.database_sim[i1][i2]=sim\n",
    "                    self.database_sim[i2][i1]=sim\n",
    "                    self.database_sup[i1][i2]=nsup\n",
    "                    self.database_sup[i2][i1]=nsup\n",
    "                elif i1==i2:\n",
    "                    nsup=self.df[self.df.business_id==b1].user_id.count()\n",
    "                    self.database_sim[i1][i1]=1.\n",
    "                    self.database_sup[i1][i1]=nsup\n",
    "                    \n",
    "\n",
    "    def get(self, b1, b2):\n",
    "        \"returns a tuple of similarity,common_support given two business ids\"\n",
    "        sim=self.database_sim[self.uniquebizids[b1]][self.uniquebizids[b2]]\n",
    "        nsup=self.database_sup[self.uniquebizids[b1]][self.uniquebizids[b2]]\n",
    "        return (sim, nsup)"
   ]
  },
  {
   "cell_type": "code",
   "execution_count": 18,
   "metadata": {
    "collapsed": true
   },
   "outputs": [],
   "source": [
    "#Now let's make the database and save it as db"
   ]
  },
  {
   "cell_type": "code",
   "execution_count": 19,
   "metadata": {},
   "outputs": [
    {
     "name": "stdout",
     "output_type": "stream",
     "text": [
      "0    0.01\n",
      "dtype: float64 1    0.51\n",
      "dtype: float64\n"
     ]
    },
    {
     "ename": "FloatingPointError",
     "evalue": "invalid value encountered in double_scalars",
     "output_type": "error",
     "traceback": [
      "\u001b[0;31m---------------------------------------------------------------------------\u001b[0m",
      "\u001b[0;31mFloatingPointError\u001b[0m                        Traceback (most recent call last)",
      "\u001b[0;32m<ipython-input-19-e75c456a7ce3>\u001b[0m in \u001b[0;36m<module>\u001b[0;34m()\u001b[0m\n\u001b[1;32m      1\u001b[0m \u001b[0mnp\u001b[0m\u001b[0;34m.\u001b[0m\u001b[0mseterr\u001b[0m\u001b[0;34m(\u001b[0m\u001b[0mall\u001b[0m\u001b[0;34m=\u001b[0m\u001b[0;34m'raise'\u001b[0m\u001b[0;34m)\u001b[0m\u001b[0;34m\u001b[0m\u001b[0m\n\u001b[1;32m      2\u001b[0m \u001b[0mdb\u001b[0m\u001b[0;34m=\u001b[0m\u001b[0mDatabase\u001b[0m\u001b[0;34m(\u001b[0m\u001b[0mtrain_data\u001b[0m\u001b[0;34m)\u001b[0m\u001b[0;34m\u001b[0m\u001b[0m\n\u001b[0;32m----> 3\u001b[0;31m \u001b[0mdb\u001b[0m\u001b[0;34m.\u001b[0m\u001b[0mpopulate_by_calculating\u001b[0m\u001b[0;34m(\u001b[0m\u001b[0mpearson_sim\u001b[0m\u001b[0;34m)\u001b[0m\u001b[0;34m\u001b[0m\u001b[0m\n\u001b[0m",
      "\u001b[0;32m<ipython-input-17-7292897fbdd7>\u001b[0m in \u001b[0;36mpopulate_by_calculating\u001b[0;34m(self, similarity_func)\u001b[0m\n\u001b[1;32m     21\u001b[0m             \u001b[0;32mfor\u001b[0m \u001b[0mb2\u001b[0m\u001b[0;34m,\u001b[0m \u001b[0mi2\u001b[0m \u001b[0;32min\u001b[0m \u001b[0mitems\u001b[0m\u001b[0;34m:\u001b[0m\u001b[0;34m\u001b[0m\u001b[0m\n\u001b[1;32m     22\u001b[0m                 \u001b[0;32mif\u001b[0m \u001b[0mi1\u001b[0m \u001b[0;34m<\u001b[0m \u001b[0mi2\u001b[0m\u001b[0;34m:\u001b[0m\u001b[0;34m\u001b[0m\u001b[0m\n\u001b[0;32m---> 23\u001b[0;31m                     \u001b[0msim\u001b[0m\u001b[0;34m,\u001b[0m \u001b[0mnsup\u001b[0m\u001b[0;34m=\u001b[0m\u001b[0mcalculate_similarity\u001b[0m\u001b[0;34m(\u001b[0m\u001b[0mb1\u001b[0m\u001b[0;34m,\u001b[0m \u001b[0mb2\u001b[0m\u001b[0;34m,\u001b[0m \u001b[0mself\u001b[0m\u001b[0;34m.\u001b[0m\u001b[0mdf\u001b[0m\u001b[0;34m,\u001b[0m \u001b[0msimilarity_func\u001b[0m\u001b[0;34m)\u001b[0m\u001b[0;34m\u001b[0m\u001b[0m\n\u001b[0m\u001b[1;32m     24\u001b[0m                     \u001b[0mself\u001b[0m\u001b[0;34m.\u001b[0m\u001b[0mdatabase_sim\u001b[0m\u001b[0;34m[\u001b[0m\u001b[0mi1\u001b[0m\u001b[0;34m]\u001b[0m\u001b[0;34m[\u001b[0m\u001b[0mi2\u001b[0m\u001b[0;34m]\u001b[0m\u001b[0;34m=\u001b[0m\u001b[0msim\u001b[0m\u001b[0;34m\u001b[0m\u001b[0m\n\u001b[1;32m     25\u001b[0m                     \u001b[0mself\u001b[0m\u001b[0;34m.\u001b[0m\u001b[0mdatabase_sim\u001b[0m\u001b[0;34m[\u001b[0m\u001b[0mi2\u001b[0m\u001b[0;34m]\u001b[0m\u001b[0;34m[\u001b[0m\u001b[0mi1\u001b[0m\u001b[0;34m]\u001b[0m\u001b[0;34m=\u001b[0m\u001b[0msim\u001b[0m\u001b[0;34m\u001b[0m\u001b[0m\n",
      "\u001b[0;32m<ipython-input-15-62282657267d>\u001b[0m in \u001b[0;36mcalculate_similarity\u001b[0;34m(rest1, rest2, df, similarity_func)\u001b[0m\n\u001b[1;32m     34\u001b[0m     \u001b[0mrest1_reviews\u001b[0m \u001b[0;34m=\u001b[0m \u001b[0mget_restaurant_reviews\u001b[0m\u001b[0;34m(\u001b[0m\u001b[0mrest1\u001b[0m\u001b[0;34m,\u001b[0m \u001b[0mdf\u001b[0m\u001b[0;34m,\u001b[0m \u001b[0mcommon_reviewers\u001b[0m\u001b[0;34m)\u001b[0m\u001b[0;34m\u001b[0m\u001b[0m\n\u001b[1;32m     35\u001b[0m     \u001b[0mrest2_reviews\u001b[0m \u001b[0;34m=\u001b[0m \u001b[0mget_restaurant_reviews\u001b[0m\u001b[0;34m(\u001b[0m\u001b[0mrest2\u001b[0m\u001b[0;34m,\u001b[0m \u001b[0mdf\u001b[0m\u001b[0;34m,\u001b[0m \u001b[0mcommon_reviewers\u001b[0m\u001b[0;34m)\u001b[0m\u001b[0;34m\u001b[0m\u001b[0m\n\u001b[0;32m---> 36\u001b[0;31m     \u001b[0msim\u001b[0m\u001b[0;34m=\u001b[0m\u001b[0msimilarity_func\u001b[0m\u001b[0;34m(\u001b[0m\u001b[0mrest1_reviews\u001b[0m\u001b[0;34m,\u001b[0m \u001b[0mrest2_reviews\u001b[0m\u001b[0;34m,\u001b[0m \u001b[0mn_common\u001b[0m\u001b[0;34m)\u001b[0m\u001b[0;34m\u001b[0m\u001b[0m\n\u001b[0m\u001b[1;32m     37\u001b[0m     \u001b[0;32mif\u001b[0m \u001b[0mnp\u001b[0m\u001b[0;34m.\u001b[0m\u001b[0misnan\u001b[0m\u001b[0;34m(\u001b[0m\u001b[0msim\u001b[0m\u001b[0;34m)\u001b[0m\u001b[0;34m:\u001b[0m\u001b[0;34m\u001b[0m\u001b[0m\n\u001b[1;32m     38\u001b[0m         \u001b[0;32mreturn\u001b[0m \u001b[0;36m0\u001b[0m\u001b[0;34m,\u001b[0m \u001b[0mn_common\u001b[0m\u001b[0;34m\u001b[0m\u001b[0m\n",
      "\u001b[0;32m<ipython-input-11-a1da2ed6e393>\u001b[0m in \u001b[0;36mpearson_sim\u001b[0;34m(rest1_reviews, rest2_reviews, n_common)\u001b[0m\n\u001b[1;32m     14\u001b[0m         \u001b[0mdiff2\u001b[0m\u001b[0;34m=\u001b[0m\u001b[0mrest2_reviews\u001b[0m\u001b[0;34m[\u001b[0m\u001b[0;34m'business_average_rating'\u001b[0m\u001b[0;34m]\u001b[0m\u001b[0;34m-\u001b[0m\u001b[0mrest2_reviews\u001b[0m\u001b[0;34m[\u001b[0m\u001b[0;34m'user_average_rating'\u001b[0m\u001b[0;34m]\u001b[0m\u001b[0;34m\u001b[0m\u001b[0m\n\u001b[1;32m     15\u001b[0m         \u001b[0mprint\u001b[0m\u001b[0;34m(\u001b[0m\u001b[0mdiff1\u001b[0m\u001b[0;34m,\u001b[0m \u001b[0mdiff2\u001b[0m\u001b[0;34m)\u001b[0m\u001b[0;34m\u001b[0m\u001b[0m\n\u001b[0;32m---> 16\u001b[0;31m         \u001b[0mrho\u001b[0m\u001b[0;34m=\u001b[0m\u001b[0mpearsonr\u001b[0m\u001b[0;34m(\u001b[0m\u001b[0mdiff1\u001b[0m\u001b[0;34m,\u001b[0m \u001b[0mdiff2\u001b[0m\u001b[0;34m)\u001b[0m\u001b[0;34m[\u001b[0m\u001b[0;36m0\u001b[0m\u001b[0;34m]\u001b[0m\u001b[0;34m\u001b[0m\u001b[0m\n\u001b[0m\u001b[1;32m     17\u001b[0m \u001b[0;34m\u001b[0m\u001b[0m\n\u001b[1;32m     18\u001b[0m     \u001b[0;32mreturn\u001b[0m \u001b[0mrho\u001b[0m\u001b[0;34m\u001b[0m\u001b[0m\n",
      "\u001b[0;32m/Users/maiawoluchem/anaconda/lib/python3.6/site-packages/scipy/stats/stats.py\u001b[0m in \u001b[0;36mpearsonr\u001b[0;34m(x, y)\u001b[0m\n\u001b[1;32m   3019\u001b[0m     \u001b[0mr_num\u001b[0m \u001b[0;34m=\u001b[0m \u001b[0mnp\u001b[0m\u001b[0;34m.\u001b[0m\u001b[0madd\u001b[0m\u001b[0;34m.\u001b[0m\u001b[0mreduce\u001b[0m\u001b[0;34m(\u001b[0m\u001b[0mxm\u001b[0m \u001b[0;34m*\u001b[0m \u001b[0mym\u001b[0m\u001b[0;34m)\u001b[0m\u001b[0;34m\u001b[0m\u001b[0m\n\u001b[1;32m   3020\u001b[0m     \u001b[0mr_den\u001b[0m \u001b[0;34m=\u001b[0m \u001b[0mnp\u001b[0m\u001b[0;34m.\u001b[0m\u001b[0msqrt\u001b[0m\u001b[0;34m(\u001b[0m\u001b[0m_sum_of_squares\u001b[0m\u001b[0;34m(\u001b[0m\u001b[0mxm\u001b[0m\u001b[0;34m)\u001b[0m \u001b[0;34m*\u001b[0m \u001b[0m_sum_of_squares\u001b[0m\u001b[0;34m(\u001b[0m\u001b[0mym\u001b[0m\u001b[0;34m)\u001b[0m\u001b[0;34m)\u001b[0m\u001b[0;34m\u001b[0m\u001b[0m\n\u001b[0;32m-> 3021\u001b[0;31m     \u001b[0mr\u001b[0m \u001b[0;34m=\u001b[0m \u001b[0mr_num\u001b[0m \u001b[0;34m/\u001b[0m \u001b[0mr_den\u001b[0m\u001b[0;34m\u001b[0m\u001b[0m\n\u001b[0m\u001b[1;32m   3022\u001b[0m \u001b[0;34m\u001b[0m\u001b[0m\n\u001b[1;32m   3023\u001b[0m     \u001b[0;31m# Presumably, if abs(r) > 1, then it is only some small artifact of floating\u001b[0m\u001b[0;34m\u001b[0m\u001b[0;34m\u001b[0m\u001b[0m\n",
      "\u001b[0;31mFloatingPointError\u001b[0m: invalid value encountered in double_scalars"
     ]
    }
   ],
   "source": [
    "np.seterr(all='raise')\n",
    "db=Database(train_data)\n",
    "db.populate_by_calculating(pearson_sim)"
   ]
  },
  {
   "cell_type": "code",
   "execution_count": null,
   "metadata": {
    "collapsed": true
   },
   "outputs": [],
   "source": [
    "#db.head"
   ]
  },
  {
   "cell_type": "code",
   "execution_count": null,
   "metadata": {
    "collapsed": true
   },
   "outputs": [],
   "source": [
    "#Find the nearest restaurants based on what the user has already rated themselves"
   ]
  },
  {
   "cell_type": "code",
   "execution_count": null,
   "metadata": {
    "collapsed": true
   },
   "outputs": [],
   "source": [
    "\"\"\"\n",
    "Function\n",
    "--------\n",
    "knearest_amongst_userrated\n",
    "\n",
    "Parameters\n",
    "----------\n",
    "restaurant_id : string\n",
    "    The id of the restaurant whose nearest neighbors we want\n",
    "user_id : string\n",
    "    The id of the user, in whose reviewed restaurants we want to find the neighbors\n",
    "df: Dataframe\n",
    "    The dataframe of reviews such as smalldf\n",
    "dbase : instance of Database class.\n",
    "    A database of similarities, on which the get method can be used to get the similarity\n",
    "  of two businessed. e.g. dbase.get(rid1,rid2)\n",
    "k : int\n",
    "    the number of nearest neighbors desired, default 7\n",
    "reg: float\n",
    "    the regularization.\n",
    "    \n",
    "  \n",
    "Returns\n",
    "--------\n",
    "A sorted list\n",
    "    of the top k similar restaurants. The list is a list of tuples\n",
    "    (business_id, shrunken similarity, common support).\n",
    "\"\"\"\n",
    "#your code here\n",
    "def knearest_amongst_userrated(restaurant_id, user_id, df, dbase, k=7, reg=3.):\n",
    "    dfuser=df[df.user_id==user_id]\n",
    "    bizsuserhasrated=dfuser.business_id.unique()\n",
    "    return knearest(restaurant_id, bizsuserhasrated, dbase, k=k, reg=reg)"
   ]
  },
  {
   "cell_type": "code",
   "execution_count": null,
   "metadata": {
    "collapsed": true
   },
   "outputs": [],
   "source": []
  },
  {
   "cell_type": "code",
   "execution_count": null,
   "metadata": {
    "collapsed": true
   },
   "outputs": [],
   "source": []
  },
  {
   "cell_type": "code",
   "execution_count": null,
   "metadata": {
    "collapsed": true
   },
   "outputs": [],
   "source": [
    "#Return the predicted rating someone might give to a particular restaurant"
   ]
  },
  {
   "cell_type": "code",
   "execution_count": null,
   "metadata": {
    "collapsed": true
   },
   "outputs": [],
   "source": [
    "\"\"\"\n",
    "Function\n",
    "--------\n",
    "rating\n",
    "\n",
    "Parameters\n",
    "----------\n",
    "df: Dataframe\n",
    "    The dataframe of reviews such as smalldf\n",
    "dbase : instance of Database class.\n",
    "    A database of similarities, on which the get method can be used to get the similarity\n",
    "  of two businessed. e.g. dbase.get(rid1,rid2)\n",
    "restaurant_id : string\n",
    "    The id of the restaurant whose nearest neighbors we want\n",
    "user_id : string\n",
    "    The id of the user, in whose reviewed restaurants we want to find the neighbors\n",
    "k : int\n",
    "    the number of nearest neighbors desired, default 7\n",
    "reg: float\n",
    "    the regularization.\n",
    "    \n",
    "  \n",
    "Returns\n",
    "--------\n",
    "A float\n",
    "    which is the impued rating that we predict that user_id will make for restaurant_id\n",
    "\"\"\"\n",
    "#your code here\n",
    "def rating(df, dbase, restaurant_id, user_id, k=7, reg=3.):\n",
    "    mu=df.stars.mean()\n",
    "    users_reviews=df[df.user_id==user_id]\n",
    "    nsum=0.\n",
    "    scoresum=0.\n",
    "    nears=knearest_amongst_userrated(restaurant_id, user_id, df, dbase, k=k, reg=reg)\n",
    "    restaurant_mean=df[df.business_id==restaurant_id].business_avg.values[0]\n",
    "    user_mean=users_reviews.user_avg.values[0]\n",
    "    scores=[]\n",
    "    for r,s,nc in nears:\n",
    "        scoresum=scoresum+s\n",
    "        scores.append(s)\n",
    "        r_reviews_row=users_reviews[users_reviews['business_id']==r]\n",
    "        r_stars=r_reviews_row.stars.values[0]\n",
    "        r_avg=r_reviews_row.business_avg.values[0]\n",
    "        rminusb=(r_stars - (r_avg + user_mean - mu))\n",
    "        nsum=nsum+s*rminusb\n",
    "    baseline=(user_mean +restaurant_mean - mu)\n",
    "    #we might have nears, but there might be no commons, giving us a pearson of 0\n",
    "    if scoresum > 0.:\n",
    "        val =  nsum/scoresum + baseline\n",
    "    else:\n",
    "        val=baseline\n",
    "    return val"
   ]
  },
  {
   "cell_type": "code",
   "execution_count": null,
   "metadata": {
    "collapsed": true
   },
   "outputs": [],
   "source": []
  },
  {
   "cell_type": "code",
   "execution_count": null,
   "metadata": {
    "collapsed": true
   },
   "outputs": [],
   "source": []
  },
  {
   "cell_type": "code",
   "execution_count": null,
   "metadata": {
    "collapsed": true
   },
   "outputs": [],
   "source": []
  }
 ],
 "metadata": {
  "kernelspec": {
   "display_name": "Python 3",
   "language": "python",
   "name": "python3"
  },
  "language_info": {
   "codemirror_mode": {
    "name": "ipython",
    "version": 3
   },
   "file_extension": ".py",
   "mimetype": "text/x-python",
   "name": "python",
   "nbconvert_exporter": "python",
   "pygments_lexer": "ipython3",
   "version": "3.6.1"
  }
 },
 "nbformat": 4,
 "nbformat_minor": 2
}
