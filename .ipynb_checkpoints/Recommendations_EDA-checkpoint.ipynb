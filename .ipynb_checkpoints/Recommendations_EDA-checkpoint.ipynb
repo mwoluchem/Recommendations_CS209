{
 "cells": [
  {
   "cell_type": "markdown",
   "metadata": {},
   "source": [
    "# EDA Notes\n",
    "\n",
    "A first attempt at EDA for the CS109 final project. "
   ]
  },
  {
   "cell_type": "code",
   "execution_count": 46,
   "metadata": {
    "collapsed": true
   },
   "outputs": [],
   "source": [
    "import numpy as np\n",
    "import pandas as pd\n",
    "import matplotlib\n",
    "import matplotlib.pyplot as plt\n",
    "import sklearn.metrics as metrics\n",
    "from sklearn.model_selection import cross_val_score\n",
    "from sklearn import tree\n",
    "from sklearn.tree import DecisionTreeClassifier\n",
    "from sklearn.ensemble import RandomForestClassifier\n",
    "from sklearn.ensemble import AdaBoostClassifier\n",
    "from sklearn.linear_model import LogisticRegressionCV\n",
    "%matplotlib inline"
   ]
  },
  {
   "cell_type": "markdown",
   "metadata": {},
   "source": [
    "**Read In Data**"
   ]
  },
  {
   "cell_type": "code",
   "execution_count": 56,
   "metadata": {},
   "outputs": [
    {
     "name": "stderr",
     "output_type": "stream",
     "text": [
      "/Users/maiawoluchem/anaconda/lib/python3.6/site-packages/IPython/core/interactiveshell.py:2717: DtypeWarning: Columns (1,10,12,14,20,63,64,74) have mixed types. Specify dtype option on import or set low_memory=False.\n",
      "  interactivity=interactivity, compiler=compiler, result=result)\n"
     ]
    }
   ],
   "source": [
    "checkins = pd.read_csv('Data/checkin_summary.csv', header=None)\n",
    "photos = pd.read_csv('Data/photos_summary.csv', header=None)\n",
    "reviews = pd.read_csv('Data/review_small.csv', header=None)\n",
    "biz = pd.read_csv('Data/small_businesses.csv')\n",
    "tips = pd.read_csv('Data/tip_summary.csv', header=None)\n",
    "users = pd.read_json(path_or_buf='Data/user_small.json', lines=True)"
   ]
  },
  {
   "cell_type": "code",
   "execution_count": 3,
   "metadata": {
    "collapsed": true
   },
   "outputs": [],
   "source": [
    "#Explore data in its current state"
   ]
  },
  {
   "cell_type": "code",
   "execution_count": 48,
   "metadata": {},
   "outputs": [
    {
     "data": {
      "text/plain": [
       "((49414, 2), (26384, 2), (2927859, 4), (38668, 93), (558979, 3), (1183362, 5))"
      ]
     },
     "execution_count": 48,
     "metadata": {},
     "output_type": "execute_result"
    }
   ],
   "source": [
    "checkins.shape, photos.shape, reviews.shape, biz.shape, tips.shape, users.shape"
   ]
  },
  {
   "cell_type": "code",
   "execution_count": 49,
   "metadata": {},
   "outputs": [
    {
     "data": {
      "text/html": [
       "<div>\n",
       "<style>\n",
       "    .dataframe thead tr:only-child th {\n",
       "        text-align: right;\n",
       "    }\n",
       "\n",
       "    .dataframe thead th {\n",
       "        text-align: left;\n",
       "    }\n",
       "\n",
       "    .dataframe tbody tr th {\n",
       "        vertical-align: top;\n",
       "    }\n",
       "</style>\n",
       "<table border=\"1\" class=\"dataframe\">\n",
       "  <thead>\n",
       "    <tr style=\"text-align: right;\">\n",
       "      <th></th>\n",
       "      <th>business_id</th>\n",
       "      <th>num_checkins</th>\n",
       "    </tr>\n",
       "  </thead>\n",
       "  <tbody>\n",
       "    <tr>\n",
       "      <th>0</th>\n",
       "      <td>--6MefnULPED_I942VcFNA</td>\n",
       "      <td>122</td>\n",
       "    </tr>\n",
       "    <tr>\n",
       "      <th>1</th>\n",
       "      <td>--9e1ONYQuAa-CB_Rrw7Tw</td>\n",
       "      <td>2469</td>\n",
       "    </tr>\n",
       "    <tr>\n",
       "      <th>2</th>\n",
       "      <td>--DaPTJW3-tB1vP-PfdTEg</td>\n",
       "      <td>88</td>\n",
       "    </tr>\n",
       "    <tr>\n",
       "      <th>3</th>\n",
       "      <td>--FBCX-N37CMYDfs790Bnw</td>\n",
       "      <td>477</td>\n",
       "    </tr>\n",
       "    <tr>\n",
       "      <th>4</th>\n",
       "      <td>--GM_ORV2cYS-h38DSaCLw</td>\n",
       "      <td>13</td>\n",
       "    </tr>\n",
       "  </tbody>\n",
       "</table>\n",
       "</div>"
      ],
      "text/plain": [
       "              business_id  num_checkins\n",
       "0  --6MefnULPED_I942VcFNA           122\n",
       "1  --9e1ONYQuAa-CB_Rrw7Tw          2469\n",
       "2  --DaPTJW3-tB1vP-PfdTEg            88\n",
       "3  --FBCX-N37CMYDfs790Bnw           477\n",
       "4  --GM_ORV2cYS-h38DSaCLw            13"
      ]
     },
     "execution_count": 49,
     "metadata": {},
     "output_type": "execute_result"
    }
   ],
   "source": [
    "checkins.columns = ['business_id', 'num_checkins'] \n",
    "checkins.head()"
   ]
  },
  {
   "cell_type": "code",
   "execution_count": 50,
   "metadata": {},
   "outputs": [
    {
     "data": {
      "text/html": [
       "<div>\n",
       "<style>\n",
       "    .dataframe thead tr:only-child th {\n",
       "        text-align: right;\n",
       "    }\n",
       "\n",
       "    .dataframe thead th {\n",
       "        text-align: left;\n",
       "    }\n",
       "\n",
       "    .dataframe tbody tr th {\n",
       "        vertical-align: top;\n",
       "    }\n",
       "</style>\n",
       "<table border=\"1\" class=\"dataframe\">\n",
       "  <thead>\n",
       "    <tr style=\"text-align: right;\">\n",
       "      <th></th>\n",
       "      <th>business_id</th>\n",
       "      <th>num_photos</th>\n",
       "    </tr>\n",
       "  </thead>\n",
       "  <tbody>\n",
       "    <tr>\n",
       "      <th>0</th>\n",
       "      <td>--6MefnULPED_I942VcFNA</td>\n",
       "      <td>1</td>\n",
       "    </tr>\n",
       "    <tr>\n",
       "      <th>1</th>\n",
       "      <td>--9e1ONYQuAa-CB_Rrw7Tw</td>\n",
       "      <td>127</td>\n",
       "    </tr>\n",
       "    <tr>\n",
       "      <th>2</th>\n",
       "      <td>--DaPTJW3-tB1vP-PfdTEg</td>\n",
       "      <td>1</td>\n",
       "    </tr>\n",
       "    <tr>\n",
       "      <th>3</th>\n",
       "      <td>--FBCX-N37CMYDfs790Bnw</td>\n",
       "      <td>4</td>\n",
       "    </tr>\n",
       "    <tr>\n",
       "      <th>4</th>\n",
       "      <td>--KCl2FvVQpvjzmZSPyviA</td>\n",
       "      <td>3</td>\n",
       "    </tr>\n",
       "  </tbody>\n",
       "</table>\n",
       "</div>"
      ],
      "text/plain": [
       "              business_id  num_photos\n",
       "0  --6MefnULPED_I942VcFNA           1\n",
       "1  --9e1ONYQuAa-CB_Rrw7Tw         127\n",
       "2  --DaPTJW3-tB1vP-PfdTEg           1\n",
       "3  --FBCX-N37CMYDfs790Bnw           4\n",
       "4  --KCl2FvVQpvjzmZSPyviA           3"
      ]
     },
     "execution_count": 50,
     "metadata": {},
     "output_type": "execute_result"
    }
   ],
   "source": [
    "photos.columns = ['business_id', 'num_photos'] \n",
    "photos.head()"
   ]
  },
  {
   "cell_type": "code",
   "execution_count": 51,
   "metadata": {},
   "outputs": [
    {
     "data": {
      "text/html": [
       "<div>\n",
       "<style>\n",
       "    .dataframe thead tr:only-child th {\n",
       "        text-align: right;\n",
       "    }\n",
       "\n",
       "    .dataframe thead th {\n",
       "        text-align: left;\n",
       "    }\n",
       "\n",
       "    .dataframe tbody tr th {\n",
       "        vertical-align: top;\n",
       "    }\n",
       "</style>\n",
       "<table border=\"1\" class=\"dataframe\">\n",
       "  <thead>\n",
       "    <tr style=\"text-align: right;\">\n",
       "      <th></th>\n",
       "      <th>user_id</th>\n",
       "      <th>business_id</th>\n",
       "      <th>rating</th>\n",
       "      <th>date</th>\n",
       "    </tr>\n",
       "  </thead>\n",
       "  <tbody>\n",
       "    <tr>\n",
       "      <th>0</th>\n",
       "      <td>V2exkc2JwEdc8UNUNhT7sg</td>\n",
       "      <td>--6MefnULPED_I942VcFNA</td>\n",
       "      <td>5</td>\n",
       "      <td>2016-08-25</td>\n",
       "    </tr>\n",
       "    <tr>\n",
       "      <th>1</th>\n",
       "      <td>j97y1ZAsYABIOcR0KQCy5Q</td>\n",
       "      <td>--6MefnULPED_I942VcFNA</td>\n",
       "      <td>1</td>\n",
       "      <td>2010-12-06</td>\n",
       "    </tr>\n",
       "    <tr>\n",
       "      <th>2</th>\n",
       "      <td>8-KBKMJVO-j5YqpHb08j9w</td>\n",
       "      <td>--6MefnULPED_I942VcFNA</td>\n",
       "      <td>4</td>\n",
       "      <td>2015-08-05</td>\n",
       "    </tr>\n",
       "    <tr>\n",
       "      <th>3</th>\n",
       "      <td>CxDOIDnH8gp9KXzpBHJYXw</td>\n",
       "      <td>--6MefnULPED_I942VcFNA</td>\n",
       "      <td>2</td>\n",
       "      <td>2010-12-22</td>\n",
       "    </tr>\n",
       "    <tr>\n",
       "      <th>4</th>\n",
       "      <td>7Dykd1HolQx8mKPYhYDYSg</td>\n",
       "      <td>--6MefnULPED_I942VcFNA</td>\n",
       "      <td>2</td>\n",
       "      <td>2017-02-07</td>\n",
       "    </tr>\n",
       "  </tbody>\n",
       "</table>\n",
       "</div>"
      ],
      "text/plain": [
       "                  user_id             business_id  rating        date\n",
       "0  V2exkc2JwEdc8UNUNhT7sg  --6MefnULPED_I942VcFNA       5  2016-08-25\n",
       "1  j97y1ZAsYABIOcR0KQCy5Q  --6MefnULPED_I942VcFNA       1  2010-12-06\n",
       "2  8-KBKMJVO-j5YqpHb08j9w  --6MefnULPED_I942VcFNA       4  2015-08-05\n",
       "3  CxDOIDnH8gp9KXzpBHJYXw  --6MefnULPED_I942VcFNA       2  2010-12-22\n",
       "4  7Dykd1HolQx8mKPYhYDYSg  --6MefnULPED_I942VcFNA       2  2017-02-07"
      ]
     },
     "execution_count": 51,
     "metadata": {},
     "output_type": "execute_result"
    }
   ],
   "source": [
    "reviews.columns = ['user_id', 'business_id', 'rating', 'date'] \n",
    "reviews.head()"
   ]
  },
  {
   "cell_type": "code",
   "execution_count": 57,
   "metadata": {},
   "outputs": [],
   "source": [
    "#biz.rename(columns = lambda x : str(x)[:11])\n",
    "biz.columns=biz.columns.str.replace('attributes.','')\n",
    "biz.columns=biz.columns.str.replace('.',\"_\")\n",
    "#biz2 = biz.replace(np.nan, '', regex=True)\n",
    "\n",
    "\n",
    "#biz['divey2'] = 1*biz['Ambience_divey']\n",
    "#biz2 = biz['divey2'].replace(np.nan, np.nan, regex=True)\n",
    "#biz2.head()"
   ]
  },
  {
   "cell_type": "code",
   "execution_count": 67,
   "metadata": {},
   "outputs": [
    {
     "data": {
      "text/plain": [
       "Ambience_divey                 object\n",
       "RestaurantsDelivery            object\n",
       "Ambience_trendy                object\n",
       "postal_code                    object\n",
       "city                           object\n",
       "GoodForKids                    object\n",
       "Ambience_casual                object\n",
       "stars                         float64\n",
       "latitude                      float64\n",
       "Alcohol                        object\n",
       "RestaurantsPriceRange2        float64\n",
       "Ambience_classy                object\n",
       "RestaurantsTableService        object\n",
       "GoodForMeal_latenight          object\n",
       "GoodForMeal_dessert            object\n",
       "Ambience_touristy              object\n",
       "BusinessParking_validated      object\n",
       "GoodForMeal_lunch              object\n",
       "RestaurantsGoodForGroups       object\n",
       "categories                     object\n",
       "GoodForMeal_brunch             object\n",
       "name                           object\n",
       "BusinessParking_valet          object\n",
       "WheelchairAccessible           object\n",
       "Ambience_intimate              object\n",
       "Ambience_hipster               object\n",
       "BusinessAcceptsCreditCards     object\n",
       "is_open                         int64\n",
       "neighborhood                   object\n",
       "BusinessParking_garage         object\n",
       "WiFi                           object\n",
       "longitude                     float64\n",
       "review_count                    int64\n",
       "GoodForMeal_breakfast          object\n",
       "NoiseLevel                     object\n",
       "state                          object\n",
       "BusinessParking_lot            object\n",
       "HasTV                          object\n",
       "GoodForMeal_dinner             object\n",
       "business_id                    object\n",
       "BusinessParking_street         object\n",
       "RestaurantsAttire              object\n",
       "Caters                         object\n",
       "RestaurantsReservations        object\n",
       "Ambience_romantic              object\n",
       "Ambience_upscale               object\n",
       "RestaurantsTakeOut             object\n",
       "BikeParking                    object\n",
       "OutdoorSeating                 object\n",
       "divey2                         object\n",
       "dtype: object"
      ]
     },
     "execution_count": 67,
     "metadata": {},
     "output_type": "execute_result"
    }
   ],
   "source": [
    "biz.dtypes"
   ]
  },
  {
   "cell_type": "code",
   "execution_count": 58,
   "metadata": {
    "collapsed": true
   },
   "outputs": [],
   "source": [
    "#Drop where more than 75 percent missing\n",
    "biz = biz.dropna(thresh=len(biz) - 29001, axis=1)"
   ]
  },
  {
   "cell_type": "code",
   "execution_count": 70,
   "metadata": {
    "collapsed": true
   },
   "outputs": [],
   "source": [
    "test_vars = ['Ambience_divey', 'RestaurantsDelivery', 'Ambience_trendy','Ambience_classy','RestaurantsTableService','GoodForMeal_latenight','GoodForMeal_dessert','Ambience_touristy']              \n"
   ]
  },
  {
   "cell_type": "code",
   "execution_count": 74,
   "metadata": {},
   "outputs": [
    {
     "data": {
      "text/html": [
       "<div>\n",
       "<style>\n",
       "    .dataframe thead tr:only-child th {\n",
       "        text-align: right;\n",
       "    }\n",
       "\n",
       "    .dataframe thead th {\n",
       "        text-align: left;\n",
       "    }\n",
       "\n",
       "    .dataframe tbody tr th {\n",
       "        vertical-align: top;\n",
       "    }\n",
       "</style>\n",
       "<table border=\"1\" class=\"dataframe\">\n",
       "  <thead>\n",
       "    <tr style=\"text-align: right;\">\n",
       "      <th></th>\n",
       "      <th>Ambience_divey</th>\n",
       "      <th>RestaurantsDelivery</th>\n",
       "      <th>Ambience_trendy</th>\n",
       "      <th>Ambience_classy</th>\n",
       "      <th>RestaurantsTableService</th>\n",
       "      <th>GoodForMeal_latenight</th>\n",
       "      <th>GoodForMeal_dessert</th>\n",
       "      <th>Ambience_touristy</th>\n",
       "    </tr>\n",
       "  </thead>\n",
       "  <tbody>\n",
       "    <tr>\n",
       "      <th>0</th>\n",
       "      <td>0.0</td>\n",
       "      <td>0.0</td>\n",
       "      <td>0.0</td>\n",
       "      <td>0.0</td>\n",
       "      <td>0.0</td>\n",
       "      <td>0.0</td>\n",
       "      <td>0.0</td>\n",
       "      <td>0.0</td>\n",
       "    </tr>\n",
       "    <tr>\n",
       "      <th>1</th>\n",
       "      <td>NaN</td>\n",
       "      <td>NaN</td>\n",
       "      <td>NaN</td>\n",
       "      <td>NaN</td>\n",
       "      <td>NaN</td>\n",
       "      <td>NaN</td>\n",
       "      <td>NaN</td>\n",
       "      <td>NaN</td>\n",
       "    </tr>\n",
       "    <tr>\n",
       "      <th>2</th>\n",
       "      <td>1.0</td>\n",
       "      <td>0.0</td>\n",
       "      <td>0.0</td>\n",
       "      <td>0.0</td>\n",
       "      <td>1.0</td>\n",
       "      <td>0.0</td>\n",
       "      <td>0.0</td>\n",
       "      <td>0.0</td>\n",
       "    </tr>\n",
       "    <tr>\n",
       "      <th>3</th>\n",
       "      <td>NaN</td>\n",
       "      <td>0.0</td>\n",
       "      <td>NaN</td>\n",
       "      <td>NaN</td>\n",
       "      <td>NaN</td>\n",
       "      <td>NaN</td>\n",
       "      <td>NaN</td>\n",
       "      <td>NaN</td>\n",
       "    </tr>\n",
       "    <tr>\n",
       "      <th>4</th>\n",
       "      <td>0.0</td>\n",
       "      <td>0.0</td>\n",
       "      <td>0.0</td>\n",
       "      <td>0.0</td>\n",
       "      <td>1.0</td>\n",
       "      <td>0.0</td>\n",
       "      <td>0.0</td>\n",
       "      <td>0.0</td>\n",
       "    </tr>\n",
       "  </tbody>\n",
       "</table>\n",
       "</div>"
      ],
      "text/plain": [
       "   Ambience_divey  RestaurantsDelivery  Ambience_trendy  Ambience_classy  \\\n",
       "0             0.0                  0.0              0.0              0.0   \n",
       "1             NaN                  NaN              NaN              NaN   \n",
       "2             1.0                  0.0              0.0              0.0   \n",
       "3             NaN                  0.0              NaN              NaN   \n",
       "4             0.0                  0.0              0.0              0.0   \n",
       "\n",
       "   RestaurantsTableService  GoodForMeal_latenight  GoodForMeal_dessert  \\\n",
       "0                      0.0                    0.0                  0.0   \n",
       "1                      NaN                    NaN                  NaN   \n",
       "2                      1.0                    0.0                  0.0   \n",
       "3                      NaN                    NaN                  NaN   \n",
       "4                      1.0                    0.0                  0.0   \n",
       "\n",
       "   Ambience_touristy  \n",
       "0                0.0  \n",
       "1                NaN  \n",
       "2                0.0  \n",
       "3                NaN  \n",
       "4                0.0  "
      ]
     },
     "execution_count": 74,
     "metadata": {},
     "output_type": "execute_result"
    }
   ],
   "source": [
    "for var in test_vars:\n",
    "    biz[var] = 1*biz[var]\n",
    "    \n",
    "biz2 = biz[test_vars].replace(np.nan, np.nan, regex=True)\n",
    "biz2.head()"
   ]
  },
  {
   "cell_type": "code",
   "execution_count": 64,
   "metadata": {},
   "outputs": [
    {
     "data": {
      "text/plain": [
       "dtype('float64')"
      ]
     },
     "execution_count": 64,
     "metadata": {},
     "output_type": "execute_result"
    }
   ],
   "source": [
    "\n",
    "#biz['Ambience_divey'] = 1*biz['Ambience_divey']\n",
    "\n",
    "biz2 = biz['Ambience_divey'].replace(np.nan, np.nan, regex=True)\n",
    "#biz['divey2'].astype(int)\n",
    "biz2.head()\n",
    "biz2.dtypes"
   ]
  },
  {
   "cell_type": "code",
   "execution_count": null,
   "metadata": {
    "collapsed": true
   },
   "outputs": [],
   "source": [
    "object_vars = biz.drop(float_vars, axis=1)\n",
    "object_df = object_df.drop(int_vars,axis=1)"
   ]
  },
  {
   "cell_type": "code",
   "execution_count": 66,
   "metadata": {},
   "outputs": [
    {
     "data": {
      "text/plain": [
       "Ambience_divey                 object\n",
       "RestaurantsDelivery            object\n",
       "Ambience_trendy                object\n",
       "postal_code                    object\n",
       "city                           object\n",
       "GoodForKids                    object\n",
       "Ambience_casual                object\n",
       "stars                         float64\n",
       "latitude                      float64\n",
       "Alcohol                        object\n",
       "RestaurantsPriceRange2        float64\n",
       "Ambience_classy                object\n",
       "RestaurantsTableService        object\n",
       "GoodForMeal_latenight          object\n",
       "GoodForMeal_dessert            object\n",
       "Ambience_touristy              object\n",
       "BusinessParking_validated      object\n",
       "GoodForMeal_lunch              object\n",
       "RestaurantsGoodForGroups       object\n",
       "categories                     object\n",
       "GoodForMeal_brunch             object\n",
       "name                           object\n",
       "BusinessParking_valet          object\n",
       "WheelchairAccessible           object\n",
       "Ambience_intimate              object\n",
       "Ambience_hipster               object\n",
       "BusinessAcceptsCreditCards     object\n",
       "is_open                         int64\n",
       "neighborhood                   object\n",
       "BusinessParking_garage         object\n",
       "WiFi                           object\n",
       "longitude                     float64\n",
       "review_count                    int64\n",
       "GoodForMeal_breakfast          object\n",
       "NoiseLevel                     object\n",
       "state                          object\n",
       "BusinessParking_lot            object\n",
       "HasTV                          object\n",
       "GoodForMeal_dinner             object\n",
       "business_id                    object\n",
       "BusinessParking_street         object\n",
       "RestaurantsAttire              object\n",
       "Caters                         object\n",
       "RestaurantsReservations        object\n",
       "Ambience_romantic              object\n",
       "Ambience_upscale               object\n",
       "RestaurantsTakeOut             object\n",
       "BikeParking                    object\n",
       "OutdoorSeating                 object\n",
       "divey2                         object\n",
       "dtype: object"
      ]
     },
     "execution_count": 66,
     "metadata": {},
     "output_type": "execute_result"
    }
   ],
   "source": [
    "biz.head()"
   ]
  },
  {
   "cell_type": "code",
   "execution_count": 33,
   "metadata": {},
   "outputs": [],
   "source": [
    "\n",
    "booleandf = biz.select_dtypes(include=[bool])\n",
    "booleanDictionary = {True: 'TRUE', False: 'FALSE'}\n",
    "\n",
    "for column in booleandf:\n",
    "    biz[column] = biz[column].map(booleanDictionary)"
   ]
  },
  {
   "cell_type": "code",
   "execution_count": 36,
   "metadata": {},
   "outputs": [
    {
     "data": {
      "text/html": [
       "<div>\n",
       "<style>\n",
       "    .dataframe thead tr:only-child th {\n",
       "        text-align: right;\n",
       "    }\n",
       "\n",
       "    .dataframe thead th {\n",
       "        text-align: left;\n",
       "    }\n",
       "\n",
       "    .dataframe tbody tr th {\n",
       "        vertical-align: top;\n",
       "    }\n",
       "</style>\n",
       "<table border=\"1\" class=\"dataframe\">\n",
       "  <thead>\n",
       "    <tr style=\"text-align: right;\">\n",
       "      <th></th>\n",
       "      <th>Ambience_divey</th>\n",
       "      <th>HairSpecializesIn_kids</th>\n",
       "      <th>RestaurantsDelivery</th>\n",
       "      <th>Open24Hours</th>\n",
       "      <th>Ambience_trendy</th>\n",
       "      <th>DogsAllowed</th>\n",
       "      <th>CoatCheck</th>\n",
       "      <th>postal_code</th>\n",
       "      <th>Smoking</th>\n",
       "      <th>DietaryRestrictions_halal</th>\n",
       "      <th>...</th>\n",
       "      <th>BestNights_wednesday</th>\n",
       "      <th>DietaryRestrictions_vegan</th>\n",
       "      <th>Ambience_romantic</th>\n",
       "      <th>Music_jukebox</th>\n",
       "      <th>Ambience_upscale</th>\n",
       "      <th>RestaurantsTakeOut</th>\n",
       "      <th>BikeParking</th>\n",
       "      <th>OutdoorSeating</th>\n",
       "      <th>smoking2</th>\n",
       "      <th>divey2</th>\n",
       "    </tr>\n",
       "  </thead>\n",
       "  <tbody>\n",
       "    <tr>\n",
       "      <th>0</th>\n",
       "      <td>False</td>\n",
       "      <td></td>\n",
       "      <td>False</td>\n",
       "      <td></td>\n",
       "      <td>False</td>\n",
       "      <td></td>\n",
       "      <td>False</td>\n",
       "      <td>28105</td>\n",
       "      <td></td>\n",
       "      <td></td>\n",
       "      <td>...</td>\n",
       "      <td></td>\n",
       "      <td></td>\n",
       "      <td>False</td>\n",
       "      <td>False</td>\n",
       "      <td>False</td>\n",
       "      <td>True</td>\n",
       "      <td>True</td>\n",
       "      <td>False</td>\n",
       "      <td></td>\n",
       "      <td>0</td>\n",
       "    </tr>\n",
       "    <tr>\n",
       "      <th>1</th>\n",
       "      <td></td>\n",
       "      <td></td>\n",
       "      <td></td>\n",
       "      <td></td>\n",
       "      <td></td>\n",
       "      <td></td>\n",
       "      <td></td>\n",
       "      <td>28164</td>\n",
       "      <td></td>\n",
       "      <td></td>\n",
       "      <td>...</td>\n",
       "      <td></td>\n",
       "      <td></td>\n",
       "      <td></td>\n",
       "      <td></td>\n",
       "      <td></td>\n",
       "      <td></td>\n",
       "      <td></td>\n",
       "      <td>False</td>\n",
       "      <td></td>\n",
       "      <td></td>\n",
       "    </tr>\n",
       "    <tr>\n",
       "      <th>2</th>\n",
       "      <td>True</td>\n",
       "      <td></td>\n",
       "      <td>False</td>\n",
       "      <td></td>\n",
       "      <td>False</td>\n",
       "      <td></td>\n",
       "      <td></td>\n",
       "      <td>15224</td>\n",
       "      <td></td>\n",
       "      <td></td>\n",
       "      <td>...</td>\n",
       "      <td></td>\n",
       "      <td></td>\n",
       "      <td>False</td>\n",
       "      <td></td>\n",
       "      <td>False</td>\n",
       "      <td>True</td>\n",
       "      <td>True</td>\n",
       "      <td>False</td>\n",
       "      <td></td>\n",
       "      <td>1</td>\n",
       "    </tr>\n",
       "    <tr>\n",
       "      <th>3</th>\n",
       "      <td></td>\n",
       "      <td></td>\n",
       "      <td>False</td>\n",
       "      <td></td>\n",
       "      <td></td>\n",
       "      <td></td>\n",
       "      <td></td>\n",
       "      <td>L5W 0E6</td>\n",
       "      <td></td>\n",
       "      <td></td>\n",
       "      <td>...</td>\n",
       "      <td></td>\n",
       "      <td></td>\n",
       "      <td></td>\n",
       "      <td></td>\n",
       "      <td></td>\n",
       "      <td>True</td>\n",
       "      <td></td>\n",
       "      <td>True</td>\n",
       "      <td></td>\n",
       "      <td></td>\n",
       "    </tr>\n",
       "    <tr>\n",
       "      <th>4</th>\n",
       "      <td>False</td>\n",
       "      <td></td>\n",
       "      <td>False</td>\n",
       "      <td></td>\n",
       "      <td>False</td>\n",
       "      <td></td>\n",
       "      <td></td>\n",
       "      <td>53704</td>\n",
       "      <td></td>\n",
       "      <td></td>\n",
       "      <td>...</td>\n",
       "      <td></td>\n",
       "      <td></td>\n",
       "      <td>False</td>\n",
       "      <td></td>\n",
       "      <td>False</td>\n",
       "      <td>True</td>\n",
       "      <td>True</td>\n",
       "      <td>False</td>\n",
       "      <td></td>\n",
       "      <td>0</td>\n",
       "    </tr>\n",
       "  </tbody>\n",
       "</table>\n",
       "<p>5 rows × 95 columns</p>\n",
       "</div>"
      ],
      "text/plain": [
       "  Ambience_divey HairSpecializesIn_kids RestaurantsDelivery Open24Hours  \\\n",
       "0          False                                      False               \n",
       "1                                                                         \n",
       "2           True                                      False               \n",
       "3                                                     False               \n",
       "4          False                                      False               \n",
       "\n",
       "  Ambience_trendy DogsAllowed CoatCheck postal_code Smoking  \\\n",
       "0           False                 False       28105           \n",
       "1                                             28164           \n",
       "2           False                             15224           \n",
       "3                                           L5W 0E6           \n",
       "4           False                             53704           \n",
       "\n",
       "  DietaryRestrictions_halal  ...   BestNights_wednesday  \\\n",
       "0                            ...                          \n",
       "1                            ...                          \n",
       "2                            ...                          \n",
       "3                            ...                          \n",
       "4                            ...                          \n",
       "\n",
       "  DietaryRestrictions_vegan Ambience_romantic Music_jukebox Ambience_upscale  \\\n",
       "0                                       False         False            False   \n",
       "1                                                                              \n",
       "2                                       False                          False   \n",
       "3                                                                              \n",
       "4                                       False                          False   \n",
       "\n",
       "  RestaurantsTakeOut BikeParking OutdoorSeating smoking2 divey2  \n",
       "0               True        True          False               0  \n",
       "1                                         False                  \n",
       "2               True        True          False               1  \n",
       "3               True                       True                  \n",
       "4               True        True          False               0  \n",
       "\n",
       "[5 rows x 95 columns]"
      ]
     },
     "execution_count": 36,
     "metadata": {},
     "output_type": "execute_result"
    }
   ],
   "source": [
    "biz.head()"
   ]
  },
  {
   "cell_type": "code",
   "execution_count": null,
   "metadata": {
    "collapsed": true
   },
   "outputs": [],
   "source": []
  },
  {
   "cell_type": "code",
   "execution_count": 41,
   "metadata": {},
   "outputs": [
    {
     "data": {
      "text/html": [
       "<div>\n",
       "<style>\n",
       "    .dataframe thead tr:only-child th {\n",
       "        text-align: right;\n",
       "    }\n",
       "\n",
       "    .dataframe thead th {\n",
       "        text-align: left;\n",
       "    }\n",
       "\n",
       "    .dataframe tbody tr th {\n",
       "        vertical-align: top;\n",
       "    }\n",
       "</style>\n",
       "<table border=\"1\" class=\"dataframe\">\n",
       "  <thead>\n",
       "    <tr style=\"text-align: right;\">\n",
       "      <th></th>\n",
       "      <th>Ambience_divey</th>\n",
       "      <th>HairSpecializesIn_kids</th>\n",
       "      <th>RestaurantsDelivery</th>\n",
       "      <th>Open24Hours</th>\n",
       "      <th>Ambience_trendy</th>\n",
       "      <th>DogsAllowed</th>\n",
       "      <th>CoatCheck</th>\n",
       "      <th>postal_code</th>\n",
       "      <th>Smoking</th>\n",
       "      <th>DietaryRestrictions_halal</th>\n",
       "      <th>...</th>\n",
       "      <th>BestNights_wednesday</th>\n",
       "      <th>DietaryRestrictions_vegan</th>\n",
       "      <th>Ambience_romantic</th>\n",
       "      <th>Music_jukebox</th>\n",
       "      <th>Ambience_upscale</th>\n",
       "      <th>RestaurantsTakeOut</th>\n",
       "      <th>BikeParking</th>\n",
       "      <th>OutdoorSeating</th>\n",
       "      <th>smoking2</th>\n",
       "      <th>divey2</th>\n",
       "    </tr>\n",
       "  </thead>\n",
       "  <tbody>\n",
       "    <tr>\n",
       "      <th>0</th>\n",
       "      <td>False</td>\n",
       "      <td>NaN</td>\n",
       "      <td>False</td>\n",
       "      <td>NaN</td>\n",
       "      <td>False</td>\n",
       "      <td>NaN</td>\n",
       "      <td>False</td>\n",
       "      <td>NaN</td>\n",
       "      <td>NaN</td>\n",
       "      <td>NaN</td>\n",
       "      <td>...</td>\n",
       "      <td>NaN</td>\n",
       "      <td>NaN</td>\n",
       "      <td>False</td>\n",
       "      <td>False</td>\n",
       "      <td>False</td>\n",
       "      <td>True</td>\n",
       "      <td>True</td>\n",
       "      <td>False</td>\n",
       "      <td>NaN</td>\n",
       "      <td>0</td>\n",
       "    </tr>\n",
       "    <tr>\n",
       "      <th>1</th>\n",
       "      <td>NaN</td>\n",
       "      <td>NaN</td>\n",
       "      <td>NaN</td>\n",
       "      <td>NaN</td>\n",
       "      <td>NaN</td>\n",
       "      <td>NaN</td>\n",
       "      <td>NaN</td>\n",
       "      <td>NaN</td>\n",
       "      <td>NaN</td>\n",
       "      <td>NaN</td>\n",
       "      <td>...</td>\n",
       "      <td>NaN</td>\n",
       "      <td>NaN</td>\n",
       "      <td>NaN</td>\n",
       "      <td>NaN</td>\n",
       "      <td>NaN</td>\n",
       "      <td>NaN</td>\n",
       "      <td>NaN</td>\n",
       "      <td>False</td>\n",
       "      <td>NaN</td>\n",
       "      <td>NaN</td>\n",
       "    </tr>\n",
       "    <tr>\n",
       "      <th>2</th>\n",
       "      <td>True</td>\n",
       "      <td>NaN</td>\n",
       "      <td>False</td>\n",
       "      <td>NaN</td>\n",
       "      <td>False</td>\n",
       "      <td>NaN</td>\n",
       "      <td>NaN</td>\n",
       "      <td>NaN</td>\n",
       "      <td>NaN</td>\n",
       "      <td>NaN</td>\n",
       "      <td>...</td>\n",
       "      <td>NaN</td>\n",
       "      <td>NaN</td>\n",
       "      <td>False</td>\n",
       "      <td>NaN</td>\n",
       "      <td>False</td>\n",
       "      <td>True</td>\n",
       "      <td>True</td>\n",
       "      <td>False</td>\n",
       "      <td>NaN</td>\n",
       "      <td>1</td>\n",
       "    </tr>\n",
       "    <tr>\n",
       "      <th>3</th>\n",
       "      <td>NaN</td>\n",
       "      <td>NaN</td>\n",
       "      <td>False</td>\n",
       "      <td>NaN</td>\n",
       "      <td>NaN</td>\n",
       "      <td>NaN</td>\n",
       "      <td>NaN</td>\n",
       "      <td>NaN</td>\n",
       "      <td>NaN</td>\n",
       "      <td>NaN</td>\n",
       "      <td>...</td>\n",
       "      <td>NaN</td>\n",
       "      <td>NaN</td>\n",
       "      <td>NaN</td>\n",
       "      <td>NaN</td>\n",
       "      <td>NaN</td>\n",
       "      <td>True</td>\n",
       "      <td>NaN</td>\n",
       "      <td>True</td>\n",
       "      <td>NaN</td>\n",
       "      <td>NaN</td>\n",
       "    </tr>\n",
       "    <tr>\n",
       "      <th>4</th>\n",
       "      <td>False</td>\n",
       "      <td>NaN</td>\n",
       "      <td>False</td>\n",
       "      <td>NaN</td>\n",
       "      <td>False</td>\n",
       "      <td>NaN</td>\n",
       "      <td>NaN</td>\n",
       "      <td>NaN</td>\n",
       "      <td>NaN</td>\n",
       "      <td>NaN</td>\n",
       "      <td>...</td>\n",
       "      <td>NaN</td>\n",
       "      <td>NaN</td>\n",
       "      <td>False</td>\n",
       "      <td>NaN</td>\n",
       "      <td>False</td>\n",
       "      <td>True</td>\n",
       "      <td>True</td>\n",
       "      <td>False</td>\n",
       "      <td>NaN</td>\n",
       "      <td>0</td>\n",
       "    </tr>\n",
       "  </tbody>\n",
       "</table>\n",
       "<p>5 rows × 95 columns</p>\n",
       "</div>"
      ],
      "text/plain": [
       "  Ambience_divey HairSpecializesIn_kids RestaurantsDelivery Open24Hours  \\\n",
       "0          False                    NaN               False         NaN   \n",
       "1            NaN                    NaN                 NaN         NaN   \n",
       "2           True                    NaN               False         NaN   \n",
       "3            NaN                    NaN               False         NaN   \n",
       "4          False                    NaN               False         NaN   \n",
       "\n",
       "  Ambience_trendy DogsAllowed CoatCheck postal_code Smoking  \\\n",
       "0           False         NaN     False         NaN     NaN   \n",
       "1             NaN         NaN       NaN         NaN     NaN   \n",
       "2           False         NaN       NaN         NaN     NaN   \n",
       "3             NaN         NaN       NaN         NaN     NaN   \n",
       "4           False         NaN       NaN         NaN     NaN   \n",
       "\n",
       "  DietaryRestrictions_halal  ...   BestNights_wednesday  \\\n",
       "0                       NaN  ...                    NaN   \n",
       "1                       NaN  ...                    NaN   \n",
       "2                       NaN  ...                    NaN   \n",
       "3                       NaN  ...                    NaN   \n",
       "4                       NaN  ...                    NaN   \n",
       "\n",
       "  DietaryRestrictions_vegan Ambience_romantic Music_jukebox Ambience_upscale  \\\n",
       "0                       NaN             False         False            False   \n",
       "1                       NaN               NaN           NaN              NaN   \n",
       "2                       NaN             False           NaN            False   \n",
       "3                       NaN               NaN           NaN              NaN   \n",
       "4                       NaN             False           NaN            False   \n",
       "\n",
       "  RestaurantsTakeOut BikeParking OutdoorSeating smoking2 divey2  \n",
       "0               True        True          False      NaN      0  \n",
       "1                NaN         NaN          False      NaN    NaN  \n",
       "2               True        True          False      NaN      1  \n",
       "3               True         NaN           True      NaN    NaN  \n",
       "4               True        True          False      NaN      0  \n",
       "\n",
       "[5 rows x 95 columns]"
      ]
     },
     "execution_count": 41,
     "metadata": {},
     "output_type": "execute_result"
    }
   ],
   "source": [
    "test.head()"
   ]
  },
  {
   "cell_type": "code",
   "execution_count": 39,
   "metadata": {},
   "outputs": [
    {
     "data": {
      "text/plain": [
       "Ambience_divey                       object\n",
       "HairSpecializesIn_kids               object\n",
       "RestaurantsDelivery                  object\n",
       "Open24Hours                          object\n",
       "Ambience_trendy                      object\n",
       "DogsAllowed                          object\n",
       "CoatCheck                            object\n",
       "postal_code                          object\n",
       "Smoking                              object\n",
       "DietaryRestrictions_halal            object\n",
       "HairSpecializesIn_straightperms      object\n",
       "city                                 object\n",
       "HairSpecializesIn_curly              object\n",
       "Music_no_music                       object\n",
       "HairSpecializesIn_coloring           object\n",
       "GoodForKids                          object\n",
       "BestNights_sunday                    object\n",
       "BYOB                                 object\n",
       "Ambience_casual                      object\n",
       "AgesAllowed                          object\n",
       "HairSpecializesIn_africanamerican    object\n",
       "stars                                object\n",
       "latitude                             object\n",
       "Alcohol                              object\n",
       "RestaurantsPriceRange2               object\n",
       "Ambience_classy                      object\n",
       "RestaurantsTableService              object\n",
       "GoodForMeal_latenight                object\n",
       "DietaryRestrictions_kosher           object\n",
       "GoodForMeal_dessert                  object\n",
       "                                      ...  \n",
       "BestNights_saturday                  object\n",
       "state                                object\n",
       "BestNights_thursday                  object\n",
       "BusinessParking_lot                  object\n",
       "DriveThru                            object\n",
       "HasTV                                object\n",
       "BestNights_monday                    object\n",
       "GoodForMeal_dinner                   object\n",
       "BYOBCorkage                          object\n",
       "HairSpecializesIn_asian              object\n",
       "business_id                          object\n",
       "BusinessParking_street               object\n",
       "RestaurantsAttire                    object\n",
       "BestNights_tuesday                   object\n",
       "GoodForDancing                       object\n",
       "ByAppointmentOnly                    object\n",
       "Caters                               object\n",
       "AcceptsInsurance                     object\n",
       "RestaurantsReservations              object\n",
       "DietaryRestrictions_dairy-free       object\n",
       "BestNights_wednesday                 object\n",
       "DietaryRestrictions_vegan            object\n",
       "Ambience_romantic                    object\n",
       "Music_jukebox                        object\n",
       "Ambience_upscale                     object\n",
       "RestaurantsTakeOut                   object\n",
       "BikeParking                          object\n",
       "OutdoorSeating                       object\n",
       "smoking2                             object\n",
       "divey2                               object\n",
       "Length: 95, dtype: object"
      ]
     },
     "execution_count": 39,
     "metadata": {},
     "output_type": "execute_result"
    }
   ],
   "source": [
    "test.dtypes"
   ]
  },
  {
   "cell_type": "code",
   "execution_count": 23,
   "metadata": {
    "scrolled": true
   },
   "outputs": [
    {
     "data": {
      "text/plain": [
       "0      0\n",
       "1    NaN\n",
       "2      1\n",
       "3    NaN\n",
       "4      0\n",
       "Name: divey2, dtype: object"
      ]
     },
     "execution_count": 23,
     "metadata": {},
     "output_type": "execute_result"
    }
   ],
   "source": [
    "#biz.divey2.head()\n",
    "#biz.dtypes\n",
    "#list(biz.columns)"
   ]
  },
  {
   "cell_type": "code",
   "execution_count": null,
   "metadata": {
    "scrolled": true
   },
   "outputs": [],
   "source": [
    "#biz.isnull().sum()"
   ]
  },
  {
   "cell_type": "code",
   "execution_count": null,
   "metadata": {
    "collapsed": true
   },
   "outputs": [],
   "source": []
  },
  {
   "cell_type": "code",
   "execution_count": null,
   "metadata": {},
   "outputs": [],
   "source": [
    "biz.shape"
   ]
  },
  {
   "cell_type": "code",
   "execution_count": null,
   "metadata": {
    "scrolled": true
   },
   "outputs": [],
   "source": [
    "biz.isnull().sum()"
   ]
  },
  {
   "cell_type": "code",
   "execution_count": null,
   "metadata": {
    "scrolled": true
   },
   "outputs": [],
   "source": [
    "biz.dtypes"
   ]
  },
  {
   "cell_type": "code",
   "execution_count": null,
   "metadata": {},
   "outputs": [],
   "source": [
    "#biz.Ambience_divey.unique()\n",
    "float_vars = ['stars','latitude','RestaurantsPriceRange2','longitude']\n",
    "int_vars = ['is_open','review_count']\n",
    "object_df = biz.drop(float_vars, axis=1)\n",
    "object_df = object_df.drop(int_vars,axis=1)\n",
    "#object_vars = biz.drop()\n",
    "#object_vars = object_vars.remove(float_vars)\n",
    "#test_set = biz[float_vars]\n",
    "#object_set = biz"
   ]
  },
  {
   "cell_type": "code",
   "execution_count": null,
   "metadata": {},
   "outputs": [],
   "source": [
    "#object_df = object_df.col.dropna().apply(lambda x: str(int(x)) )\n",
    "#object_df.astype(int)\n",
    "#object_df = object_df.dropna().apply(lambda x: str(int(x)))\n",
    "#booleanDictionary = {True: 'TRUE', False: 'FALSE'}\n",
    "#object_df = object_df.replace(booleanDictionary)\n",
    "#object_df.astype(str)\n",
    "#object_df.applymap(lambda x: 1 if x else np.nan)\n",
    "#object_df.astype(int).dtypes"
   ]
  },
  {
   "cell_type": "code",
   "execution_count": null,
   "metadata": {},
   "outputs": [],
   "source": [
    "object_df.head()"
   ]
  },
  {
   "cell_type": "code",
   "execution_count": null,
   "metadata": {
    "scrolled": true
   },
   "outputs": [],
   "source": [
    "#Drop unnecessary businesses\n",
    "object_df.dtypes\n",
    "drop_columns = ['postal_code','city','business_id','name','categories','neighborhood','state']\n",
    "object_df = object_df.drop(drop_columns,axis=1)\n"
   ]
  },
  {
   "cell_type": "code",
   "execution_count": null,
   "metadata": {},
   "outputs": [],
   "source": [
    "object_df.astype(str)"
   ]
  },
  {
   "cell_type": "code",
   "execution_count": null,
   "metadata": {
    "collapsed": true
   },
   "outputs": [],
   "source": [
    "def boolstr_to_floatstr(v):\n",
    "    if v == 'True':\n",
    "        return '1.0'\n",
    "    elif v == 'False':\n",
    "        return '0.0'\n",
    "    else:\n",
    "        return np.nan"
   ]
  },
  {
   "cell_type": "code",
   "execution_count": null,
   "metadata": {},
   "outputs": [],
   "source": [
    "new_data = np.vectorize(boolstr_to_floatstr)(object_df).astype(float)"
   ]
  },
  {
   "cell_type": "code",
   "execution_count": null,
   "metadata": {},
   "outputs": [],
   "source": [
    "biz.shape"
   ]
  },
  {
   "cell_type": "code",
   "execution_count": null,
   "metadata": {},
   "outputs": [],
   "source": [
    "new_data.types"
   ]
  },
  {
   "cell_type": "code",
   "execution_count": 76,
   "metadata": {},
   "outputs": [
    {
     "ename": "ValueError",
     "evalue": "zero-size array to reduction operation minimum which has no identity",
     "output_type": "error",
     "traceback": [
      "\u001b[0;31m---------------------------------------------------------------------------\u001b[0m",
      "\u001b[0;31mValueError\u001b[0m                                Traceback (most recent call last)",
      "\u001b[0;32m<ipython-input-76-b84e8009a376>\u001b[0m in \u001b[0;36m<module>\u001b[0;34m()\u001b[0m\n\u001b[1;32m      3\u001b[0m \u001b[0minteresting_columns\u001b[0m \u001b[0;34m=\u001b[0m \u001b[0mbiz2\u001b[0m\u001b[0;34m.\u001b[0m\u001b[0mcolumns\u001b[0m\u001b[0;34m\u001b[0m\u001b[0m\n\u001b[1;32m      4\u001b[0m \u001b[0mfig\u001b[0m\u001b[0;34m,\u001b[0m \u001b[0max\u001b[0m \u001b[0;34m=\u001b[0m \u001b[0mplt\u001b[0m\u001b[0;34m.\u001b[0m\u001b[0msubplots\u001b[0m\u001b[0;34m(\u001b[0m\u001b[0;36m1\u001b[0m\u001b[0;34m,\u001b[0m\u001b[0;36m1\u001b[0m\u001b[0;34m,\u001b[0m \u001b[0mfigsize\u001b[0m\u001b[0;34m=\u001b[0m\u001b[0;34m(\u001b[0m\u001b[0;36m10\u001b[0m\u001b[0;34m,\u001b[0m\u001b[0;36m8\u001b[0m\u001b[0;34m)\u001b[0m\u001b[0;34m)\u001b[0m\u001b[0;34m\u001b[0m\u001b[0m\n\u001b[0;32m----> 5\u001b[0;31m \u001b[0msns\u001b[0m\u001b[0;34m.\u001b[0m\u001b[0mheatmap\u001b[0m\u001b[0;34m(\u001b[0m\u001b[0mnp\u001b[0m\u001b[0;34m.\u001b[0m\u001b[0mcorrcoef\u001b[0m\u001b[0;34m(\u001b[0m\u001b[0mbiz2\u001b[0m\u001b[0;34m.\u001b[0m\u001b[0mT\u001b[0m\u001b[0;34m)\u001b[0m\u001b[0;34m,\u001b[0m \u001b[0max\u001b[0m\u001b[0;34m=\u001b[0m\u001b[0max\u001b[0m\u001b[0;34m)\u001b[0m\u001b[0;34m\u001b[0m\u001b[0m\n\u001b[0m\u001b[1;32m      6\u001b[0m \u001b[0max\u001b[0m\u001b[0;34m.\u001b[0m\u001b[0mset_xticklabels\u001b[0m\u001b[0;34m(\u001b[0m\u001b[0minteresting_columns\u001b[0m\u001b[0;34m,\u001b[0m \u001b[0mrotation\u001b[0m\u001b[0;34m=\u001b[0m\u001b[0;34m'vertical'\u001b[0m\u001b[0;34m)\u001b[0m\u001b[0;34m\u001b[0m\u001b[0m\n\u001b[1;32m      7\u001b[0m \u001b[0max\u001b[0m\u001b[0;34m.\u001b[0m\u001b[0mset_yticklabels\u001b[0m\u001b[0;34m(\u001b[0m\u001b[0minteresting_columns\u001b[0m\u001b[0;34m[\u001b[0m\u001b[0;34m:\u001b[0m\u001b[0;34m:\u001b[0m\u001b[0;34m-\u001b[0m\u001b[0;36m1\u001b[0m\u001b[0;34m]\u001b[0m\u001b[0;34m,\u001b[0m \u001b[0mrotation\u001b[0m\u001b[0;34m=\u001b[0m\u001b[0;34m'horizontal'\u001b[0m\u001b[0;34m)\u001b[0m\u001b[0;34m\u001b[0m\u001b[0m\n",
      "\u001b[0;32m/Users/maiawoluchem/anaconda/lib/python3.6/site-packages/seaborn/matrix.py\u001b[0m in \u001b[0;36mheatmap\u001b[0;34m(data, vmin, vmax, cmap, center, robust, annot, fmt, annot_kws, linewidths, linecolor, cbar, cbar_kws, cbar_ax, square, ax, xticklabels, yticklabels, mask, **kwargs)\u001b[0m\n\u001b[1;32m    483\u001b[0m     plotter = _HeatMapper(data, vmin, vmax, cmap, center, robust, annot, fmt,\n\u001b[1;32m    484\u001b[0m                           \u001b[0mannot_kws\u001b[0m\u001b[0;34m,\u001b[0m \u001b[0mcbar\u001b[0m\u001b[0;34m,\u001b[0m \u001b[0mcbar_kws\u001b[0m\u001b[0;34m,\u001b[0m \u001b[0mxticklabels\u001b[0m\u001b[0;34m,\u001b[0m\u001b[0;34m\u001b[0m\u001b[0m\n\u001b[0;32m--> 485\u001b[0;31m                           yticklabels, mask)\n\u001b[0m\u001b[1;32m    486\u001b[0m \u001b[0;34m\u001b[0m\u001b[0m\n\u001b[1;32m    487\u001b[0m     \u001b[0;31m# Add the pcolormesh kwargs here\u001b[0m\u001b[0;34m\u001b[0m\u001b[0;34m\u001b[0m\u001b[0m\n",
      "\u001b[0;32m/Users/maiawoluchem/anaconda/lib/python3.6/site-packages/seaborn/matrix.py\u001b[0m in \u001b[0;36m__init__\u001b[0;34m(self, data, vmin, vmax, cmap, center, robust, annot, fmt, annot_kws, cbar, cbar_kws, xticklabels, yticklabels, mask)\u001b[0m\n\u001b[1;32m    165\u001b[0m         \u001b[0;31m# Determine good default values for the colormapping\u001b[0m\u001b[0;34m\u001b[0m\u001b[0;34m\u001b[0m\u001b[0m\n\u001b[1;32m    166\u001b[0m         self._determine_cmap_params(plot_data, vmin, vmax,\n\u001b[0;32m--> 167\u001b[0;31m                                     cmap, center, robust)\n\u001b[0m\u001b[1;32m    168\u001b[0m \u001b[0;34m\u001b[0m\u001b[0m\n\u001b[1;32m    169\u001b[0m         \u001b[0;31m# Sort out the annotations\u001b[0m\u001b[0;34m\u001b[0m\u001b[0;34m\u001b[0m\u001b[0m\n",
      "\u001b[0;32m/Users/maiawoluchem/anaconda/lib/python3.6/site-packages/seaborn/matrix.py\u001b[0m in \u001b[0;36m_determine_cmap_params\u001b[0;34m(self, plot_data, vmin, vmax, cmap, center, robust)\u001b[0m\n\u001b[1;32m    204\u001b[0m         \u001b[0mcalc_data\u001b[0m \u001b[0;34m=\u001b[0m \u001b[0mplot_data\u001b[0m\u001b[0;34m.\u001b[0m\u001b[0mdata\u001b[0m\u001b[0;34m[\u001b[0m\u001b[0;34m~\u001b[0m\u001b[0mnp\u001b[0m\u001b[0;34m.\u001b[0m\u001b[0misnan\u001b[0m\u001b[0;34m(\u001b[0m\u001b[0mplot_data\u001b[0m\u001b[0;34m.\u001b[0m\u001b[0mdata\u001b[0m\u001b[0;34m)\u001b[0m\u001b[0;34m]\u001b[0m\u001b[0;34m\u001b[0m\u001b[0m\n\u001b[1;32m    205\u001b[0m         \u001b[0;32mif\u001b[0m \u001b[0mvmin\u001b[0m \u001b[0;32mis\u001b[0m \u001b[0;32mNone\u001b[0m\u001b[0;34m:\u001b[0m\u001b[0;34m\u001b[0m\u001b[0m\n\u001b[0;32m--> 206\u001b[0;31m             \u001b[0mvmin\u001b[0m \u001b[0;34m=\u001b[0m \u001b[0mnp\u001b[0m\u001b[0;34m.\u001b[0m\u001b[0mpercentile\u001b[0m\u001b[0;34m(\u001b[0m\u001b[0mcalc_data\u001b[0m\u001b[0;34m,\u001b[0m \u001b[0;36m2\u001b[0m\u001b[0;34m)\u001b[0m \u001b[0;32mif\u001b[0m \u001b[0mrobust\u001b[0m \u001b[0;32melse\u001b[0m \u001b[0mcalc_data\u001b[0m\u001b[0;34m.\u001b[0m\u001b[0mmin\u001b[0m\u001b[0;34m(\u001b[0m\u001b[0;34m)\u001b[0m\u001b[0;34m\u001b[0m\u001b[0m\n\u001b[0m\u001b[1;32m    207\u001b[0m         \u001b[0;32mif\u001b[0m \u001b[0mvmax\u001b[0m \u001b[0;32mis\u001b[0m \u001b[0;32mNone\u001b[0m\u001b[0;34m:\u001b[0m\u001b[0;34m\u001b[0m\u001b[0m\n\u001b[1;32m    208\u001b[0m             \u001b[0mvmax\u001b[0m \u001b[0;34m=\u001b[0m \u001b[0mnp\u001b[0m\u001b[0;34m.\u001b[0m\u001b[0mpercentile\u001b[0m\u001b[0;34m(\u001b[0m\u001b[0mcalc_data\u001b[0m\u001b[0;34m,\u001b[0m \u001b[0;36m98\u001b[0m\u001b[0;34m)\u001b[0m \u001b[0;32mif\u001b[0m \u001b[0mrobust\u001b[0m \u001b[0;32melse\u001b[0m \u001b[0mcalc_data\u001b[0m\u001b[0;34m.\u001b[0m\u001b[0mmax\u001b[0m\u001b[0;34m(\u001b[0m\u001b[0;34m)\u001b[0m\u001b[0;34m\u001b[0m\u001b[0m\n",
      "\u001b[0;32m/Users/maiawoluchem/anaconda/lib/python3.6/site-packages/numpy/core/_methods.py\u001b[0m in \u001b[0;36m_amin\u001b[0;34m(a, axis, out, keepdims)\u001b[0m\n\u001b[1;32m     27\u001b[0m \u001b[0;34m\u001b[0m\u001b[0m\n\u001b[1;32m     28\u001b[0m \u001b[0;32mdef\u001b[0m \u001b[0m_amin\u001b[0m\u001b[0;34m(\u001b[0m\u001b[0ma\u001b[0m\u001b[0;34m,\u001b[0m \u001b[0maxis\u001b[0m\u001b[0;34m=\u001b[0m\u001b[0;32mNone\u001b[0m\u001b[0;34m,\u001b[0m \u001b[0mout\u001b[0m\u001b[0;34m=\u001b[0m\u001b[0;32mNone\u001b[0m\u001b[0;34m,\u001b[0m \u001b[0mkeepdims\u001b[0m\u001b[0;34m=\u001b[0m\u001b[0;32mFalse\u001b[0m\u001b[0;34m)\u001b[0m\u001b[0;34m:\u001b[0m\u001b[0;34m\u001b[0m\u001b[0m\n\u001b[0;32m---> 29\u001b[0;31m     \u001b[0;32mreturn\u001b[0m \u001b[0mumr_minimum\u001b[0m\u001b[0;34m(\u001b[0m\u001b[0ma\u001b[0m\u001b[0;34m,\u001b[0m \u001b[0maxis\u001b[0m\u001b[0;34m,\u001b[0m \u001b[0;32mNone\u001b[0m\u001b[0;34m,\u001b[0m \u001b[0mout\u001b[0m\u001b[0;34m,\u001b[0m \u001b[0mkeepdims\u001b[0m\u001b[0;34m)\u001b[0m\u001b[0;34m\u001b[0m\u001b[0m\n\u001b[0m\u001b[1;32m     30\u001b[0m \u001b[0;34m\u001b[0m\u001b[0m\n\u001b[1;32m     31\u001b[0m \u001b[0;32mdef\u001b[0m \u001b[0m_sum\u001b[0m\u001b[0;34m(\u001b[0m\u001b[0ma\u001b[0m\u001b[0;34m,\u001b[0m \u001b[0maxis\u001b[0m\u001b[0;34m=\u001b[0m\u001b[0;32mNone\u001b[0m\u001b[0;34m,\u001b[0m \u001b[0mdtype\u001b[0m\u001b[0;34m=\u001b[0m\u001b[0;32mNone\u001b[0m\u001b[0;34m,\u001b[0m \u001b[0mout\u001b[0m\u001b[0;34m=\u001b[0m\u001b[0;32mNone\u001b[0m\u001b[0;34m,\u001b[0m \u001b[0mkeepdims\u001b[0m\u001b[0;34m=\u001b[0m\u001b[0;32mFalse\u001b[0m\u001b[0;34m)\u001b[0m\u001b[0;34m:\u001b[0m\u001b[0;34m\u001b[0m\u001b[0m\n",
      "\u001b[0;31mValueError\u001b[0m: zero-size array to reduction operation minimum which has no identity"
     ]
    },
    {
     "data": {
      "image/png": "[encoded data removed]",
      "text/plain": [
       "<matplotlib.figure.Figure at 0x16db009e8>"
      ]
     },
     "metadata": {},
     "output_type": "display_data"
    }
   ],
   "source": [
    "#biz2.categories\n",
    "import seaborn as sns\n",
    "interesting_columns = biz2.columns\n",
    "fig, ax = plt.subplots(1,1, figsize=(10,8))\n",
    "sns.heatmap(np.corrcoef(biz2.T), ax=ax)\n",
    "ax.set_xticklabels(interesting_columns, rotation='vertical')\n",
    "ax.set_yticklabels(interesting_columns[::-1], rotation='horizontal')\n",
    "plt.show()\n",
    "\n",
    "\"\"\"interesting_columns = biz.drop(float_vars, axis=1).columns\n",
    "fig, ax = plt.subplots(1,1, figsize=(10,8))\n",
    "sns.heatmap(np.corrcoef(biz.drop(float_vars, axis=1).T), ax=ax)\n",
    "ax.set_xticklabels(interesting_columns, rotation='vertical')\n",
    "ax.set_yticklabels(interesting_columns[::-1], rotation='horizontal')\n",
    "plt.show()\"\"\""
   ]
  },
  {
   "cell_type": "code",
   "execution_count": 77,
   "metadata": {},
   "outputs": [
    {
     "data": {
      "text/plain": [
       "<matplotlib.axes._subplots.AxesSubplot at 0x16de81a58>"
      ]
     },
     "execution_count": 77,
     "metadata": {},
     "output_type": "execute_result"
    },
    {
     "data": {
      "image/png": "[encoded data removed]",
      "text/plain": [
       "<matplotlib.figure.Figure at 0x16dea47b8>"
      ]
     },
     "metadata": {},
     "output_type": "display_data"
    }
   ],
   "source": [
    "fig, ax = plt.subplots(1,1, figsize =(10,8))\n",
    "sns.heatmap(biz2.corr(), ax=ax)"
   ]
  },
  {
   "cell_type": "code",
   "execution_count": null,
   "metadata": {},
   "outputs": [],
   "source": [
    "tips.columns = ['business_id', 'user_id', 'unidentifiedinfo_tips'] \n",
    "\n",
    "tips['business_id'] = tips['business_id'].map(lambda x: x[1:])\n",
    "tips['user_id'] = tips['user_id'].map(lambda x: x[:-1])\n",
    "tips.head()"
   ]
  },
  {
   "cell_type": "code",
   "execution_count": null,
   "metadata": {},
   "outputs": [],
   "source": [
    "users.head()"
   ]
  },
  {
   "cell_type": "code",
   "execution_count": null,
   "metadata": {
    "collapsed": true
   },
   "outputs": [],
   "source": []
  },
  {
   "cell_type": "code",
   "execution_count": null,
   "metadata": {
    "collapsed": true
   },
   "outputs": [],
   "source": [
    "\"\"\"\n",
    "Based on this knowledge, the following EDA steps may be necessary:\n",
    "\n",
    "1. Label column headers - \n",
    "    a. Check-ins: User_ID, # of Check-ins\n",
    "    b. Photos: User_ID, # of Photos\n",
    "    c. Review: Business_ID?, User_ID?, Stars, Date (of the review?)\n",
    "    d. Biz: Use column headers from dataset\n",
    "    e. Tips: Business_ID, User_ID, # of tips?\n",
    "    \n",
    "    Questions that arise:\n",
    "    - We have a wide range in the number of records across sets. Is it because \n",
    "    of the number of businesses, number of users, or both? We should confirm\n",
    "    the population of each set and make sure we're clear on that in this EDA.\n",
    "    \n",
    "2. Merge variables as needed - \n",
    "    a. It may be easiest to work with one large dataset that is at the user-level\n",
    "    that contains all of the information that we need. If so, the following pieces\n",
    "    may be necessary:\n",
    "    b. Determine what level we should be working at - user, review, or business\n",
    "        i. Seems like we should be at the user-level, in which case, will we have \n",
    "        multiple duplicates for the users depending on how many reviews we have?\n",
    "    c. Merge depending on level determined.\n",
    "    \n",
    "    Questions that arise:\n",
    "    - \n",
    "    \n",
    "3. Basic cleaning - \n",
    "    a. Do we have duplicates in any of these datasets? If so, why?\n",
    "    b. Missing values - \n",
    "        i. Due to that merging, we should have missing values in some users\n",
    "        ii. Figure out a strategy for dealing with those missing values. \n",
    "    \n",
    "4. Do basic EDA - \n",
    "\n",
    "    a. How many unique users? Businesses? Reviews? \n",
    "    b. User behavior - \n",
    "        i. What do the most and least active users look like? Are they enthusiastic?\n",
    "            Do they travel? \n",
    "        ii. Do a user's reviews tend to favor a particular style of restaurant \n",
    "            (is there a clustering of taste inherent in the data already)?\n",
    "        iii. What do reviews look like? Are there certain variables that are \n",
    "            are always missing? \n",
    "    \n",
    "    Questions that arise:\n",
    "        - Do we have enough information about folks to adequately make these predictions?\n",
    "            What else might we need to impute?\n",
    "            \n"
   ]
  }
 ],
 "metadata": {
  "kernelspec": {
   "display_name": "Python 3",
   "language": "python",
   "name": "python3"
  },
  "language_info": {
   "codemirror_mode": {
    "name": "ipython",
    "version": 3
   },
   "file_extension": ".py",
   "mimetype": "text/x-python",
   "name": "python",
   "nbconvert_exporter": "python",
   "pygments_lexer": "ipython3",
   "version": "3.6.1"
  }
 },
 "nbformat": 4,
 "nbformat_minor": 2
}
