{
 "cells": [
  {
   "cell_type": "code",
   "execution_count": 1,
   "metadata": {
    "hide": true
   },
   "outputs": [
    {
     "name": "stderr",
     "output_type": "stream",
     "text": [
      "/anaconda/lib/python3.6/site-packages/statsmodels/compat/pandas.py:56: FutureWarning: The pandas.core.datetools module is deprecated and will be removed in a future version. Please use the pandas.tseries module instead.\n",
      "  from pandas.core import datetools\n"
     ]
    }
   ],
   "source": [
    "import numpy as np\n",
    "from itertools import chain\n",
    "import pandas as pd\n",
    "import matplotlib\n",
    "import matplotlib.pyplot as plt\n",
    "from sklearn.metrics import r2_score\n",
    "import statsmodels.api as sm\n",
    "from statsmodels.api import OLS\n",
    "from sklearn.linear_model import LinearRegression\n",
    "from sklearn.linear_model import RidgeCV\n",
    "from sklearn.linear_model import LassoCV\n",
    "%matplotlib inline"
   ]
  },
  {
   "cell_type": "markdown",
   "metadata": {},
   "source": [
    "# Regularized Regression"
   ]
  },
  {
   "cell_type": "markdown",
   "metadata": {},
   "source": [
    "Now that we have our baseline results, we would like to run the actual fit of the model leaving parameters $\\theta$ and $\\gamma$ to be fit. We can do so by reconstructing the baseline model to the following:\n",
    "\n",
    "$$ Y_{um} = \\mu + \\bar{\\theta} \\cdot I_u + \\bar{\\gamma} \\cdot I_m$$\n",
    "\n",
    "Where $\\bar{\\theta}$ is a vector of coefficients for users who have made ratings and $\\bar{\\gamma}$ is a coefficients for restaurants for which ratings have been made. We multiply these by indicator variables $I_u$ and $I_m$, respectively, for the u-th user and m-th restaurant to go in the feature matrix.  \n",
    "\n",
    "The best way to implement that would be to construct an $N$ by $U + M + 1$ matrix, where the $N$ is the number of reviews, $U$ is the total number of reviewers, and $M$ is the total number of restaurants (we include an additional column for the intercept). \n",
    "\n",
    "We will run this matrix through a multiple linear regression to compare results with baseline method (**we expect to get the same results as before**), but we will also run this matrix through Ridge and Lasso regularization. This should help, as the number of features included in this regression has expanded greatly."
   ]
  },
  {
   "cell_type": "markdown",
   "metadata": {},
   "source": [
    "## Run regularization on full universe of reviews"
   ]
  },
  {
   "cell_type": "code",
   "execution_count": 2,
   "metadata": {},
   "outputs": [
    {
     "name": "stdout",
     "output_type": "stream",
     "text": [
      "(1409493, 13)\n",
      "(535585, 13)\n"
     ]
    }
   ],
   "source": [
    "## Load in test and train data for all markets\n",
    "train_df = pd.read_csv(\"Data/train.csv\")\n",
    "test_df = pd.read_csv(\"Data/test.csv\")\n",
    "print(train_df.shape)\n",
    "print(test_df.shape)"
   ]
  },
  {
   "cell_type": "code",
   "execution_count": 14,
   "metadata": {
    "scrolled": true
   },
   "outputs": [
    {
     "data": {
      "text/html": [
       "<div>\n",
       "<style>\n",
       "    .dataframe thead tr:only-child th {\n",
       "        text-align: right;\n",
       "    }\n",
       "\n",
       "    .dataframe thead th {\n",
       "        text-align: left;\n",
       "    }\n",
       "\n",
       "    .dataframe tbody tr th {\n",
       "        vertical-align: top;\n",
       "    }\n",
       "</style>\n",
       "<table border=\"1\" class=\"dataframe\">\n",
       "  <thead>\n",
       "    <tr style=\"text-align: right;\">\n",
       "      <th></th>\n",
       "      <th>review_date</th>\n",
       "      <th>business_longitude</th>\n",
       "      <th>business_id</th>\n",
       "      <th>business_categories</th>\n",
       "      <th>business_name</th>\n",
       "      <th>business_state</th>\n",
       "      <th>review_score</th>\n",
       "      <th>user_id</th>\n",
       "      <th>user_average_rating</th>\n",
       "      <th>business_review_count</th>\n",
       "      <th>business_average_rating</th>\n",
       "      <th>business_latitude</th>\n",
       "      <th>user_review_count</th>\n",
       "    </tr>\n",
       "  </thead>\n",
       "  <tbody>\n",
       "    <tr>\n",
       "      <th>10</th>\n",
       "      <td>2012-04-30</td>\n",
       "      <td>-115.119257</td>\n",
       "      <td>p5rpYtxS5xPQjt3MXYVEwA</td>\n",
       "      <td>['Vegetarian', 'Restaurants', 'Burgers', 'Vega...</td>\n",
       "      <td>Greens and Proteins</td>\n",
       "      <td>NV</td>\n",
       "      <td>5.0</td>\n",
       "      <td>---1lKK3aKOuomHnwAkAow</td>\n",
       "      <td>3.97</td>\n",
       "      <td>600.0</td>\n",
       "      <td>4.0</td>\n",
       "      <td>36.026232</td>\n",
       "      <td>245.0</td>\n",
       "    </tr>\n",
       "    <tr>\n",
       "      <th>11</th>\n",
       "      <td>2015-11-30</td>\n",
       "      <td>-115.134574</td>\n",
       "      <td>Vg1C_1eqwIwkZLIXGMTW3g</td>\n",
       "      <td>['Nightlife', 'British', 'Bars', 'Sports Bars'...</td>\n",
       "      <td>Crown &amp; Anchor British Pub</td>\n",
       "      <td>NV</td>\n",
       "      <td>1.0</td>\n",
       "      <td>---1lKK3aKOuomHnwAkAow</td>\n",
       "      <td>3.97</td>\n",
       "      <td>366.0</td>\n",
       "      <td>3.5</td>\n",
       "      <td>36.101467</td>\n",
       "      <td>245.0</td>\n",
       "    </tr>\n",
       "    <tr>\n",
       "      <th>12</th>\n",
       "      <td>2010-11-05</td>\n",
       "      <td>-115.285177</td>\n",
       "      <td>CWNMLT-ppaUjLMmrnYDPVg</td>\n",
       "      <td>['Hawaiian', 'Asian Fusion', 'Restaurants']</td>\n",
       "      <td>Roy's Restaurant</td>\n",
       "      <td>NV</td>\n",
       "      <td>5.0</td>\n",
       "      <td>---1lKK3aKOuomHnwAkAow</td>\n",
       "      <td>3.97</td>\n",
       "      <td>97.0</td>\n",
       "      <td>4.0</td>\n",
       "      <td>36.158503</td>\n",
       "      <td>245.0</td>\n",
       "    </tr>\n",
       "    <tr>\n",
       "      <th>13</th>\n",
       "      <td>2012-05-01</td>\n",
       "      <td>-115.139584</td>\n",
       "      <td>Xspg78dOvuedvuPEUwZBjw</td>\n",
       "      <td>['Coffee &amp; Tea', 'Sandwiches', 'Restaurants', ...</td>\n",
       "      <td>The Beat Coffeehouse &amp; Records</td>\n",
       "      <td>NV</td>\n",
       "      <td>4.0</td>\n",
       "      <td>---1lKK3aKOuomHnwAkAow</td>\n",
       "      <td>3.97</td>\n",
       "      <td>329.0</td>\n",
       "      <td>4.0</td>\n",
       "      <td>36.169108</td>\n",
       "      <td>245.0</td>\n",
       "    </tr>\n",
       "    <tr>\n",
       "      <th>14</th>\n",
       "      <td>2010-12-02</td>\n",
       "      <td>-115.312478</td>\n",
       "      <td>WOO81gScY3_VpaIfXFAKpw</td>\n",
       "      <td>['French', 'Restaurants']</td>\n",
       "      <td>Technique Restaurant</td>\n",
       "      <td>NV</td>\n",
       "      <td>4.0</td>\n",
       "      <td>---1lKK3aKOuomHnwAkAow</td>\n",
       "      <td>3.97</td>\n",
       "      <td>30.0</td>\n",
       "      <td>4.0</td>\n",
       "      <td>36.188111</td>\n",
       "      <td>245.0</td>\n",
       "    </tr>\n",
       "  </tbody>\n",
       "</table>\n",
       "</div>"
      ],
      "text/plain": [
       "   review_date  business_longitude             business_id  \\\n",
       "10  2012-04-30         -115.119257  p5rpYtxS5xPQjt3MXYVEwA   \n",
       "11  2015-11-30         -115.134574  Vg1C_1eqwIwkZLIXGMTW3g   \n",
       "12  2010-11-05         -115.285177  CWNMLT-ppaUjLMmrnYDPVg   \n",
       "13  2012-05-01         -115.139584  Xspg78dOvuedvuPEUwZBjw   \n",
       "14  2010-12-02         -115.312478  WOO81gScY3_VpaIfXFAKpw   \n",
       "\n",
       "                                  business_categories  \\\n",
       "10  ['Vegetarian', 'Restaurants', 'Burgers', 'Vega...   \n",
       "11  ['Nightlife', 'British', 'Bars', 'Sports Bars'...   \n",
       "12        ['Hawaiian', 'Asian Fusion', 'Restaurants']   \n",
       "13  ['Coffee & Tea', 'Sandwiches', 'Restaurants', ...   \n",
       "14                          ['French', 'Restaurants']   \n",
       "\n",
       "                     business_name business_state  review_score  \\\n",
       "10             Greens and Proteins             NV           5.0   \n",
       "11      Crown & Anchor British Pub             NV           1.0   \n",
       "12                Roy's Restaurant             NV           5.0   \n",
       "13  The Beat Coffeehouse & Records             NV           4.0   \n",
       "14            Technique Restaurant             NV           4.0   \n",
       "\n",
       "                   user_id  user_average_rating  business_review_count  \\\n",
       "10  ---1lKK3aKOuomHnwAkAow                 3.97                  600.0   \n",
       "11  ---1lKK3aKOuomHnwAkAow                 3.97                  366.0   \n",
       "12  ---1lKK3aKOuomHnwAkAow                 3.97                   97.0   \n",
       "13  ---1lKK3aKOuomHnwAkAow                 3.97                  329.0   \n",
       "14  ---1lKK3aKOuomHnwAkAow                 3.97                   30.0   \n",
       "\n",
       "    business_average_rating  business_latitude  user_review_count  \n",
       "10                      4.0          36.026232              245.0  \n",
       "11                      3.5          36.101467              245.0  \n",
       "12                      4.0          36.158503              245.0  \n",
       "13                      4.0          36.169108              245.0  \n",
       "14                      4.0          36.188111              245.0  "
      ]
     },
     "execution_count": 14,
     "metadata": {},
     "output_type": "execute_result"
    }
   ],
   "source": [
    "#df_resh = train_df.sample(frac=1)\n",
    "t1 = train_df[0:10]\n",
    "t2 = train_df[0:15]\n",
    "t2[~t2.isin(t1)].dropna()\n"
   ]
  },
  {
   "cell_type": "code",
   "execution_count": 25,
   "metadata": {
    "collapsed": true
   },
   "outputs": [],
   "source": [
    "def subsample(df,size):\n",
    "    ids = list(df.user_id.unique())\n",
    "    \n",
    "    df_reshuffle = df.sample(frac=1)\n",
    "    \n",
    "    random_indices = []\n",
    "    \n",
    "    for i in ids:\n",
    "        id_obs = df_reshuffle[df_reshuffle['user_id']==i]\n",
    "        random_indices.append(id_obs[:1].index.tolist())\n",
    "    \n",
    "    random_indices_flat = list(chain.from_iterable(random_indices))\n",
    "    \n",
    "    df_at_least_one = df.iloc[random_indices_flat]\n",
    "    \n",
    "    remaining_obs = df_reshuffle[~df_reshuffle.isin(df_at_least_one)].dropna()\n",
    "    \n",
    "    remaining_to_sample = size - len(ids)\n",
    "    \n",
    "    top_up = remaining_obs.sample(n=remaining_to_sample)\n",
    "    \n",
    "    final_df = df_at_least_one.append(top_up)\n",
    "    \n",
    "    return final_df\n",
    "    \n",
    "    "
   ]
  },
  {
   "cell_type": "code",
   "execution_count": 26,
   "metadata": {},
   "outputs": [],
   "source": [
    "testing1 = train_df[0:200]\n",
    "try_this = subsample(testing1,25)"
   ]
  },
  {
   "cell_type": "code",
   "execution_count": 28,
   "metadata": {},
   "outputs": [
    {
     "name": "stdout",
     "output_type": "stream",
     "text": [
      "15\n"
     ]
    },
    {
     "data": {
      "text/plain": [
       "15"
      ]
     },
     "execution_count": 28,
     "metadata": {},
     "output_type": "execute_result"
    }
   ],
   "source": [
    "print(len(testing1.user_id.unique()))\n",
    "len(try_this.user_id.unique())"
   ]
  },
  {
   "cell_type": "code",
   "execution_count": 54,
   "metadata": {},
   "outputs": [
    {
     "data": {
      "text/plain": [
       "163377"
      ]
     },
     "execution_count": 54,
     "metadata": {},
     "output_type": "execute_result"
    }
   ],
   "source": [
    "train_small = train_df[['user_id','business_id','review_score']]\n",
    "len(train_small.user_id.unique())"
   ]
  },
  {
   "cell_type": "code",
   "execution_count": null,
   "metadata": {},
   "outputs": [],
   "source": [
    "sub_samp = subsample(train_small,300000)"
   ]
  },
  {
   "cell_type": "code",
   "execution_count": 58,
   "metadata": {},
   "outputs": [
    {
     "data": {
      "text/plain": [
       "[[12]]"
      ]
     },
     "execution_count": 58,
     "metadata": {},
     "output_type": "execute_result"
    }
   ],
   "source": [
    "sub_samp"
   ]
  },
  {
   "cell_type": "code",
   "execution_count": null,
   "metadata": {},
   "outputs": [],
   "source": [
    "train_sample = train_df[0:500000]\n",
    "train_sample.shape"
   ]
  },
  {
   "cell_type": "code",
   "execution_count": null,
   "metadata": {},
   "outputs": [],
   "source": [
    "## Create user and business dummies in test and training set\n",
    "train_users = pd.get_dummies(train_sample, columns=['user_id'], drop_first=False)\n",
    "#test_dummies = "
   ]
  },
  {
   "cell_type": "code",
   "execution_count": 18,
   "metadata": {},
   "outputs": [
    {
     "data": {
      "text/plain": [
       "(10000, 1172)"
      ]
     },
     "execution_count": 18,
     "metadata": {},
     "output_type": "execute_result"
    }
   ],
   "source": [
    "train_users.shape"
   ]
  },
  {
   "cell_type": "raw",
   "metadata": {},
   "source": []
  },
  {
   "cell_type": "code",
   "execution_count": 4,
   "metadata": {},
   "outputs": [],
   "source": [
    "X_train_all = train_df[['user_average_rating', 'business_average_rating']].values\n"
   ]
  },
  {
   "cell_type": "code",
   "execution_count": 8,
   "metadata": {},
   "outputs": [
    {
     "data": {
      "text/plain": [
       "array([[ 3.97,  4.  ],\n",
       "       [ 3.97,  3.5 ],\n",
       "       [ 3.97,  2.5 ],\n",
       "       ..., \n",
       "       [ 3.86,  4.5 ],\n",
       "       [ 3.86,  3.  ],\n",
       "       [ 3.86,  3.  ]])"
      ]
     },
     "execution_count": 8,
     "metadata": {},
     "output_type": "execute_result"
    }
   ],
   "source": []
  },
  {
   "cell_type": "code",
   "execution_count": null,
   "metadata": {
    "collapsed": true
   },
   "outputs": [],
   "source": []
  },
  {
   "cell_type": "markdown",
   "metadata": {},
   "source": [
    "## Run regularization for each of the eight markets"
   ]
  },
  {
   "cell_type": "code",
   "execution_count": null,
   "metadata": {
    "collapsed": true
   },
   "outputs": [],
   "source": []
  },
  {
   "cell_type": "code",
   "execution_count": null,
   "metadata": {
    "collapsed": true
   },
   "outputs": [],
   "source": []
  }
 ],
 "metadata": {
  "celltoolbar": "Edit Metadata",
  "kernelspec": {
   "display_name": "Python 3",
   "language": "python",
   "name": "python3"
  },
  "language_info": {
   "codemirror_mode": {
    "name": "ipython",
    "version": 3
   },
   "file_extension": ".py",
   "mimetype": "text/x-python",
   "name": "python",
   "nbconvert_exporter": "python",
   "pygments_lexer": "ipython3",
   "version": "3.6.1"
  }
 },
 "nbformat": 4,
 "nbformat_minor": 2
}
