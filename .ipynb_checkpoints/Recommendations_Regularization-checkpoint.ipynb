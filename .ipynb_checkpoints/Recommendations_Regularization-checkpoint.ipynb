{
 "cells": [
  {
   "cell_type": "code",
   "execution_count": 1,
   "metadata": {
    "hide": true
   },
   "outputs": [
    {
     "name": "stderr",
     "output_type": "stream",
     "text": [
      "/anaconda/lib/python3.6/site-packages/statsmodels/compat/pandas.py:56: FutureWarning: The pandas.core.datetools module is deprecated and will be removed in a future version. Please use the pandas.tseries module instead.\n",
      "  from pandas.core import datetools\n"
     ]
    }
   ],
   "source": [
    "import numpy as np\n",
    "from itertools import chain\n",
    "import pandas as pd\n",
    "import matplotlib\n",
    "import matplotlib.pyplot as plt\n",
    "from sklearn.metrics import r2_score\n",
    "import statsmodels.api as sm\n",
    "from statsmodels.api import OLS\n",
    "from sklearn.linear_model import LinearRegression\n",
    "from sklearn.linear_model import RidgeCV\n",
    "from sklearn.linear_model import LassoCV\n",
    "%matplotlib inline"
   ]
  },
  {
   "cell_type": "markdown",
   "metadata": {},
   "source": [
    "# Regularized Regression"
   ]
  },
  {
   "cell_type": "markdown",
   "metadata": {},
   "source": [
    "Now that we have our baseline results, we would like to run the actual fit of the model leaving parameters $\\theta$ and $\\gamma$ to be fit. We can do so by reconstructing the baseline model to the following:\n",
    "\n",
    "$$ Y_{um} = \\mu + \\bar{\\theta} \\cdot I_u + \\bar{\\gamma} \\cdot I_m$$\n",
    "\n",
    "Where $\\bar{\\theta}$ is a vector of coefficients for users who have made ratings and $\\bar{\\gamma}$ is a coefficients for restaurants for which ratings have been made. We multiply these by indicator variables $I_u$ and $I_m$, respectively, for the u-th user and m-th restaurant to go in the feature matrix.  \n",
    "\n",
    "The best way to implement that would be to construct an $N$ by $U + M + 1$ matrix, where the $N$ is the number of reviews, $U$ is the total number of reviewers, and $M$ is the total number of restaurants (we include an additional column for the intercept). \n",
    "\n",
    "We will run this matrix through a multiple linear regression to compare results with baseline method (**we expect to get the same results as before**), but we will also run this matrix through Ridge and Lasso regularization. This should help, as the number of features included in this regression has expanded greatly."
   ]
  },
  {
   "cell_type": "markdown",
   "metadata": {},
   "source": [
    "## Run regularization on full universe of reviews"
   ]
  },
  {
   "cell_type": "code",
   "execution_count": 64,
   "metadata": {},
   "outputs": [
    {
     "name": "stdout",
     "output_type": "stream",
     "text": [
      "(4870, 13)\n",
      "(1231, 13)\n"
     ]
    }
   ],
   "source": [
    "## Load in test and train data for all markets\n",
    "train_df = pd.read_csv(\"Data/states/train/PA/train_150.csv\")\n",
    "test_df = pd.read_csv(\"Data/states/test/PA/test_150.csv\")\n",
    "print(train_df.shape)\n",
    "print(test_df.shape)"
   ]
  },
  {
   "cell_type": "code",
   "execution_count": 65,
   "metadata": {
    "collapsed": true
   },
   "outputs": [],
   "source": [
    "def subsample(df,size):\n",
    "    ids = list(df.user_id.unique())\n",
    "    \n",
    "    df_reshuffle = df.sample(frac=1, random_state = 120717)\n",
    "    \n",
    "    random_indices = []\n",
    "    \n",
    "    for i in ids:\n",
    "        id_obs = df_reshuffle[df_reshuffle['user_id']==i]\n",
    "        random_indices.append(id_obs[:1].index.tolist())\n",
    "    print(random_indices)\n",
    "    random_indices_flat = list(chain.from_iterable(random_indices))\n",
    "    \n",
    "    df_at_least_one = df.iloc[random_indices_flat]\n",
    "    \n",
    "    remaining_obs = df_reshuffle[~df_reshuffle.isin(df_at_least_one)].dropna()\n",
    "    \n",
    "    remaining_to_sample = size - len(ids)\n",
    "    \n",
    "    top_up = remaining_obs.sample(n=remaining_to_sample, random_state = 120717)\n",
    "    \n",
    "    final_df = df_at_least_one.append(top_up)\n",
    "    \n",
    "    return final_df\n",
    "    \n",
    "    "
   ]
  },
  {
   "cell_type": "code",
   "execution_count": 66,
   "metadata": {},
   "outputs": [],
   "source": [
    "# We should have more than this number of observations in any subsampled data set \n",
    "train_small = train_df[['user_id','business_id','review_score']]\n",
    "len(train_df.user_id.unique())\n",
    "test_small = test_df[['user_id','business_id','review_score']]"
   ]
  },
  {
   "cell_type": "code",
   "execution_count": 67,
   "metadata": {},
   "outputs": [],
   "source": [
    "# Block to check how many unique users and observations we would have total, taking several different thresholds\n",
    "#combined = train_df.append(test_df)\n",
    "#test = combined.groupby('user_id').count()\n",
    "#print(len(test[test['user_review_count']>100].business_id))\n",
    "#test[test['user_review_count']>100].business_id.sum()"
   ]
  },
  {
   "cell_type": "code",
   "execution_count": 68,
   "metadata": {},
   "outputs": [],
   "source": [
    "# This doesn't work\n",
    "#sub_samp = subsample(train_small,250000)"
   ]
  },
  {
   "cell_type": "code",
   "execution_count": 69,
   "metadata": {},
   "outputs": [],
   "source": [
    "## Create user and business dummies in test and training set\n",
    "train_dummies = pd.get_dummies(train_small, columns=['user_id','business_id'], drop_first=False)\n",
    "test_dummies = pd.get_dummies(test_small, columns=['user_id','business_id'], drop_first=False)"
   ]
  },
  {
   "cell_type": "code",
   "execution_count": 70,
   "metadata": {},
   "outputs": [
    {
     "data": {
      "text/html": [
       "<div>\n",
       "<style>\n",
       "    .dataframe thead tr:only-child th {\n",
       "        text-align: right;\n",
       "    }\n",
       "\n",
       "    .dataframe thead th {\n",
       "        text-align: left;\n",
       "    }\n",
       "\n",
       "    .dataframe tbody tr th {\n",
       "        vertical-align: top;\n",
       "    }\n",
       "</style>\n",
       "<table border=\"1\" class=\"dataframe\">\n",
       "  <thead>\n",
       "    <tr style=\"text-align: right;\">\n",
       "      <th></th>\n",
       "      <th>review_score</th>\n",
       "      <th>user_id_-Vu7L3U7-kxDyY1VHxw3zw</th>\n",
       "      <th>user_id_135DbbQnr3BEkQbBzZ9T1A</th>\n",
       "      <th>user_id_2jKzO_01d12oiu-2bOYcYg</th>\n",
       "      <th>user_id_4m9NXICYBC5i9t4aTt-I6w</th>\n",
       "      <th>user_id_4wp4XI9AxKNqJima-xahlg</th>\n",
       "      <th>user_id_5JVY32_bmTBfIGpCCsnAfw</th>\n",
       "      <th>user_id_6Ki3bAL0wx9ymbdJqbSWMA</th>\n",
       "      <th>user_id_7AGLlj5YzqdBfCPiZCa1mQ</th>\n",
       "      <th>user_id_8AwcaBJjiMpQ__FPxktwwQ</th>\n",
       "      <th>...</th>\n",
       "      <th>business_id_zaDZo74bWzds9MunE6XVxA</th>\n",
       "      <th>business_id_zdVDfA4S1EvkPUlfA7eJfg</th>\n",
       "      <th>business_id_zi6cB_bkswWPLD2k3IVtyg</th>\n",
       "      <th>business_id_ziJsGjXvidzZWC1I0-SOSg</th>\n",
       "      <th>business_id_zjOfUAyqyH_BPe7EkFBrEQ</th>\n",
       "      <th>business_id_zkW7OAv8Cnb-3SxEBOubTQ</th>\n",
       "      <th>business_id_zmoQ2eIDyeKlKVGA8p9esQ</th>\n",
       "      <th>business_id_zuUWG7OdMv6awFRYhEYT5Q</th>\n",
       "      <th>business_id_zxSfGIhK3hH3vVz_pS5eaA</th>\n",
       "      <th>business_id_zzwhN7x37nyjP0ZM8oiHmw</th>\n",
       "    </tr>\n",
       "  </thead>\n",
       "  <tbody>\n",
       "    <tr>\n",
       "      <th>0</th>\n",
       "      <td>3.0</td>\n",
       "      <td>1</td>\n",
       "      <td>0</td>\n",
       "      <td>0</td>\n",
       "      <td>0</td>\n",
       "      <td>0</td>\n",
       "      <td>0</td>\n",
       "      <td>0</td>\n",
       "      <td>0</td>\n",
       "      <td>0</td>\n",
       "      <td>...</td>\n",
       "      <td>0</td>\n",
       "      <td>0</td>\n",
       "      <td>0</td>\n",
       "      <td>0</td>\n",
       "      <td>0</td>\n",
       "      <td>0</td>\n",
       "      <td>0</td>\n",
       "      <td>0</td>\n",
       "      <td>0</td>\n",
       "      <td>0</td>\n",
       "    </tr>\n",
       "    <tr>\n",
       "      <th>1</th>\n",
       "      <td>1.0</td>\n",
       "      <td>1</td>\n",
       "      <td>0</td>\n",
       "      <td>0</td>\n",
       "      <td>0</td>\n",
       "      <td>0</td>\n",
       "      <td>0</td>\n",
       "      <td>0</td>\n",
       "      <td>0</td>\n",
       "      <td>0</td>\n",
       "      <td>...</td>\n",
       "      <td>0</td>\n",
       "      <td>0</td>\n",
       "      <td>0</td>\n",
       "      <td>0</td>\n",
       "      <td>0</td>\n",
       "      <td>0</td>\n",
       "      <td>0</td>\n",
       "      <td>0</td>\n",
       "      <td>0</td>\n",
       "      <td>0</td>\n",
       "    </tr>\n",
       "    <tr>\n",
       "      <th>2</th>\n",
       "      <td>2.0</td>\n",
       "      <td>1</td>\n",
       "      <td>0</td>\n",
       "      <td>0</td>\n",
       "      <td>0</td>\n",
       "      <td>0</td>\n",
       "      <td>0</td>\n",
       "      <td>0</td>\n",
       "      <td>0</td>\n",
       "      <td>0</td>\n",
       "      <td>...</td>\n",
       "      <td>0</td>\n",
       "      <td>0</td>\n",
       "      <td>0</td>\n",
       "      <td>0</td>\n",
       "      <td>0</td>\n",
       "      <td>0</td>\n",
       "      <td>0</td>\n",
       "      <td>0</td>\n",
       "      <td>0</td>\n",
       "      <td>0</td>\n",
       "    </tr>\n",
       "    <tr>\n",
       "      <th>3</th>\n",
       "      <td>2.0</td>\n",
       "      <td>1</td>\n",
       "      <td>0</td>\n",
       "      <td>0</td>\n",
       "      <td>0</td>\n",
       "      <td>0</td>\n",
       "      <td>0</td>\n",
       "      <td>0</td>\n",
       "      <td>0</td>\n",
       "      <td>0</td>\n",
       "      <td>...</td>\n",
       "      <td>0</td>\n",
       "      <td>0</td>\n",
       "      <td>0</td>\n",
       "      <td>0</td>\n",
       "      <td>0</td>\n",
       "      <td>0</td>\n",
       "      <td>0</td>\n",
       "      <td>0</td>\n",
       "      <td>0</td>\n",
       "      <td>0</td>\n",
       "    </tr>\n",
       "    <tr>\n",
       "      <th>4</th>\n",
       "      <td>2.0</td>\n",
       "      <td>1</td>\n",
       "      <td>0</td>\n",
       "      <td>0</td>\n",
       "      <td>0</td>\n",
       "      <td>0</td>\n",
       "      <td>0</td>\n",
       "      <td>0</td>\n",
       "      <td>0</td>\n",
       "      <td>0</td>\n",
       "      <td>...</td>\n",
       "      <td>0</td>\n",
       "      <td>0</td>\n",
       "      <td>0</td>\n",
       "      <td>0</td>\n",
       "      <td>0</td>\n",
       "      <td>0</td>\n",
       "      <td>0</td>\n",
       "      <td>0</td>\n",
       "      <td>0</td>\n",
       "      <td>0</td>\n",
       "    </tr>\n",
       "  </tbody>\n",
       "</table>\n",
       "<p>5 rows × 1782 columns</p>\n",
       "</div>"
      ],
      "text/plain": [
       "   review_score  user_id_-Vu7L3U7-kxDyY1VHxw3zw  \\\n",
       "0           3.0                               1   \n",
       "1           1.0                               1   \n",
       "2           2.0                               1   \n",
       "3           2.0                               1   \n",
       "4           2.0                               1   \n",
       "\n",
       "   user_id_135DbbQnr3BEkQbBzZ9T1A  user_id_2jKzO_01d12oiu-2bOYcYg  \\\n",
       "0                               0                               0   \n",
       "1                               0                               0   \n",
       "2                               0                               0   \n",
       "3                               0                               0   \n",
       "4                               0                               0   \n",
       "\n",
       "   user_id_4m9NXICYBC5i9t4aTt-I6w  user_id_4wp4XI9AxKNqJima-xahlg  \\\n",
       "0                               0                               0   \n",
       "1                               0                               0   \n",
       "2                               0                               0   \n",
       "3                               0                               0   \n",
       "4                               0                               0   \n",
       "\n",
       "   user_id_5JVY32_bmTBfIGpCCsnAfw  user_id_6Ki3bAL0wx9ymbdJqbSWMA  \\\n",
       "0                               0                               0   \n",
       "1                               0                               0   \n",
       "2                               0                               0   \n",
       "3                               0                               0   \n",
       "4                               0                               0   \n",
       "\n",
       "   user_id_7AGLlj5YzqdBfCPiZCa1mQ  user_id_8AwcaBJjiMpQ__FPxktwwQ  \\\n",
       "0                               0                               0   \n",
       "1                               0                               0   \n",
       "2                               0                               0   \n",
       "3                               0                               0   \n",
       "4                               0                               0   \n",
       "\n",
       "                  ...                  business_id_zaDZo74bWzds9MunE6XVxA  \\\n",
       "0                 ...                                                   0   \n",
       "1                 ...                                                   0   \n",
       "2                 ...                                                   0   \n",
       "3                 ...                                                   0   \n",
       "4                 ...                                                   0   \n",
       "\n",
       "   business_id_zdVDfA4S1EvkPUlfA7eJfg  business_id_zi6cB_bkswWPLD2k3IVtyg  \\\n",
       "0                                   0                                   0   \n",
       "1                                   0                                   0   \n",
       "2                                   0                                   0   \n",
       "3                                   0                                   0   \n",
       "4                                   0                                   0   \n",
       "\n",
       "   business_id_ziJsGjXvidzZWC1I0-SOSg  business_id_zjOfUAyqyH_BPe7EkFBrEQ  \\\n",
       "0                                   0                                   0   \n",
       "1                                   0                                   0   \n",
       "2                                   0                                   0   \n",
       "3                                   0                                   0   \n",
       "4                                   0                                   0   \n",
       "\n",
       "   business_id_zkW7OAv8Cnb-3SxEBOubTQ  business_id_zmoQ2eIDyeKlKVGA8p9esQ  \\\n",
       "0                                   0                                   0   \n",
       "1                                   0                                   0   \n",
       "2                                   0                                   0   \n",
       "3                                   0                                   0   \n",
       "4                                   0                                   0   \n",
       "\n",
       "   business_id_zuUWG7OdMv6awFRYhEYT5Q  business_id_zxSfGIhK3hH3vVz_pS5eaA  \\\n",
       "0                                   0                                   0   \n",
       "1                                   0                                   0   \n",
       "2                                   0                                   0   \n",
       "3                                   0                                   0   \n",
       "4                                   0                                   0   \n",
       "\n",
       "   business_id_zzwhN7x37nyjP0ZM8oiHmw  \n",
       "0                                   0  \n",
       "1                                   0  \n",
       "2                                   0  \n",
       "3                                   0  \n",
       "4                                   0  \n",
       "\n",
       "[5 rows x 1782 columns]"
      ]
     },
     "execution_count": 70,
     "metadata": {},
     "output_type": "execute_result"
    }
   ],
   "source": [
    "train_dummies.head()"
   ]
  },
  {
   "cell_type": "code",
   "execution_count": 71,
   "metadata": {},
   "outputs": [
    {
     "name": "stdout",
     "output_type": "stream",
     "text": [
      "(4870, 1974)\n",
      "(1231, 1974)\n"
     ]
    }
   ],
   "source": [
    "train_cols = pd.DataFrame(columns = train_dummies.columns)\n",
    "test_cols = pd.DataFrame(columns = test_dummies.columns)\n",
    "all_cols = train_cols.append(test_cols)\n",
    "all_cols\n",
    "\n",
    "train = all_cols.append(train_dummies)\n",
    "train = train.fillna(0.)\n",
    "test = all_cols.append(test_dummies)\n",
    "test = test.fillna(0.)\n",
    "print(train.shape)\n",
    "print(test.shape)"
   ]
  },
  {
   "cell_type": "code",
   "execution_count": 72,
   "metadata": {},
   "outputs": [],
   "source": [
    "X_train_all = train.drop('review_score', axis=1)\n",
    "y_train_all = train['review_score']\n",
    "\n",
    "X_test_all = test.drop('review_score', axis=1)\n",
    "y_test_all = test['review_score']"
   ]
  },
  {
   "cell_type": "code",
   "execution_count": 73,
   "metadata": {},
   "outputs": [
    {
     "name": "stdout",
     "output_type": "stream",
     "text": [
      "(1231, 1973)\n",
      "(1231,)\n"
     ]
    }
   ],
   "source": [
    "print(X_test_all.shape)\n",
    "print(y_test_all.shape)"
   ]
  },
  {
   "cell_type": "code",
   "execution_count": 74,
   "metadata": {},
   "outputs": [
    {
     "name": "stdout",
     "output_type": "stream",
     "text": [
      "Baseline Intercept: 3.7310321558e+12\n",
      "Baseline Coefficients: [ -4.64286729e+10  -4.64286729e+10  -4.64286729e+10 ...,  -3.68460348e+12\n",
      "  -3.68460348e+12  -3.68460348e+12]\n",
      "Baseline Train Score: 0.546363450256\n",
      "Baseline Test Score: -3.0876366392e+26\n"
     ]
    }
   ],
   "source": [
    "baseline_all = LinearRegression(fit_intercept=True)\n",
    "baseline_all.fit(X_train_all, y_train_all)\n",
    "\n",
    "print('Baseline Intercept:', baseline_all.intercept_)\n",
    "print('Baseline Coefficients:', baseline_all.coef_)\n",
    "print('Baseline Train Score:', baseline_all.score(X_train_all, y_train_all))\n",
    "print('Baseline Test Score:', baseline_all.score(X_test_all, y_test_all))"
   ]
  },
  {
   "cell_type": "code",
   "execution_count": 75,
   "metadata": {},
   "outputs": [
    {
     "name": "stdout",
     "output_type": "stream",
     "text": [
      "----\n",
      "Ridge Train Score 0.321330051605\n",
      "Ridge Test Score 0.108080876198\n",
      "----\n",
      "Lasso Train Score 0.0977368611093\n",
      "Lasso Test Score 0.0649921333855\n"
     ]
    }
   ],
   "source": [
    "# Implement RidgeCV and LassoCV\n",
    "lambdas = [.001,.005,1,5,10,50,100,500,1000]\n",
    "\n",
    "clf = RidgeCV(alphas=lambdas, fit_intercept=False, normalize=True)\n",
    "clf.fit(X_train_all, y_train_all)\n",
    "si= np.argsort(np.abs(clf.coef_))\n",
    "\n",
    "print(\"----\")\n",
    "#print(clf.coef_, data_train.columns)\n",
    "print('Ridge Train Score', clf.score(X_train_all, y_train_all))\n",
    "print('Ridge Test Score', clf.score(X_test_all, y_test_all))\n",
    "#print('')\n",
    "#for i,x in enumerate(clf.coef_[si]):\n",
    "#    print(data_train.columns[si[i]], x)\n",
    "#    if abs(x)<.01:\n",
    "#        print(i,x, X_train.columns[i])\n",
    "        \n",
    "clfl = LassoCV(cv=10, alphas=lambdas, fit_intercept=False, normalize=False)\n",
    "#preprocessing.StandardScaler()\n",
    "clfl.fit(X_train_all, y_train_all)\n",
    "\n",
    "print(\"----\")\n",
    "#print(clf.coef_)\n",
    "print('Lasso Train Score', clfl.score(X_train_all, y_train_all))\n",
    "print('Lasso Test Score', clfl.score(X_test_all, y_test_all))\n",
    "#print('')\n",
    "#si= np.argsort(np.abs(clfl.coef_))\n",
    "#for i,x in enumerate(clfl.coef_[si]):\n",
    "#    print(data_train.columns[si][i], x)\n",
    "    #if abs(x)<.01:\n",
    "        #print(i,x, X_train.columns[i])"
   ]
  },
  {
   "cell_type": "markdown",
   "metadata": {},
   "source": [
    "## Run regularization for each of the eight markets"
   ]
  },
  {
   "cell_type": "code",
   "execution_count": null,
   "metadata": {
    "collapsed": true
   },
   "outputs": [],
   "source": []
  },
  {
   "cell_type": "code",
   "execution_count": null,
   "metadata": {
    "collapsed": true
   },
   "outputs": [],
   "source": []
  }
 ],
 "metadata": {
  "celltoolbar": "Edit Metadata",
  "kernelspec": {
   "display_name": "Python 3",
   "language": "python",
   "name": "python3"
  },
  "language_info": {
   "codemirror_mode": {
    "name": "ipython",
    "version": 3
   },
   "file_extension": ".py",
   "mimetype": "text/x-python",
   "name": "python",
   "nbconvert_exporter": "python",
   "pygments_lexer": "ipython3",
   "version": "3.6.1"
  }
 },
 "nbformat": 4,
 "nbformat_minor": 2
}
