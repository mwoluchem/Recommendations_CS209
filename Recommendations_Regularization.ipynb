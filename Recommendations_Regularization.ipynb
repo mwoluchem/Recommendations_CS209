{
 "cells": [
  {
   "cell_type": "code",
   "execution_count": 14,
   "metadata": {
    "hide": true
   },
   "outputs": [],
   "source": [
    "import warnings\n",
    "warnings.filterwarnings('ignore')"
   ]
  },
  {
   "cell_type": "code",
   "execution_count": 15,
   "metadata": {
    "collapsed": true,
    "hide": true
   },
   "outputs": [],
   "source": [
    "import numpy as np\n",
    "from itertools import chain\n",
    "import pandas as pd\n",
    "import matplotlib\n",
    "import matplotlib.pyplot as plt\n",
    "from sklearn.metrics import r2_score\n",
    "from sklearn.metrics import mean_squared_error\n",
    "from math import sqrt\n",
    "import statsmodels.api as sm\n",
    "from statsmodels.api import OLS\n",
    "from sklearn.linear_model import LinearRegression\n",
    "from sklearn.linear_model import RidgeCV\n",
    "from sklearn.linear_model import LassoCV\n",
    "from sklearn.model_selection import GridSearchCV\n",
    "from collections import OrderedDict\n",
    "%matplotlib inline"
   ]
  },
  {
   "cell_type": "markdown",
   "metadata": {},
   "source": [
    "# Regularized Regression"
   ]
  },
  {
   "cell_type": "markdown",
   "metadata": {},
   "source": [
    "Now that we have our baseline results, we would like to run the actual fit of the model leaving parameters $\\theta$ and $\\gamma$ to be fit. We can do so by reconstructing the baseline model to the following:\n",
    "\n",
    "$$ Y_{um} = \\mu + \\bar{\\theta} \\cdot I_u + \\bar{\\gamma} \\cdot I_m$$\n",
    "\n",
    "Where $\\bar{\\theta}$ is a vector of coefficients for users who have made ratings and $\\bar{\\gamma}$ is a coefficients for restaurants for which ratings have been made. We multiply these by indicator variables $I_u$ and $I_m$, respectively, for the u-th user and m-th restaurant to go in the feature matrix.  \n",
    "\n",
    "The way we implement this is by constructing an $N$ by $U + M + 1$ matrix, where the $N$ is the number of reviews, $U$ is the total number of reviewers, and $M$ is the total number of restaurants (we include an additional column for the intercept). \n",
    "\n",
    "We will run this matrix through a multiple linear regression to compare results with baseline method, but we will also run this matrix through Ridge and Lasso regularization, using both $R^2$, but also $RMSE$, as the data contains a lot of noise that will likely be overrepresented by using $R^2$. This should help compared to the linear regression run using this matrix process, as the number of features included in this regression has expanded greatly."
   ]
  },
  {
   "cell_type": "markdown",
   "metadata": {},
   "source": [
    "## Run regularization on full universe of reviews"
   ]
  },
  {
   "cell_type": "code",
   "execution_count": 16,
   "metadata": {},
   "outputs": [
    {
     "name": "stdout",
     "output_type": "stream",
     "text": [
      "(3925, 13)\n",
      "(942, 13)\n"
     ]
    }
   ],
   "source": [
    "## Load in test and train data for all markets\n",
    "train_df = pd.read_csv(\"Data/states/train/OH/train_150.csv\")\n",
    "test_df = pd.read_csv(\"Data/states/test/OH/test_150.csv\")\n",
    "print(train_df.shape)\n",
    "print(test_df.shape)"
   ]
  },
  {
   "cell_type": "code",
   "execution_count": 17,
   "metadata": {
    "collapsed": true
   },
   "outputs": [],
   "source": [
    "# We should have more than this number of observations in any subsampled data set \n",
    "train_small = train_df[['user_id','business_id','review_score']]\n",
    "len(train_df.user_id.unique())\n",
    "test_small = test_df[['user_id','business_id','review_score']]"
   ]
  },
  {
   "cell_type": "code",
   "execution_count": 18,
   "metadata": {
    "collapsed": true
   },
   "outputs": [],
   "source": [
    "## Create user and business dummies in test and training set\n",
    "train_dummies = pd.get_dummies(train_small, columns=['user_id','business_id'], drop_first=False)\n",
    "test_dummies = pd.get_dummies(test_small, columns=['user_id','business_id'], drop_first=False)"
   ]
  },
  {
   "cell_type": "code",
   "execution_count": 19,
   "metadata": {},
   "outputs": [
    {
     "data": {
      "text/html": [
       "<div>\n",
       "<style>\n",
       "    .dataframe thead tr:only-child th {\n",
       "        text-align: right;\n",
       "    }\n",
       "\n",
       "    .dataframe thead th {\n",
       "        text-align: left;\n",
       "    }\n",
       "\n",
       "    .dataframe tbody tr th {\n",
       "        vertical-align: top;\n",
       "    }\n",
       "</style>\n",
       "<table border=\"1\" class=\"dataframe\">\n",
       "  <thead>\n",
       "    <tr style=\"text-align: right;\">\n",
       "      <th></th>\n",
       "      <th>review_score</th>\n",
       "      <th>user_id_3Uv0dGI2IXJb2OUj8R2GJA</th>\n",
       "      <th>user_id_5QFws6LKMCZCgKHl8WR1jQ</th>\n",
       "      <th>user_id_CcOgdfEJxgrxTAwag5k18Q</th>\n",
       "      <th>user_id_H_-K6erSJYtzg3ZEvOg3EQ</th>\n",
       "      <th>user_id_NfU0zDaTMEQ4-X9dbQWd9A</th>\n",
       "      <th>user_id_PrwnAL82LL4Ewt_wJpHWCA</th>\n",
       "      <th>user_id_QaN-nccbLZPWzownQYgTVQ</th>\n",
       "      <th>user_id_RlpkcJqctkKXl-LO1IAtig</th>\n",
       "      <th>user_id_RylA6VZUTRuMGBu4nHKbCw</th>\n",
       "      <th>...</th>\n",
       "      <th>business_id_zW2Nzu38bB5nlOhhim-O5A</th>\n",
       "      <th>business_id_zYbEKtLeosxhTzF4zSRIyA</th>\n",
       "      <th>business_id_zc0sUY7iWuJB93AHWKy_xw</th>\n",
       "      <th>business_id_zhBkNLn2KPnh5-NIueXVHA</th>\n",
       "      <th>business_id_zl3Y1_DprpVzY3Izad4M-Q</th>\n",
       "      <th>business_id_zlZQM-cJPVW7FHJsYTvyYg</th>\n",
       "      <th>business_id_zluk4cL7Ch-uRlRply42ZQ</th>\n",
       "      <th>business_id_zm3w7U26kDxREFDSLJRBgQ</th>\n",
       "      <th>business_id_zo9fKM_Sty6qGztXKoMPmQ</th>\n",
       "      <th>business_id_zzSYBWuv_fXGtSgsO-6_1g</th>\n",
       "    </tr>\n",
       "  </thead>\n",
       "  <tbody>\n",
       "    <tr>\n",
       "      <th>0</th>\n",
       "      <td>3.0</td>\n",
       "      <td>1</td>\n",
       "      <td>0</td>\n",
       "      <td>0</td>\n",
       "      <td>0</td>\n",
       "      <td>0</td>\n",
       "      <td>0</td>\n",
       "      <td>0</td>\n",
       "      <td>0</td>\n",
       "      <td>0</td>\n",
       "      <td>...</td>\n",
       "      <td>0</td>\n",
       "      <td>0</td>\n",
       "      <td>0</td>\n",
       "      <td>0</td>\n",
       "      <td>0</td>\n",
       "      <td>0</td>\n",
       "      <td>0</td>\n",
       "      <td>0</td>\n",
       "      <td>0</td>\n",
       "      <td>0</td>\n",
       "    </tr>\n",
       "    <tr>\n",
       "      <th>1</th>\n",
       "      <td>2.0</td>\n",
       "      <td>1</td>\n",
       "      <td>0</td>\n",
       "      <td>0</td>\n",
       "      <td>0</td>\n",
       "      <td>0</td>\n",
       "      <td>0</td>\n",
       "      <td>0</td>\n",
       "      <td>0</td>\n",
       "      <td>0</td>\n",
       "      <td>...</td>\n",
       "      <td>0</td>\n",
       "      <td>0</td>\n",
       "      <td>0</td>\n",
       "      <td>0</td>\n",
       "      <td>0</td>\n",
       "      <td>0</td>\n",
       "      <td>0</td>\n",
       "      <td>0</td>\n",
       "      <td>0</td>\n",
       "      <td>0</td>\n",
       "    </tr>\n",
       "    <tr>\n",
       "      <th>2</th>\n",
       "      <td>4.0</td>\n",
       "      <td>1</td>\n",
       "      <td>0</td>\n",
       "      <td>0</td>\n",
       "      <td>0</td>\n",
       "      <td>0</td>\n",
       "      <td>0</td>\n",
       "      <td>0</td>\n",
       "      <td>0</td>\n",
       "      <td>0</td>\n",
       "      <td>...</td>\n",
       "      <td>0</td>\n",
       "      <td>0</td>\n",
       "      <td>0</td>\n",
       "      <td>0</td>\n",
       "      <td>0</td>\n",
       "      <td>0</td>\n",
       "      <td>0</td>\n",
       "      <td>0</td>\n",
       "      <td>0</td>\n",
       "      <td>0</td>\n",
       "    </tr>\n",
       "    <tr>\n",
       "      <th>3</th>\n",
       "      <td>4.0</td>\n",
       "      <td>1</td>\n",
       "      <td>0</td>\n",
       "      <td>0</td>\n",
       "      <td>0</td>\n",
       "      <td>0</td>\n",
       "      <td>0</td>\n",
       "      <td>0</td>\n",
       "      <td>0</td>\n",
       "      <td>0</td>\n",
       "      <td>...</td>\n",
       "      <td>0</td>\n",
       "      <td>0</td>\n",
       "      <td>0</td>\n",
       "      <td>0</td>\n",
       "      <td>0</td>\n",
       "      <td>0</td>\n",
       "      <td>0</td>\n",
       "      <td>0</td>\n",
       "      <td>0</td>\n",
       "      <td>0</td>\n",
       "    </tr>\n",
       "    <tr>\n",
       "      <th>4</th>\n",
       "      <td>3.0</td>\n",
       "      <td>1</td>\n",
       "      <td>0</td>\n",
       "      <td>0</td>\n",
       "      <td>0</td>\n",
       "      <td>0</td>\n",
       "      <td>0</td>\n",
       "      <td>0</td>\n",
       "      <td>0</td>\n",
       "      <td>0</td>\n",
       "      <td>...</td>\n",
       "      <td>0</td>\n",
       "      <td>0</td>\n",
       "      <td>0</td>\n",
       "      <td>0</td>\n",
       "      <td>0</td>\n",
       "      <td>0</td>\n",
       "      <td>0</td>\n",
       "      <td>0</td>\n",
       "      <td>0</td>\n",
       "      <td>0</td>\n",
       "    </tr>\n",
       "  </tbody>\n",
       "</table>\n",
       "<p>5 rows × 1739 columns</p>\n",
       "</div>"
      ],
      "text/plain": [
       "   review_score  user_id_3Uv0dGI2IXJb2OUj8R2GJA  \\\n",
       "0           3.0                               1   \n",
       "1           2.0                               1   \n",
       "2           4.0                               1   \n",
       "3           4.0                               1   \n",
       "4           3.0                               1   \n",
       "\n",
       "   user_id_5QFws6LKMCZCgKHl8WR1jQ  user_id_CcOgdfEJxgrxTAwag5k18Q  \\\n",
       "0                               0                               0   \n",
       "1                               0                               0   \n",
       "2                               0                               0   \n",
       "3                               0                               0   \n",
       "4                               0                               0   \n",
       "\n",
       "   user_id_H_-K6erSJYtzg3ZEvOg3EQ  user_id_NfU0zDaTMEQ4-X9dbQWd9A  \\\n",
       "0                               0                               0   \n",
       "1                               0                               0   \n",
       "2                               0                               0   \n",
       "3                               0                               0   \n",
       "4                               0                               0   \n",
       "\n",
       "   user_id_PrwnAL82LL4Ewt_wJpHWCA  user_id_QaN-nccbLZPWzownQYgTVQ  \\\n",
       "0                               0                               0   \n",
       "1                               0                               0   \n",
       "2                               0                               0   \n",
       "3                               0                               0   \n",
       "4                               0                               0   \n",
       "\n",
       "   user_id_RlpkcJqctkKXl-LO1IAtig  user_id_RylA6VZUTRuMGBu4nHKbCw  \\\n",
       "0                               0                               0   \n",
       "1                               0                               0   \n",
       "2                               0                               0   \n",
       "3                               0                               0   \n",
       "4                               0                               0   \n",
       "\n",
       "                  ...                  business_id_zW2Nzu38bB5nlOhhim-O5A  \\\n",
       "0                 ...                                                   0   \n",
       "1                 ...                                                   0   \n",
       "2                 ...                                                   0   \n",
       "3                 ...                                                   0   \n",
       "4                 ...                                                   0   \n",
       "\n",
       "   business_id_zYbEKtLeosxhTzF4zSRIyA  business_id_zc0sUY7iWuJB93AHWKy_xw  \\\n",
       "0                                   0                                   0   \n",
       "1                                   0                                   0   \n",
       "2                                   0                                   0   \n",
       "3                                   0                                   0   \n",
       "4                                   0                                   0   \n",
       "\n",
       "   business_id_zhBkNLn2KPnh5-NIueXVHA  business_id_zl3Y1_DprpVzY3Izad4M-Q  \\\n",
       "0                                   0                                   0   \n",
       "1                                   0                                   0   \n",
       "2                                   0                                   0   \n",
       "3                                   0                                   0   \n",
       "4                                   0                                   0   \n",
       "\n",
       "   business_id_zlZQM-cJPVW7FHJsYTvyYg  business_id_zluk4cL7Ch-uRlRply42ZQ  \\\n",
       "0                                   0                                   0   \n",
       "1                                   0                                   0   \n",
       "2                                   0                                   0   \n",
       "3                                   0                                   0   \n",
       "4                                   0                                   0   \n",
       "\n",
       "   business_id_zm3w7U26kDxREFDSLJRBgQ  business_id_zo9fKM_Sty6qGztXKoMPmQ  \\\n",
       "0                                   0                                   0   \n",
       "1                                   0                                   0   \n",
       "2                                   0                                   0   \n",
       "3                                   0                                   0   \n",
       "4                                   0                                   0   \n",
       "\n",
       "   business_id_zzSYBWuv_fXGtSgsO-6_1g  \n",
       "0                                   0  \n",
       "1                                   0  \n",
       "2                                   0  \n",
       "3                                   0  \n",
       "4                                   0  \n",
       "\n",
       "[5 rows x 1739 columns]"
      ]
     },
     "execution_count": 19,
     "metadata": {},
     "output_type": "execute_result"
    }
   ],
   "source": [
    "train_dummies.head()"
   ]
  },
  {
   "cell_type": "code",
   "execution_count": 20,
   "metadata": {},
   "outputs": [
    {
     "name": "stdout",
     "output_type": "stream",
     "text": [
      "(3925, 1938)\n",
      "(942, 1938)\n"
     ]
    }
   ],
   "source": [
    "## Create matrices with all users and all businesses in them, fill NaNs with 0s\n",
    "train_cols = pd.DataFrame(columns = train_dummies.columns)\n",
    "test_cols = pd.DataFrame(columns = test_dummies.columns)\n",
    "all_cols = train_cols.append(test_cols)\n",
    "all_cols\n",
    "\n",
    "train = all_cols.append(train_dummies)\n",
    "train = train.fillna(0.)\n",
    "test = all_cols.append(test_dummies)\n",
    "test = test.fillna(0.)\n",
    "print(train.shape)\n",
    "print(test.shape)"
   ]
  },
  {
   "cell_type": "code",
   "execution_count": 21,
   "metadata": {
    "collapsed": true
   },
   "outputs": [],
   "source": [
    "## Create train and test matrices for linear, Ridge, and Lasso regressions\n",
    "X_train_all = train.drop('review_score', axis=1)\n",
    "y_train_all = train['review_score']\n",
    "\n",
    "X_test_all = test.drop('review_score', axis=1)\n",
    "y_test_all = test['review_score']"
   ]
  },
  {
   "cell_type": "code",
   "execution_count": 22,
   "metadata": {},
   "outputs": [
    {
     "name": "stdout",
     "output_type": "stream",
     "text": [
      "Linear Regression Train Score: 0.568596188694\n",
      "Linear Regression Score: -7.99233209172e+26\n",
      "Linear Regression Train RMSE: 0.6304631614809212\n",
      "Linear Regression Test RMSE: 27961194912001.582\n"
     ]
    }
   ],
   "source": [
    "## Run matrices through linear regression\n",
    "baseline_all = LinearRegression(fit_intercept=True)\n",
    "baseline_all.fit(X_train_all, y_train_all)\n",
    "\n",
    "print('Linear Regression Train Score:', baseline_all.score(X_train_all, y_train_all))\n",
    "print('Linear Regression Score:', baseline_all.score(X_test_all, y_test_all))\n",
    "print('Linear Regression Train RMSE:', sqrt(mean_squared_error(y_train_all, baseline_all.predict(X_train_all))))\n",
    "print('Linear Regression Test RMSE:',sqrt(mean_squared_error(y_test_all, baseline_all.predict(X_test_all))))"
   ]
  },
  {
   "cell_type": "markdown",
   "metadata": {},
   "source": [
    "We see here that, because of all of the added factors for all users and all restaurants, this model is significantly overfitting to the training set. Our next set is regularization to correct for this overfitting."
   ]
  },
  {
   "cell_type": "code",
   "execution_count": 23,
   "metadata": {},
   "outputs": [
    {
     "name": "stdout",
     "output_type": "stream",
     "text": [
      "----\n",
      "Ridge Train Score 0.316232352454\n",
      "Ridge Test Score 0.0995977594321\n",
      "Ridge Train RMSE: 0.7937285478990413\n",
      "Ridge Test RMSE: 0.9385064244062807\n",
      "----\n",
      "Lasso Train Score 0.104427996576\n",
      "Lasso Test Score 0.0524151551981\n",
      "Lasso Train RMSE: 0.9083808726779814\n",
      "Lasso Test RMSE: 0.9627821269653825\n"
     ]
    }
   ],
   "source": [
    "# Implement RidgeCV and LassoCV\n",
    "lambdas = [.001,.005,1,5,10,50,100,500,1000]\n",
    "\n",
    "clf = RidgeCV(cv = 5, alphas=lambdas, fit_intercept=True)\n",
    "clf.fit(X_train_all, y_train_all)\n",
    "\n",
    "print(\"----\")\n",
    "print('Ridge Train Score', clf.score(X_train_all, y_train_all))\n",
    "print('Ridge Test Score', clf.score(X_test_all, y_test_all))\n",
    "print('Ridge Train RMSE:', sqrt(mean_squared_error(y_train_all, clf.predict(X_train_all))))\n",
    "print('Ridge Test RMSE:', sqrt(mean_squared_error(y_test_all, clf.predict(X_test_all))))\n",
    "\n",
    "clfl = LassoCV(cv = 5, alphas=lambdas, fit_intercept=True)\n",
    "clfl.fit(X_train_all, y_train_all)\n",
    "\n",
    "print(\"----\")\n",
    "print('Lasso Train Score', clfl.score(X_train_all, y_train_all))\n",
    "print('Lasso Test Score', clfl.score(X_test_all, y_test_all))\n",
    "print('Lasso Train RMSE:', sqrt(mean_squared_error(y_train_all, clfl.predict(X_train_all))))\n",
    "print('Lasso Test RMSE:', sqrt(mean_squared_error(y_test_all, clfl.predict(X_test_all))))"
   ]
  },
  {
   "cell_type": "markdown",
   "metadata": {},
   "source": [
    "As we see, Ridge does much better than Lasso. This is because we do not want to zero out features, as is done in Lasso, we simply want to penalize the magnitudes of each coefficient. This method still turns out not to do quite as well as the baseline model from the previous section, but the RMSE between that model and Ridge are comparable."
   ]
  }
 ],
 "metadata": {
  "celltoolbar": "Edit Metadata",
  "kernelspec": {
   "display_name": "Python 3",
   "language": "python",
   "name": "python3"
  },
  "language_info": {
   "codemirror_mode": {
    "name": "ipython",
    "version": 3
   },
   "file_extension": ".py",
   "mimetype": "text/x-python",
   "name": "python",
   "nbconvert_exporter": "python",
   "pygments_lexer": "ipython3",
   "version": "3.6.1"
  }
 },
 "nbformat": 4,
 "nbformat_minor": 2
}
