{
 "cells": [
  {
   "cell_type": "markdown",
   "metadata": {},
   "source": [
    "# EDA Notes\n",
    "\n",
    "A first attempt at EDA for the CS109 final project. "
   ]
  },
  {
   "cell_type": "code",
   "execution_count": 4,
   "metadata": {
    "collapsed": true
   },
   "outputs": [],
   "source": [
    "import numpy as np\n",
    "import pandas as pd\n",
    "import matplotlib\n",
    "import matplotlib.pyplot as plt\n",
    "import sklearn.metrics as metrics\n",
    "from sklearn.model_selection import cross_val_score\n",
    "from sklearn import tree\n",
    "from sklearn.tree import DecisionTreeClassifier\n",
    "from sklearn.ensemble import RandomForestClassifier\n",
    "from sklearn.ensemble import AdaBoostClassifier\n",
    "from sklearn.linear_model import LogisticRegressionCV\n",
    "import seaborn as sns\n",
    "%matplotlib inline\n",
    "import json"
   ]
  },
  {
   "cell_type": "markdown",
   "metadata": {},
   "source": [
    "**Read In Data**"
   ]
  },
  {
   "cell_type": "code",
   "execution_count": 5,
   "metadata": {},
   "outputs": [
    {
     "name": "stderr",
     "output_type": "stream",
     "text": [
      "/anaconda/lib/python3.6/site-packages/IPython/core/interactiveshell.py:2717: DtypeWarning: Columns (1,10,12,14,20,63,64,74) have mixed types. Specify dtype option on import or set low_memory=False.\n",
      "  interactivity=interactivity, compiler=compiler, result=result)\n"
     ]
    }
   ],
   "source": [
    "checkins = pd.read_csv('Data/checkin_summary.csv', header=None)\n",
    "photos = pd.read_csv('Data/photos_summary.csv', header=None)\n",
    "reviews = pd.read_csv('Data/review_small.csv', header=None)\n",
    "biz = pd.read_csv('Data/small_businesses.csv')\n",
    "tips = pd.read_csv('Data/tip_summary.csv', header=None)\n",
    "users = pd.read_json(path_or_buf='Data/user_small.json', lines=True)"
   ]
  },
  {
   "cell_type": "markdown",
   "metadata": {
    "collapsed": true
   },
   "source": [
    "## Clean Columns and Data"
   ]
  },
  {
   "cell_type": "code",
   "execution_count": 6,
   "metadata": {
    "scrolled": true
   },
   "outputs": [
    {
     "data": {
      "text/html": [
       "<div>\n",
       "<style>\n",
       "    .dataframe thead tr:only-child th {\n",
       "        text-align: right;\n",
       "    }\n",
       "\n",
       "    .dataframe thead th {\n",
       "        text-align: left;\n",
       "    }\n",
       "\n",
       "    .dataframe tbody tr th {\n",
       "        vertical-align: top;\n",
       "    }\n",
       "</style>\n",
       "<table border=\"1\" class=\"dataframe\">\n",
       "  <thead>\n",
       "    <tr style=\"text-align: right;\">\n",
       "      <th></th>\n",
       "      <th>average_stars</th>\n",
       "      <th>elite</th>\n",
       "      <th>review_count</th>\n",
       "      <th>user_id</th>\n",
       "      <th>yelping_since</th>\n",
       "      <th>elite_count</th>\n",
       "      <th>join_date</th>\n",
       "    </tr>\n",
       "  </thead>\n",
       "  <tbody>\n",
       "    <tr>\n",
       "      <th>0</th>\n",
       "      <td>3.80</td>\n",
       "      <td>[2014, 2016, 2013, 2011, 2012, 2015, 2010, 2017]</td>\n",
       "      <td>272</td>\n",
       "      <td>lsSiIjAKVl-QRxKjRErBeg</td>\n",
       "      <td>2010-07-13</td>\n",
       "      <td>8</td>\n",
       "      <td>2010-07-13</td>\n",
       "    </tr>\n",
       "    <tr>\n",
       "      <th>1</th>\n",
       "      <td>3.94</td>\n",
       "      <td>[2014, 2017, 2011, 2012, 2015, 2009, 2013, 200...</td>\n",
       "      <td>2559</td>\n",
       "      <td>om5ZiponkpRqUNa3pVPiRg</td>\n",
       "      <td>2006-01-18</td>\n",
       "      <td>12</td>\n",
       "      <td>2006-01-18</td>\n",
       "    </tr>\n",
       "    <tr>\n",
       "      <th>2</th>\n",
       "      <td>4.72</td>\n",
       "      <td>[]</td>\n",
       "      <td>277</td>\n",
       "      <td>-lGwMGHMC_XihFJNKCJNRg</td>\n",
       "      <td>2014-10-31</td>\n",
       "      <td>0</td>\n",
       "      <td>2014-10-31</td>\n",
       "    </tr>\n",
       "    <tr>\n",
       "      <th>3</th>\n",
       "      <td>3.76</td>\n",
       "      <td>[2016, 2017]</td>\n",
       "      <td>436</td>\n",
       "      <td>D-ydMTPGWXTVm4_jjp0k9g</td>\n",
       "      <td>2013-04-01</td>\n",
       "      <td>2</td>\n",
       "      <td>2013-04-01</td>\n",
       "    </tr>\n",
       "    <tr>\n",
       "      <th>4</th>\n",
       "      <td>4.23</td>\n",
       "      <td>[2017, 2016]</td>\n",
       "      <td>921</td>\n",
       "      <td>PcvbBOCOcs6_suRDH7TSTg</td>\n",
       "      <td>2012-08-16</td>\n",
       "      <td>2</td>\n",
       "      <td>2012-08-16</td>\n",
       "    </tr>\n",
       "  </tbody>\n",
       "</table>\n",
       "</div>"
      ],
      "text/plain": [
       "   average_stars                                              elite  \\\n",
       "0           3.80   [2014, 2016, 2013, 2011, 2012, 2015, 2010, 2017]   \n",
       "1           3.94  [2014, 2017, 2011, 2012, 2015, 2009, 2013, 200...   \n",
       "2           4.72                                                 []   \n",
       "3           3.76                                       [2016, 2017]   \n",
       "4           4.23                                       [2017, 2016]   \n",
       "\n",
       "   review_count                 user_id yelping_since  elite_count  join_date  \n",
       "0           272  lsSiIjAKVl-QRxKjRErBeg    2010-07-13            8 2010-07-13  \n",
       "1          2559  om5ZiponkpRqUNa3pVPiRg    2006-01-18           12 2006-01-18  \n",
       "2           277  -lGwMGHMC_XihFJNKCJNRg    2014-10-31            0 2014-10-31  \n",
       "3           436  D-ydMTPGWXTVm4_jjp0k9g    2013-04-01            2 2013-04-01  \n",
       "4           921  PcvbBOCOcs6_suRDH7TSTg    2012-08-16            2 2012-08-16  "
      ]
     },
     "execution_count": 6,
     "metadata": {},
     "output_type": "execute_result"
    }
   ],
   "source": [
    "users['elite_count'] = users.iloc[:,1].apply(lambda x: len(x))\n",
    "users['join_date'] = pd.to_datetime(users['yelping_since'])\n",
    "users.head()"
   ]
  },
  {
   "cell_type": "code",
   "execution_count": 7,
   "metadata": {},
   "outputs": [
    {
     "data": {
      "text/plain": [
       "average_stars           float64\n",
       "elite                    object\n",
       "review_count              int64\n",
       "user_id                  object\n",
       "yelping_since            object\n",
       "elite_count               int64\n",
       "join_date        datetime64[ns]\n",
       "dtype: object"
      ]
     },
     "execution_count": 7,
     "metadata": {},
     "output_type": "execute_result"
    }
   ],
   "source": [
    "users.dtypes"
   ]
  },
  {
   "cell_type": "code",
   "execution_count": 8,
   "metadata": {},
   "outputs": [
    {
     "data": {
      "text/plain": [
       "((49414, 2), (26384, 2), (2927859, 4), (38668, 93), (558979, 3), (1183362, 7))"
      ]
     },
     "execution_count": 8,
     "metadata": {},
     "output_type": "execute_result"
    }
   ],
   "source": [
    "checkins.shape, photos.shape, reviews.shape, biz.shape, tips.shape, users.shape"
   ]
  },
  {
   "cell_type": "code",
   "execution_count": 9,
   "metadata": {},
   "outputs": [
    {
     "data": {
      "text/html": [
       "<div>\n",
       "<style>\n",
       "    .dataframe thead tr:only-child th {\n",
       "        text-align: right;\n",
       "    }\n",
       "\n",
       "    .dataframe thead th {\n",
       "        text-align: left;\n",
       "    }\n",
       "\n",
       "    .dataframe tbody tr th {\n",
       "        vertical-align: top;\n",
       "    }\n",
       "</style>\n",
       "<table border=\"1\" class=\"dataframe\">\n",
       "  <thead>\n",
       "    <tr style=\"text-align: right;\">\n",
       "      <th></th>\n",
       "      <th>business_id</th>\n",
       "      <th>num_checkins</th>\n",
       "    </tr>\n",
       "  </thead>\n",
       "  <tbody>\n",
       "    <tr>\n",
       "      <th>0</th>\n",
       "      <td>--6MefnULPED_I942VcFNA</td>\n",
       "      <td>122</td>\n",
       "    </tr>\n",
       "    <tr>\n",
       "      <th>1</th>\n",
       "      <td>--9e1ONYQuAa-CB_Rrw7Tw</td>\n",
       "      <td>2469</td>\n",
       "    </tr>\n",
       "    <tr>\n",
       "      <th>2</th>\n",
       "      <td>--DaPTJW3-tB1vP-PfdTEg</td>\n",
       "      <td>88</td>\n",
       "    </tr>\n",
       "    <tr>\n",
       "      <th>3</th>\n",
       "      <td>--FBCX-N37CMYDfs790Bnw</td>\n",
       "      <td>477</td>\n",
       "    </tr>\n",
       "    <tr>\n",
       "      <th>4</th>\n",
       "      <td>--GM_ORV2cYS-h38DSaCLw</td>\n",
       "      <td>13</td>\n",
       "    </tr>\n",
       "  </tbody>\n",
       "</table>\n",
       "</div>"
      ],
      "text/plain": [
       "              business_id  num_checkins\n",
       "0  --6MefnULPED_I942VcFNA           122\n",
       "1  --9e1ONYQuAa-CB_Rrw7Tw          2469\n",
       "2  --DaPTJW3-tB1vP-PfdTEg            88\n",
       "3  --FBCX-N37CMYDfs790Bnw           477\n",
       "4  --GM_ORV2cYS-h38DSaCLw            13"
      ]
     },
     "execution_count": 9,
     "metadata": {},
     "output_type": "execute_result"
    }
   ],
   "source": [
    "checkins.columns = ['business_id', 'num_checkins'] \n",
    "checkins.head()"
   ]
  },
  {
   "cell_type": "code",
   "execution_count": 10,
   "metadata": {},
   "outputs": [
    {
     "data": {
      "text/html": [
       "<div>\n",
       "<style>\n",
       "    .dataframe thead tr:only-child th {\n",
       "        text-align: right;\n",
       "    }\n",
       "\n",
       "    .dataframe thead th {\n",
       "        text-align: left;\n",
       "    }\n",
       "\n",
       "    .dataframe tbody tr th {\n",
       "        vertical-align: top;\n",
       "    }\n",
       "</style>\n",
       "<table border=\"1\" class=\"dataframe\">\n",
       "  <thead>\n",
       "    <tr style=\"text-align: right;\">\n",
       "      <th></th>\n",
       "      <th>business_id</th>\n",
       "      <th>num_photos</th>\n",
       "    </tr>\n",
       "  </thead>\n",
       "  <tbody>\n",
       "    <tr>\n",
       "      <th>0</th>\n",
       "      <td>--6MefnULPED_I942VcFNA</td>\n",
       "      <td>1</td>\n",
       "    </tr>\n",
       "    <tr>\n",
       "      <th>1</th>\n",
       "      <td>--9e1ONYQuAa-CB_Rrw7Tw</td>\n",
       "      <td>127</td>\n",
       "    </tr>\n",
       "    <tr>\n",
       "      <th>2</th>\n",
       "      <td>--DaPTJW3-tB1vP-PfdTEg</td>\n",
       "      <td>1</td>\n",
       "    </tr>\n",
       "    <tr>\n",
       "      <th>3</th>\n",
       "      <td>--FBCX-N37CMYDfs790Bnw</td>\n",
       "      <td>4</td>\n",
       "    </tr>\n",
       "    <tr>\n",
       "      <th>4</th>\n",
       "      <td>--KCl2FvVQpvjzmZSPyviA</td>\n",
       "      <td>3</td>\n",
       "    </tr>\n",
       "  </tbody>\n",
       "</table>\n",
       "</div>"
      ],
      "text/plain": [
       "              business_id  num_photos\n",
       "0  --6MefnULPED_I942VcFNA           1\n",
       "1  --9e1ONYQuAa-CB_Rrw7Tw         127\n",
       "2  --DaPTJW3-tB1vP-PfdTEg           1\n",
       "3  --FBCX-N37CMYDfs790Bnw           4\n",
       "4  --KCl2FvVQpvjzmZSPyviA           3"
      ]
     },
     "execution_count": 10,
     "metadata": {},
     "output_type": "execute_result"
    }
   ],
   "source": [
    "photos.columns = ['business_id', 'num_photos'] \n",
    "photos.head()"
   ]
  },
  {
   "cell_type": "code",
   "execution_count": 11,
   "metadata": {},
   "outputs": [
    {
     "data": {
      "text/html": [
       "<div>\n",
       "<style>\n",
       "    .dataframe thead tr:only-child th {\n",
       "        text-align: right;\n",
       "    }\n",
       "\n",
       "    .dataframe thead th {\n",
       "        text-align: left;\n",
       "    }\n",
       "\n",
       "    .dataframe tbody tr th {\n",
       "        vertical-align: top;\n",
       "    }\n",
       "</style>\n",
       "<table border=\"1\" class=\"dataframe\">\n",
       "  <thead>\n",
       "    <tr style=\"text-align: right;\">\n",
       "      <th></th>\n",
       "      <th>user_id</th>\n",
       "      <th>business_id</th>\n",
       "      <th>rating</th>\n",
       "      <th>date</th>\n",
       "      <th>review_date</th>\n",
       "    </tr>\n",
       "  </thead>\n",
       "  <tbody>\n",
       "    <tr>\n",
       "      <th>0</th>\n",
       "      <td>V2exkc2JwEdc8UNUNhT7sg</td>\n",
       "      <td>--6MefnULPED_I942VcFNA</td>\n",
       "      <td>5</td>\n",
       "      <td>2016-08-25</td>\n",
       "      <td>2016-08-25</td>\n",
       "    </tr>\n",
       "    <tr>\n",
       "      <th>1</th>\n",
       "      <td>j97y1ZAsYABIOcR0KQCy5Q</td>\n",
       "      <td>--6MefnULPED_I942VcFNA</td>\n",
       "      <td>1</td>\n",
       "      <td>2010-12-06</td>\n",
       "      <td>2010-12-06</td>\n",
       "    </tr>\n",
       "    <tr>\n",
       "      <th>2</th>\n",
       "      <td>8-KBKMJVO-j5YqpHb08j9w</td>\n",
       "      <td>--6MefnULPED_I942VcFNA</td>\n",
       "      <td>4</td>\n",
       "      <td>2015-08-05</td>\n",
       "      <td>2015-08-05</td>\n",
       "    </tr>\n",
       "    <tr>\n",
       "      <th>3</th>\n",
       "      <td>CxDOIDnH8gp9KXzpBHJYXw</td>\n",
       "      <td>--6MefnULPED_I942VcFNA</td>\n",
       "      <td>2</td>\n",
       "      <td>2010-12-22</td>\n",
       "      <td>2010-12-22</td>\n",
       "    </tr>\n",
       "    <tr>\n",
       "      <th>4</th>\n",
       "      <td>7Dykd1HolQx8mKPYhYDYSg</td>\n",
       "      <td>--6MefnULPED_I942VcFNA</td>\n",
       "      <td>2</td>\n",
       "      <td>2017-02-07</td>\n",
       "      <td>2017-02-07</td>\n",
       "    </tr>\n",
       "  </tbody>\n",
       "</table>\n",
       "</div>"
      ],
      "text/plain": [
       "                  user_id             business_id  rating        date  \\\n",
       "0  V2exkc2JwEdc8UNUNhT7sg  --6MefnULPED_I942VcFNA       5  2016-08-25   \n",
       "1  j97y1ZAsYABIOcR0KQCy5Q  --6MefnULPED_I942VcFNA       1  2010-12-06   \n",
       "2  8-KBKMJVO-j5YqpHb08j9w  --6MefnULPED_I942VcFNA       4  2015-08-05   \n",
       "3  CxDOIDnH8gp9KXzpBHJYXw  --6MefnULPED_I942VcFNA       2  2010-12-22   \n",
       "4  7Dykd1HolQx8mKPYhYDYSg  --6MefnULPED_I942VcFNA       2  2017-02-07   \n",
       "\n",
       "  review_date  \n",
       "0  2016-08-25  \n",
       "1  2010-12-06  \n",
       "2  2015-08-05  \n",
       "3  2010-12-22  \n",
       "4  2017-02-07  "
      ]
     },
     "execution_count": 11,
     "metadata": {},
     "output_type": "execute_result"
    }
   ],
   "source": [
    "reviews.columns = ['user_id', 'business_id', 'rating', 'date'] \n",
    "reviews['review_date'] = pd.to_datetime(reviews['date'])\n",
    "reviews.head()"
   ]
  },
  {
   "cell_type": "code",
   "execution_count": 12,
   "metadata": {},
   "outputs": [
    {
     "data": {
      "text/html": [
       "<div>\n",
       "<style>\n",
       "    .dataframe thead tr:only-child th {\n",
       "        text-align: right;\n",
       "    }\n",
       "\n",
       "    .dataframe thead th {\n",
       "        text-align: left;\n",
       "    }\n",
       "\n",
       "    .dataframe tbody tr th {\n",
       "        vertical-align: top;\n",
       "    }\n",
       "</style>\n",
       "<table border=\"1\" class=\"dataframe\">\n",
       "  <thead>\n",
       "    <tr style=\"text-align: right;\">\n",
       "      <th></th>\n",
       "      <th>Ambience_divey</th>\n",
       "      <th>HairSpecializesIn_kids</th>\n",
       "      <th>RestaurantsDelivery</th>\n",
       "      <th>Open24Hours</th>\n",
       "      <th>Ambience_trendy</th>\n",
       "      <th>DogsAllowed</th>\n",
       "      <th>CoatCheck</th>\n",
       "      <th>postal_code</th>\n",
       "      <th>Smoking</th>\n",
       "      <th>DietaryRestrictions_halal</th>\n",
       "      <th>...</th>\n",
       "      <th>RestaurantsReservations</th>\n",
       "      <th>DietaryRestrictions_dairy-free</th>\n",
       "      <th>BestNights_wednesday</th>\n",
       "      <th>DietaryRestrictions_vegan</th>\n",
       "      <th>Ambience_romantic</th>\n",
       "      <th>Music_jukebox</th>\n",
       "      <th>Ambience_upscale</th>\n",
       "      <th>RestaurantsTakeOut</th>\n",
       "      <th>BikeParking</th>\n",
       "      <th>OutdoorSeating</th>\n",
       "    </tr>\n",
       "  </thead>\n",
       "  <tbody>\n",
       "    <tr>\n",
       "      <th>0</th>\n",
       "      <td>False</td>\n",
       "      <td>NaN</td>\n",
       "      <td>False</td>\n",
       "      <td>NaN</td>\n",
       "      <td>False</td>\n",
       "      <td>NaN</td>\n",
       "      <td>False</td>\n",
       "      <td>28105</td>\n",
       "      <td>NaN</td>\n",
       "      <td>NaN</td>\n",
       "      <td>...</td>\n",
       "      <td>False</td>\n",
       "      <td>NaN</td>\n",
       "      <td>NaN</td>\n",
       "      <td>NaN</td>\n",
       "      <td>False</td>\n",
       "      <td>False</td>\n",
       "      <td>False</td>\n",
       "      <td>True</td>\n",
       "      <td>True</td>\n",
       "      <td>False</td>\n",
       "    </tr>\n",
       "    <tr>\n",
       "      <th>1</th>\n",
       "      <td>NaN</td>\n",
       "      <td>NaN</td>\n",
       "      <td>NaN</td>\n",
       "      <td>NaN</td>\n",
       "      <td>NaN</td>\n",
       "      <td>NaN</td>\n",
       "      <td>NaN</td>\n",
       "      <td>28164</td>\n",
       "      <td>NaN</td>\n",
       "      <td>NaN</td>\n",
       "      <td>...</td>\n",
       "      <td>NaN</td>\n",
       "      <td>NaN</td>\n",
       "      <td>NaN</td>\n",
       "      <td>NaN</td>\n",
       "      <td>NaN</td>\n",
       "      <td>NaN</td>\n",
       "      <td>NaN</td>\n",
       "      <td>NaN</td>\n",
       "      <td>NaN</td>\n",
       "      <td>False</td>\n",
       "    </tr>\n",
       "    <tr>\n",
       "      <th>2</th>\n",
       "      <td>True</td>\n",
       "      <td>NaN</td>\n",
       "      <td>False</td>\n",
       "      <td>NaN</td>\n",
       "      <td>False</td>\n",
       "      <td>NaN</td>\n",
       "      <td>NaN</td>\n",
       "      <td>15224</td>\n",
       "      <td>NaN</td>\n",
       "      <td>NaN</td>\n",
       "      <td>...</td>\n",
       "      <td>False</td>\n",
       "      <td>NaN</td>\n",
       "      <td>NaN</td>\n",
       "      <td>NaN</td>\n",
       "      <td>False</td>\n",
       "      <td>NaN</td>\n",
       "      <td>False</td>\n",
       "      <td>True</td>\n",
       "      <td>True</td>\n",
       "      <td>False</td>\n",
       "    </tr>\n",
       "    <tr>\n",
       "      <th>3</th>\n",
       "      <td>NaN</td>\n",
       "      <td>NaN</td>\n",
       "      <td>False</td>\n",
       "      <td>NaN</td>\n",
       "      <td>NaN</td>\n",
       "      <td>NaN</td>\n",
       "      <td>NaN</td>\n",
       "      <td>L5W 0E6</td>\n",
       "      <td>NaN</td>\n",
       "      <td>NaN</td>\n",
       "      <td>...</td>\n",
       "      <td>True</td>\n",
       "      <td>NaN</td>\n",
       "      <td>NaN</td>\n",
       "      <td>NaN</td>\n",
       "      <td>NaN</td>\n",
       "      <td>NaN</td>\n",
       "      <td>NaN</td>\n",
       "      <td>True</td>\n",
       "      <td>NaN</td>\n",
       "      <td>True</td>\n",
       "    </tr>\n",
       "    <tr>\n",
       "      <th>4</th>\n",
       "      <td>False</td>\n",
       "      <td>NaN</td>\n",
       "      <td>False</td>\n",
       "      <td>NaN</td>\n",
       "      <td>False</td>\n",
       "      <td>NaN</td>\n",
       "      <td>NaN</td>\n",
       "      <td>53704</td>\n",
       "      <td>NaN</td>\n",
       "      <td>NaN</td>\n",
       "      <td>...</td>\n",
       "      <td>True</td>\n",
       "      <td>NaN</td>\n",
       "      <td>NaN</td>\n",
       "      <td>NaN</td>\n",
       "      <td>False</td>\n",
       "      <td>NaN</td>\n",
       "      <td>False</td>\n",
       "      <td>True</td>\n",
       "      <td>True</td>\n",
       "      <td>False</td>\n",
       "    </tr>\n",
       "  </tbody>\n",
       "</table>\n",
       "<p>5 rows × 93 columns</p>\n",
       "</div>"
      ],
      "text/plain": [
       "  Ambience_divey HairSpecializesIn_kids RestaurantsDelivery Open24Hours  \\\n",
       "0          False                    NaN               False         NaN   \n",
       "1            NaN                    NaN                 NaN         NaN   \n",
       "2           True                    NaN               False         NaN   \n",
       "3            NaN                    NaN               False         NaN   \n",
       "4          False                    NaN               False         NaN   \n",
       "\n",
       "  Ambience_trendy DogsAllowed CoatCheck postal_code Smoking  \\\n",
       "0           False         NaN     False       28105     NaN   \n",
       "1             NaN         NaN       NaN       28164     NaN   \n",
       "2           False         NaN       NaN       15224     NaN   \n",
       "3             NaN         NaN       NaN     L5W 0E6     NaN   \n",
       "4           False         NaN       NaN       53704     NaN   \n",
       "\n",
       "  DietaryRestrictions_halal      ...       RestaurantsReservations  \\\n",
       "0                       NaN      ...                         False   \n",
       "1                       NaN      ...                           NaN   \n",
       "2                       NaN      ...                         False   \n",
       "3                       NaN      ...                          True   \n",
       "4                       NaN      ...                          True   \n",
       "\n",
       "  DietaryRestrictions_dairy-free BestNights_wednesday  \\\n",
       "0                            NaN                  NaN   \n",
       "1                            NaN                  NaN   \n",
       "2                            NaN                  NaN   \n",
       "3                            NaN                  NaN   \n",
       "4                            NaN                  NaN   \n",
       "\n",
       "  DietaryRestrictions_vegan Ambience_romantic Music_jukebox Ambience_upscale  \\\n",
       "0                       NaN             False         False            False   \n",
       "1                       NaN               NaN           NaN              NaN   \n",
       "2                       NaN             False           NaN            False   \n",
       "3                       NaN               NaN           NaN              NaN   \n",
       "4                       NaN             False           NaN            False   \n",
       "\n",
       "  RestaurantsTakeOut BikeParking OutdoorSeating  \n",
       "0               True        True          False  \n",
       "1                NaN         NaN          False  \n",
       "2               True        True          False  \n",
       "3               True         NaN           True  \n",
       "4               True        True          False  \n",
       "\n",
       "[5 rows x 93 columns]"
      ]
     },
     "execution_count": 12,
     "metadata": {},
     "output_type": "execute_result"
    }
   ],
   "source": [
    "biz.columns=biz.columns.str.replace('attributes.','')\n",
    "biz.columns=biz.columns.str.replace('.',\"_\")\n",
    "biz.head()"
   ]
  },
  {
   "cell_type": "code",
   "execution_count": 13,
   "metadata": {},
   "outputs": [
    {
     "data": {
      "text/html": [
       "<div>\n",
       "<style>\n",
       "    .dataframe thead tr:only-child th {\n",
       "        text-align: right;\n",
       "    }\n",
       "\n",
       "    .dataframe thead th {\n",
       "        text-align: left;\n",
       "    }\n",
       "\n",
       "    .dataframe tbody tr th {\n",
       "        vertical-align: top;\n",
       "    }\n",
       "</style>\n",
       "<table border=\"1\" class=\"dataframe\">\n",
       "  <thead>\n",
       "    <tr style=\"text-align: right;\">\n",
       "      <th></th>\n",
       "      <th>business_id</th>\n",
       "      <th>user_id</th>\n",
       "      <th>unidentifiedinfo_tips</th>\n",
       "    </tr>\n",
       "  </thead>\n",
       "  <tbody>\n",
       "    <tr>\n",
       "      <th>0</th>\n",
       "      <td>---1lKK3aKOuomHnwAkAow</td>\n",
       "      <td>0zoXYHq82haayMaV952jEQ</td>\n",
       "      <td>1</td>\n",
       "    </tr>\n",
       "    <tr>\n",
       "      <th>1</th>\n",
       "      <td>---1lKK3aKOuomHnwAkAow</td>\n",
       "      <td>A0X1baHPgw9IiBRivu0G9g</td>\n",
       "      <td>2</td>\n",
       "    </tr>\n",
       "    <tr>\n",
       "      <th>2</th>\n",
       "      <td>---1lKK3aKOuomHnwAkAow</td>\n",
       "      <td>Qy_tDaVTWlS14fEglzo1Tg</td>\n",
       "      <td>1</td>\n",
       "    </tr>\n",
       "    <tr>\n",
       "      <th>3</th>\n",
       "      <td>---1lKK3aKOuomHnwAkAow</td>\n",
       "      <td>RRw9I8pHt5PzgYGT2QeODw</td>\n",
       "      <td>1</td>\n",
       "    </tr>\n",
       "    <tr>\n",
       "      <th>4</th>\n",
       "      <td>---1lKK3aKOuomHnwAkAow</td>\n",
       "      <td>Xspg78dOvuedvuPEUwZBjw</td>\n",
       "      <td>1</td>\n",
       "    </tr>\n",
       "  </tbody>\n",
       "</table>\n",
       "</div>"
      ],
      "text/plain": [
       "              business_id                 user_id  unidentifiedinfo_tips\n",
       "0  ---1lKK3aKOuomHnwAkAow  0zoXYHq82haayMaV952jEQ                      1\n",
       "1  ---1lKK3aKOuomHnwAkAow  A0X1baHPgw9IiBRivu0G9g                      2\n",
       "2  ---1lKK3aKOuomHnwAkAow  Qy_tDaVTWlS14fEglzo1Tg                      1\n",
       "3  ---1lKK3aKOuomHnwAkAow  RRw9I8pHt5PzgYGT2QeODw                      1\n",
       "4  ---1lKK3aKOuomHnwAkAow  Xspg78dOvuedvuPEUwZBjw                      1"
      ]
     },
     "execution_count": 13,
     "metadata": {},
     "output_type": "execute_result"
    }
   ],
   "source": [
    "tips.columns = ['business_id', 'user_id', 'unidentifiedinfo_tips'] \n",
    "\n",
    "tips['business_id'] = tips['business_id'].map(lambda x: x[1:])\n",
    "tips['user_id'] = tips['user_id'].map(lambda x: x[:-1])\n",
    "tips.head()"
   ]
  },
  {
   "cell_type": "code",
   "execution_count": 14,
   "metadata": {},
   "outputs": [
    {
     "name": "stdout",
     "output_type": "stream",
     "text": [
      "43082\n",
      "0.03640644198478572\n"
     ]
    }
   ],
   "source": [
    "# How many unique users are there in the tips data set?\n",
    "print(len(tips.user_id.unique()))\n",
    "print(len(tips.user_id.unique())/len(users))"
   ]
  },
  {
   "cell_type": "markdown",
   "metadata": {},
   "source": [
    "Since these represent less than 4 percent of all users, we can disregard them for analysis."
   ]
  },
  {
   "cell_type": "markdown",
   "metadata": {},
   "source": [
    "## Explore User and Review Data"
   ]
  },
  {
   "cell_type": "code",
   "execution_count": 15,
   "metadata": {
    "collapsed": true
   },
   "outputs": [],
   "source": [
    "# Merge with review data\n",
    "users_viz = users[['user_id', 'average_stars', 'review_count', 'elite_count', 'join_date']]\n",
    "reviews_viz = reviews[['user_id', 'business_id', 'rating', 'review_date']]"
   ]
  },
  {
   "cell_type": "code",
   "execution_count": 16,
   "metadata": {
    "collapsed": true
   },
   "outputs": [],
   "source": [
    "user_review_viz = pd.merge(users_viz, reviews_viz, on='user_id', how='outer')"
   ]
  },
  {
   "cell_type": "code",
   "execution_count": 17,
   "metadata": {},
   "outputs": [
    {
     "data": {
      "text/plain": [
       "<matplotlib.axes._subplots.AxesSubplot at 0x105ff38d0>"
      ]
     },
     "execution_count": 17,
     "metadata": {},
     "output_type": "execute_result"
    },
    {
     "data": {
      "image/png": "[encoded data removed]",
      "text/plain": [
       "<matplotlib.figure.Figure at 0x13da04550>"
      ]
     },
     "metadata": {},
     "output_type": "display_data"
    }
   ],
   "source": [
    "fig, ax = plt.subplots(1,1, figsize =(10,8))\n",
    "sns.heatmap(user_review_viz.corr(), ax=ax)"
   ]
  },
  {
   "cell_type": "code",
   "execution_count": 18,
   "metadata": {},
   "outputs": [
    {
     "data": {
      "text/plain": [
       "<matplotlib.text.Text at 0x1411781d0>"
      ]
     },
     "execution_count": 18,
     "metadata": {},
     "output_type": "execute_result"
    },
    {
     "data": {
      "image/png": "[encoded data removed]",
      "text/plain": [
       "<matplotlib.figure.Figure at 0x13d43a1d0>"
      ]
     },
     "metadata": {},
     "output_type": "display_data"
    }
   ],
   "source": [
    "# How does the distribution of average rating compare to that of reviews\n",
    "fig, ax = plt.subplots(1, 2, figsize=(18, 8))\n",
    "\n",
    "plt.subplot(1, 2, 1)\n",
    "plt.hist(reviews_viz.rating, color=sns.color_palette()[5], alpha=0.75, align='mid')\n",
    "plt.xticks([1,2,3,4,5])\n",
    "plt.title('Distribution of Given Ratings')\n",
    "\n",
    "plt.subplot(1, 2, 2)\n",
    "plt.hist(users_viz.average_stars, color=sns.color_palette()[5], alpha=0.75)\n",
    "plt.title('Distribution of Average Star Ratings')"
   ]
  },
  {
   "cell_type": "code",
   "execution_count": 19,
   "metadata": {},
   "outputs": [
    {
     "data": {
      "text/plain": [
       "<matplotlib.text.Text at 0x13c9b2828>"
      ]
     },
     "execution_count": 19,
     "metadata": {},
     "output_type": "execute_result"
    },
    {
     "data": {
      "image/png": "[encoded data removed]",
      "text/plain": [
       "<matplotlib.figure.Figure at 0x13c809f98>"
      ]
     },
     "metadata": {},
     "output_type": "display_data"
    }
   ],
   "source": [
    "# What's the distribution of reviews?\n",
    "fig, ax = plt.subplots(1, 1, figsize=(9, 8))\n",
    "\n",
    "#plt.subplot(1, 2, 1)\n",
    "plt.hist(users_viz.review_count[users_viz.review_count < 100], bins = 100, color=sns.color_palette()[5], alpha=0.75)\n",
    "plt.title('Distribution of Number of Reviews per User')\n",
    "#plt.subplot(1, 2, 2)\n",
    "#plt.hist(users_viz.review_count[users_viz.review_count >= 100], bins = 50, color=sns.color_palette()[5], alpha=0.75)\n",
    "#ax.set_xlim([20,1500])\n",
    "#plt.xticks([1,2,3,4,5])\n"
   ]
  },
  {
   "cell_type": "code",
   "execution_count": 20,
   "metadata": {},
   "outputs": [
    {
     "data": {
      "text/plain": [
       "<matplotlib.text.Text at 0x13d530278>"
      ]
     },
     "execution_count": 20,
     "metadata": {},
     "output_type": "execute_result"
    },
    {
     "data": {
      "image/png": "[encoded data removed]",
      "text/plain": [
       "<matplotlib.figure.Figure at 0x13cbf0828>"
      ]
     },
     "metadata": {},
     "output_type": "display_data"
    }
   ],
   "source": [
    "fig, ax = plt.subplots(1, 1, figsize=(9, 8))\n",
    "plt.scatter(users.average_stars, users.review_count, color=sns.color_palette()[5], alpha=0.75)\n",
    "plt.xlabel(\"User's Average Rating\")\n",
    "plt.ylabel('Number of Reviews')\n",
    "plt.title('Average Rating by User Activity')"
   ]
  },
  {
   "cell_type": "code",
   "execution_count": 68,
   "metadata": {
    "scrolled": true
   },
   "outputs": [
    {
     "data": {
      "text/plain": [
       "<matplotlib.axes._subplots.AxesSubplot at 0x13f758780>"
      ]
     },
     "execution_count": 68,
     "metadata": {},
     "output_type": "execute_result"
    },
    {
     "data": {
      "image/png": "[encoded data removed]",
      "text/plain": [
       "<matplotlib.figure.Figure at 0x141d39940>"
      ]
     },
     "metadata": {},
     "output_type": "display_data"
    }
   ],
   "source": [
    "sns.boxplot('rating','review_count', data=user_review_viz)"
   ]
  },
  {
   "cell_type": "code",
   "execution_count": 56,
   "metadata": {},
   "outputs": [
    {
     "name": "stdout",
     "output_type": "stream",
     "text": [
      "[1.0, 1.0, 1.0, 1.0, 0.99999999999999989, 1.0, 1.0, 1.0, 1.0, 1.0, 1.0, 1.0, 1.0, 0.99999999999999989]\n"
     ]
    }
   ],
   "source": [
    "elite_lvl = np.array(user_review_viz['elite_count'].unique())\n",
    "elite_lvl.sort()\n",
    "\n",
    "rating_props_1star = [user_review_viz.rating[(user_review_viz.rating == 1) & (user_review_viz.elite_count == i)].count()/user_review_viz.rating[user_review_viz.elite_count == i].count() for i in range(0,14)]\n",
    "rating_props_2star = [user_review_viz.rating[(user_review_viz.rating == 2) & (user_review_viz.elite_count == i)].count()/user_review_viz.rating[user_review_viz.elite_count == i].count() for i in range(0,14)]\n",
    "rating_props_3star = [user_review_viz.rating[(user_review_viz.rating == 3) & (user_review_viz.elite_count == i)].count()/user_review_viz.rating[user_review_viz.elite_count == i].count() for i in range(0,14)]\n",
    "rating_props_4star = [user_review_viz.rating[(user_review_viz.rating == 4) & (user_review_viz.elite_count == i)].count()/user_review_viz.rating[user_review_viz.elite_count == i].count() for i in range(0,14)]\n",
    "rating_props_5star = [user_review_viz.rating[(user_review_viz.rating == 5) & (user_review_viz.elite_count == i)].count()/user_review_viz.rating[user_review_viz.elite_count == i].count() for i in range(0,14)]"
   ]
  },
  {
   "cell_type": "code",
   "execution_count": 65,
   "metadata": {},
   "outputs": [
    {
     "data": {
      "text/plain": [
       "([<matplotlib.axis.XTick at 0x17af7f780>,\n",
       "  <matplotlib.axis.XTick at 0x1792abb38>,\n",
       "  <matplotlib.axis.XTick at 0x17cfa7630>,\n",
       "  <matplotlib.axis.XTick at 0x13fa188d0>,\n",
       "  <matplotlib.axis.XTick at 0x13fe106a0>,\n",
       "  <matplotlib.axis.XTick at 0x140149be0>,\n",
       "  <matplotlib.axis.XTick at 0x14015ff98>,\n",
       "  <matplotlib.axis.XTick at 0x14015f668>,\n",
       "  <matplotlib.axis.XTick at 0x1401b0080>,\n",
       "  <matplotlib.axis.XTick at 0x1401c00b8>,\n",
       "  <matplotlib.axis.XTick at 0x1401c0c88>,\n",
       "  <matplotlib.axis.XTick at 0x1401d14a8>,\n",
       "  <matplotlib.axis.XTick at 0x1404a7278>,\n",
       "  <matplotlib.axis.XTick at 0x1404b3c50>],\n",
       " <a list of 14 Text xticklabel objects>)"
      ]
     },
     "execution_count": 65,
     "metadata": {},
     "output_type": "execute_result"
    },
    {
     "data": {
      "image/png": "[encoded data removed]",
      "text/plain": [
       "<matplotlib.figure.Figure at 0x17cfc15c0>"
      ]
     },
     "metadata": {},
     "output_type": "display_data"
    }
   ],
   "source": [
    "f, ax = plt.subplots(1, figsize=(10,5))\n",
    "\n",
    "ax.bar(elite_lvl, rating_props_1star, label = '1-star review', alpha=0.6, color = '#a6611a')\n",
    "ax.bar(elite_lvl, rating_props_2star, bottom = rating_props_1star, label = '2-star review', alpha=0.6, color = '#dfc27d')\n",
    "ax.bar(elite_lvl, rating_props_3star, bottom = [i+j for i,j in zip(rating_props_1star, rating_props_2star)], label = '3-star review', alpha=0.8, color = '#f5f5f5')\n",
    "ax.bar(elite_lvl, rating_props_4star, bottom = [i+j+k for i,j,k in zip(rating_props_1star, rating_props_2star, rating_props_3star)], label = '4-star review', alpha=0.6, color = '#80cdc1')\n",
    "ax.bar(elite_lvl, rating_props_5star, bottom = [i+j+k+l for i,j,k,l in zip(rating_props_1star, rating_props_2star, rating_props_3star, rating_props_4star)], label = '5-star review', alpha=0.6, color = '#018571')\n",
    "\n",
    "plt.xlabel(\"Number of Years with Elite Status\")\n",
    "plt.title('Distribution of Reviews by Elite Users')\n",
    "plt.legend(bbox_to_anchor = (1.02,0.5) , loc = 'center left')\n",
    "plt.xticks(range(0,14))"
   ]
  },
  {
   "cell_type": "code",
   "execution_count": 67,
   "metadata": {},
   "outputs": [
    {
     "data": {
      "text/html": [
       "<div>\n",
       "<style>\n",
       "    .dataframe thead tr:only-child th {\n",
       "        text-align: right;\n",
       "    }\n",
       "\n",
       "    .dataframe thead th {\n",
       "        text-align: left;\n",
       "    }\n",
       "\n",
       "    .dataframe tbody tr th {\n",
       "        vertical-align: top;\n",
       "    }\n",
       "</style>\n",
       "<table border=\"1\" class=\"dataframe\">\n",
       "  <thead>\n",
       "    <tr style=\"text-align: right;\">\n",
       "      <th></th>\n",
       "      <th>average_stars</th>\n",
       "      <th>review_count</th>\n",
       "      <th>elite_count</th>\n",
       "    </tr>\n",
       "  </thead>\n",
       "  <tbody>\n",
       "    <tr>\n",
       "      <th>count</th>\n",
       "      <td>1.183362e+06</td>\n",
       "      <td>1.183362e+06</td>\n",
       "      <td>1.183362e+06</td>\n",
       "    </tr>\n",
       "    <tr>\n",
       "      <th>mean</th>\n",
       "      <td>3.711835e+00</td>\n",
       "      <td>2.372686e+01</td>\n",
       "      <td>1.525848e-01</td>\n",
       "    </tr>\n",
       "    <tr>\n",
       "      <th>std</th>\n",
       "      <td>1.105231e+00</td>\n",
       "      <td>8.050645e+01</td>\n",
       "      <td>8.163861e-01</td>\n",
       "    </tr>\n",
       "    <tr>\n",
       "      <th>min</th>\n",
       "      <td>1.000000e+00</td>\n",
       "      <td>0.000000e+00</td>\n",
       "      <td>0.000000e+00</td>\n",
       "    </tr>\n",
       "    <tr>\n",
       "      <th>25%</th>\n",
       "      <td>3.130000e+00</td>\n",
       "      <td>2.000000e+00</td>\n",
       "      <td>0.000000e+00</td>\n",
       "    </tr>\n",
       "    <tr>\n",
       "      <th>50%</th>\n",
       "      <td>3.890000e+00</td>\n",
       "      <td>5.000000e+00</td>\n",
       "      <td>0.000000e+00</td>\n",
       "    </tr>\n",
       "    <tr>\n",
       "      <th>75%</th>\n",
       "      <td>4.570000e+00</td>\n",
       "      <td>1.600000e+01</td>\n",
       "      <td>0.000000e+00</td>\n",
       "    </tr>\n",
       "    <tr>\n",
       "      <th>max</th>\n",
       "      <td>5.000000e+00</td>\n",
       "      <td>1.165600e+04</td>\n",
       "      <td>1.300000e+01</td>\n",
       "    </tr>\n",
       "  </tbody>\n",
       "</table>\n",
       "</div>"
      ],
      "text/plain": [
       "       average_stars  review_count   elite_count\n",
       "count   1.183362e+06  1.183362e+06  1.183362e+06\n",
       "mean    3.711835e+00  2.372686e+01  1.525848e-01\n",
       "std     1.105231e+00  8.050645e+01  8.163861e-01\n",
       "min     1.000000e+00  0.000000e+00  0.000000e+00\n",
       "25%     3.130000e+00  2.000000e+00  0.000000e+00\n",
       "50%     3.890000e+00  5.000000e+00  0.000000e+00\n",
       "75%     4.570000e+00  1.600000e+01  0.000000e+00\n",
       "max     5.000000e+00  1.165600e+04  1.300000e+01"
      ]
     },
     "execution_count": 67,
     "metadata": {},
     "output_type": "execute_result"
    }
   ],
   "source": [
    "users.describe()"
   ]
  },
  {
   "cell_type": "code",
   "execution_count": null,
   "metadata": {
    "collapsed": true
   },
   "outputs": [],
   "source": []
  }
 ],
 "metadata": {
  "kernelspec": {
   "display_name": "Python 3",
   "language": "python",
   "name": "python3"
  },
  "language_info": {
   "codemirror_mode": {
    "name": "ipython",
    "version": 3
   },
   "file_extension": ".py",
   "mimetype": "text/x-python",
   "name": "python",
   "nbconvert_exporter": "python",
   "pygments_lexer": "ipython3",
   "version": "3.6.1"
  }
 },
 "nbformat": 4,
 "nbformat_minor": 2
}
