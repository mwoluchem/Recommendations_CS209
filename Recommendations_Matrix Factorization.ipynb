{
 "cells": [
  {
   "cell_type": "markdown",
   "metadata": {},
   "source": [
    "# Matrix Factorization\n",
    "\n",
    "Having created out baseline results, we can try different methods for determining the predicted review scores. One method is to assume there are latent factors which drive the scores given by users. Matrix factorization is one method of trying to model these latent factors.\n",
    "\n",
    "Given a set of (user, restaurant, review scores), we can construct a matrix out of these where each row is a user, each column is a restaurant, and the value of each cell is the rating assigned by the user. Let's call this matrix S.\n",
    "\n",
    "Matrix factorization seeks to reconstruct S by splitting it into two matrices, U & R, such that UR = S. The dimensions of U & R are (# users x latent factors) & (# latent factors x restaurants) respectively. By selecting a higher number of dimensions, we are assuming there are more factors which exist and which we subsequently are trying to represent."
   ]
  },
  {
   "cell_type": "code",
   "execution_count": null,
   "metadata": {
    "collapsed": true,
    "hide": true
   },
   "outputs": [],
   "source": [
    "import numpy as np\n",
    "import pandas as pd\n",
    "import matplotlib\n",
    "import matplotlib.pyplot as plt\n",
    "import matplotlib.ticker as ticker\n",
    "import sklearn.metrics as metrics\n",
    "from sklearn.model_selection import cross_val_score\n",
    "from sklearn import tree\n",
    "from sklearn.tree import DecisionTreeClassifier\n",
    "from sklearn.ensemble import RandomForestClassifier\n",
    "from sklearn.ensemble import AdaBoostClassifier\n",
    "from sklearn.linear_model import LogisticRegressionCV\n",
    "import math\n",
    "import time\n",
    "import logging\n",
    "%matplotlib inline"
   ]
  },
  {
   "cell_type": "code",
   "execution_count": 92,
   "metadata": {},
   "outputs": [],
   "source": [
    "def graph_rmse_error(train_errors, test_errors):\n",
    "    # Given an array of training and testing RMSE errors / iteration, graph them.\n",
    "    axes = plt.figure().gca()\n",
    "    axes.plot(train_errors, label='Train')\n",
    "    axes.plot(test_errors, label='Test')\n",
    "    max_y = max(max(train_errors), max(test_errors))\n",
    "    axes.set_ylim(0,max_y + max_y/10)\n",
    "    axes.set_xlim(0,len(train_errors))\n",
    "    start, end = axes.get_xlim()\n",
    "    if (len(train_errors) < 20):\n",
    "        axes.xaxis.set_ticks(range(len(train_errors)))\n",
    "    else:\n",
    "        axes.xaxis.set_ticks(range(0, len(train_errors), math.floor(len(train_errors)/20)))\n",
    "    axes.xaxis.set_major_formatter(ticker.FormatStrFormatter('%0.f'))\n",
    "    axes.set_xlabel('Iteration')\n",
    "    axes.set_ylabel('RMSE')\n",
    "    axes.set_title('RMSE vs Iterations')\n",
    "    plt.legend(loc=\"lower right\")"
   ]
  },
  {
   "cell_type": "code",
   "execution_count": 11,
   "metadata": {
    "collapsed": true
   },
   "outputs": [],
   "source": [
    "# Read data into a sparse matrix where each row is a user and each column is a restaurant.\n",
    "# Creating a dense matrix caused out of memory issues.\n",
    "def create_train(filename):\n",
    "    from scipy.sparse import coo_matrix\n",
    "    data = pd.read_csv(filename, header=None, names=['user_id', 'restaurant_id', 'score'])\n",
    "    \n",
    "    # this allows us to convert user/restaurants to ints quickly.\n",
    "    data['user_id'] = data['user_id'].astype('category')\n",
    "    data['restaurant_id'] = data['restaurant_id'].astype('category')\n",
    "    \n",
    "    user_to_id = dict([[v,k] for k,v in dict(enumerate(data['user_id'].cat.categories)).items()])\n",
    "    restaurant_to_id = dict([[v,k] for k,v in dict(enumerate(data['restaurant_id'].cat.categories)).items()])\n",
    "\n",
    "    # Map user & restaurant ids to ints.\n",
    "    data['u_index'] = data['user_id'].apply(lambda x: user_to_id[x]).astype('int64')\n",
    "    data['r_index'] = data['restaurant_id'].apply(lambda x: restaurant_to_id[x]).astype('int64')\n",
    "    \n",
    "    # create a sparse matrix of (user_index, restaurant_index, score)\n",
    "    sparse = coo_matrix((data['score'], (data['u_index'], data['r_index'])))\n",
    "    return data, sparse, user_to_id, restaurant_to_id"
   ]
  },
  {
   "cell_type": "code",
   "execution_count": 59,
   "metadata": {
    "collapsed": true
   },
   "outputs": [],
   "source": [
    "# Read data into a sparse matrix similar to create_train. Use the user_id -> index & restaurant_id -> index\n",
    "# mappings from training set to ensure we have the same indices.\n",
    "def create_test(filename, user_id_to_index, restaurant_id_to_index):\n",
    "    from scipy.sparse import coo_matrix\n",
    "    data = pd.read_csv(filename, header=None, names=['user_id', 'restaurant_id', 'score'])\n",
    "    \n",
    "    # Map rId and uId to same values as in training set.\n",
    "    data['u_index'] = data['user_id'].apply(lambda x: user_id_to_index[x])\n",
    "    data['r_index'] = data['restaurant_id'].apply(lambda x: restaurant_id_to_index[x])\n",
    "\n",
    "    # create a sparse matrix of (userId, restaurantId, score)\n",
    "    sparse = coo_matrix((data['score'], (data['u_index'], data['r_index'])))\n",
    "    return data, sparse"
   ]
  },
  {
   "cell_type": "code",
   "execution_count": 46,
   "metadata": {
    "collapsed": true
   },
   "outputs": [],
   "source": [
    "def rmse(users_items, user_factors, item_factors):\n",
    "    # Calculate Root Mean Square Error for matrix.\n",
    "    user_items_coo = users_items.tocoo()\n",
    "    e = 0\n",
    "    for i, j, v in zip(user_items_coo.row, user_items_coo.col, user_items_coo.data):\n",
    "        e += (v - user_factors[i].dot(item_factors[j]))**2\n",
    "    return math.sqrt(e/len(user_items_coo.data))\n",
    "\n",
    "def create_a_b(Y, YtY, u_i, u, regularisation, n_latent_factors):\n",
    "    # According to section 4 of http://yifanhu.net/PUB/cf.pdf we can build A & b piecemeal by\n",
    "    # Xu = Inv((Yt*Cu*Y + λI)) * Yt*Cu*p(u)\n",
    "    # A is (Yt*Cu*Y + λI)\n",
    "    # b is Yt*Cu*p(u)\n",
    "    # A can be re-written as = YtY + Yt(Cu − I)Y + λI\n",
    "\n",
    "    # Init A to be YtY + λI. We'll add Yt(Cu − I)Y below.\n",
    "    A = YtY + regularisation * np.eye(n_latent_factors)\n",
    "\n",
    "    # b starts off empty and will be accumulated below.\n",
    "    b = np.zeros(n_latent_factors)\n",
    "\n",
    "    for i, score in nonzero_col_values(u_i, u):\n",
    "        factor = Y[i]\n",
    "        A += (score - 1) * np.outer(factor, factor)\n",
    "        b += score * factor\n",
    "    return A, b\n",
    "\n",
    "def least_squares(u_i, X, Y, regularization):\n",
    "    # If we were able to keep a dense matrix in memory, we could simply do\n",
    "    # A = YtY + regularisation * np.eye(n_latent_factors), \n",
    "    # b = np.dot(Y, u_i.T)\n",
    "    \n",
    "    # Since we're using a sparse matrix, we have to build each entry individually.\n",
    "    users, n_latent_factors = X.shape\n",
    "    YtY = Y.T.dot(Y)\n",
    "\n",
    "    for user in range(users):\n",
    "        A, b = create_a_b(Y, YtY, u_i, user, regularization, n_latent_factors)\n",
    "        X[user] = np.linalg.solve(A, b)\n",
    "        \n",
    "def nonzero_col_values(matrix, row):\n",
    "    # Returns the nonzero column indicies and values for the provided row.\n",
    "    for index in range(matrix.indptr[row], matrix.indptr[row+1]):\n",
    "        yield matrix.indices[index], matrix.data[index]"
   ]
  },
  {
   "cell_type": "code",
   "execution_count": 78,
   "metadata": {
    "collapsed": true
   },
   "outputs": [],
   "source": [
    "def fit(train_users_items, test_users_items, factors, iterations, regularisation):\n",
    "    # fit takes the sparse matrix of training data (format is ((user index, restaurant index), review score)),\n",
    "    # the sparse matrix of test data (just for error computation),\n",
    "    # the number of latent factors to calculate\n",
    "    # the number of iterations to execute before stopping,\n",
    "    # the amount of regularisation to apply.\n",
    "    #\n",
    "    # Step 1 is to create initial user & item factor matrices.\n",
    "    # After doing so, we alternate least squares on the user & item matrices by\n",
    "    # first updating the user factors (holding item factors constant)\n",
    "    # and then the item factors (holding the user factors constant)\n",
    "    # We then calculate the RMSE for the train and test set and store this on each iteration\n",
    "    # Ultimately we return the final user factors & item factors, as well as the train & test errors\n",
    "    # for each iteration. \n",
    "    u_i = train_users_items.tocsr()\n",
    "    i_u = train_users_items.T.tocsr()\n",
    "\n",
    "    users, items = u_i.shape\n",
    "        \n",
    "    # Initialize the factor matrices randomly. Since scores go from 0 - 5, we multiply by 5.\n",
    "    user_factors = np.random.rand(users, factors) #* 2\n",
    "    item_factors = np.random.rand(items, factors) #* 2\n",
    "        \n",
    "    prev_rmse = 0\n",
    "    train_errors = []\n",
    "    test_errors = []\n",
    "    \n",
    "    for i in range(iterations):\n",
    "        s = time.time()\n",
    "        least_squares(u_i, user_factors, item_factors, regularisation)\n",
    "        least_squares(i_u, item_factors, user_factors, regularisation)\n",
    "        elapsed = time.time() - s\n",
    "        train_err = rmse(train_users_items, user_factors, item_factors)\n",
    "        train_errors.append(train_err)\n",
    "        test_errors.append(rmse(test_users_items, user_factors, item_factors))\n",
    "        # Print status every 10 iterations.\n",
    "        if (i % 10 == 0):\n",
    "            print(\"Finished iteration {0} in {1:.3f}\".format(i, elapsed))\n",
    "            if prev_rmse > 0:\n",
    "                print(\"Error: {0:.3f}, delta: {1:.3f}\".format(train_err, prev_rmse - train_err))\n",
    "            else:\n",
    "                print(\"Error: {0:.3f}\".format(train_err))\n",
    "        prev_rmse = train_err\n",
    "        \n",
    "    return user_factors, item_factors, train_errors, test_errors"
   ]
  },
  {
   "cell_type": "markdown",
   "metadata": {},
   "source": [
    "## Load Ohio Training & Test Datasets\n",
    "\n",
    "After loading the training dataset, we map the user ids & restaurant ids to row & column indices.\n",
    "These indices are used for constructing the test dataset."
   ]
  },
  {
   "cell_type": "code",
   "execution_count": 50,
   "metadata": {
    "collapsed": true
   },
   "outputs": [],
   "source": [
    "oh_train, oh_train_sparse, oh_u_to_i, oh_r_to_i = create_train('/Users/asciola/workspace/source/more/OH_NO/OH_train_150.csv/part-00000')\n",
    "oh_test, oh_test_sparse = create_test('/Users/asciola/workspace/source/more/OH_NO/OH_test_150.csv/part-00000', oh_u_to_i, oh_r_to_i)"
   ]
  },
  {
   "cell_type": "markdown",
   "metadata": {},
   "source": [
    "## Factorize Test Matrix\n",
    "\n",
    "Using Alternating Least Squares, we repeatedly factorize and approximate the training matrix.\n",
    "There are 3 meta-parameters we can play with:\n",
    "Number of Latent Factors - More factors lead to lower overall error as it represents more of the groupings which exist\n",
    "Number of Iterations - As we repeatedly apply ALS, we're trying to minimise the error at each run. By holding one of the matrices constant, we can solve the decomposition problem, getting a better result, and then using the better result for one matrix to try and get a better result for the other.\n",
    "Regularisation - The higher the regularisation, the less we (hopefully) overfit to the training data."
   ]
  },
  {
   "cell_type": "code",
   "execution_count": 88,
   "metadata": {},
   "outputs": [
    {
     "name": "stdout",
     "output_type": "stream",
     "text": [
      "Finished iteration 0 in 14.572\n",
      "Error: 2.946\n"
     ]
    }
   ],
   "source": [
    "(oh_train_user_factors, oh_train_item_factors,\n",
    " oh_train_errors, oh_test_errors) = fit(oh_train_sparse, oh_test_sparse, 500, 10, 0.5)"
   ]
  },
  {
   "cell_type": "code",
   "execution_count": 93,
   "metadata": {},
   "outputs": [
    {
     "data": {
      "image/png": "[encoded data removed]",
      "text/plain": [
       "<matplotlib.figure.Figure at 0x114317198>"
      ]
     },
     "metadata": {},
     "output_type": "display_data"
    }
   ],
   "source": [
    "graph_rmse_error(oh_train_errors, oh_test_errors)"
   ]
  },
  {
   "cell_type": "code",
   "execution_count": 94,
   "metadata": {},
   "outputs": [
    {
     "name": "stdout",
     "output_type": "stream",
     "text": [
      "Finished iteration 0 in 0.182\n",
      "Error: 3.491\n",
      "Finished iteration 10 in 0.132\n",
      "Error: 3.208, delta: 0.003\n",
      "Finished iteration 20 in 0.168\n",
      "Error: 3.196, delta: 0.001\n",
      "Finished iteration 30 in 0.150\n",
      "Error: 3.191, delta: 0.000\n",
      "Finished iteration 40 in 0.156\n",
      "Error: 3.188, delta: 0.000\n",
      "Finished iteration 50 in 0.125\n",
      "Error: 3.187, delta: 0.000\n",
      "Finished iteration 60 in 0.137\n",
      "Error: 3.186, delta: 0.000\n",
      "Finished iteration 70 in 0.147\n",
      "Error: 3.185, delta: 0.000\n",
      "Finished iteration 80 in 0.138\n",
      "Error: 3.185, delta: 0.000\n",
      "Finished iteration 90 in 0.131\n",
      "Error: 3.185, delta: 0.000\n"
     ]
    }
   ],
   "source": [
    "(oh_train_user_factors, oh_train_item_factors,\n",
    " oh_train_errors, oh_test_errors) = fit(oh_train_sparse, oh_test_sparse, 5, 100, 0.5)"
   ]
  },
  {
   "cell_type": "code",
   "execution_count": 95,
   "metadata": {},
   "outputs": [
    {
     "data": {
      "image/png": "[encoded data removed]",
      "text/plain": [
       "<matplotlib.figure.Figure at 0x1147b5710>"
      ]
     },
     "metadata": {},
     "output_type": "display_data"
    }
   ],
   "source": [
    "graph_rmse_error(oh_train_errors, oh_test_errors)"
   ]
  },
  {
   "cell_type": "markdown",
   "metadata": {},
   "source": [
    "## Conclusions\n",
    "\n",
    "We see that we rapidly approach our best values with only a few iterations. This suggests that there isn't much latent information in the dataset provided.\n",
    "Looking at larger datasets (not restricted to just OH) shows more iterations and more factors help substantially."
   ]
  },
  {
   "cell_type": "code",
   "execution_count": null,
   "metadata": {
    "collapsed": true
   },
   "outputs": [],
   "source": []
  }
 ],
 "metadata": {
  "celltoolbar": "Edit Metadata",
  "kernelspec": {
   "display_name": "Python 3",
   "language": "python",
   "name": "python3"
  },
  "language_info": {
   "codemirror_mode": {
    "name": "ipython",
    "version": 3
   },
   "file_extension": ".py",
   "mimetype": "text/x-python",
   "name": "python",
   "nbconvert_exporter": "python",
   "pygments_lexer": "ipython3",
   "version": "3.6.2"
  }
 },
 "nbformat": 4,
 "nbformat_minor": 2
}
